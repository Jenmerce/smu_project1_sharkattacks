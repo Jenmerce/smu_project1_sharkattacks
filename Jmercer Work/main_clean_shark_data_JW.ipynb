{
 "cells": [
  {
   "cell_type": "code",
   "execution_count": 1,
   "id": "dd8cdde6",
   "metadata": {},
   "outputs": [],
   "source": [
    "import gmaps\n",
    "import pandas as pd\n",
    "import numpy as np\n",
    "import matplotlib.pyplot as plt\n",
    "import requests\n",
    "import json\n",
    "import datetime as dt\n",
    "# from config import gkey\n",
    "# from geopy import geocoders\n",
    "# gmaps.configure(api_key=gkey)"
   ]
  },
  {
   "cell_type": "code",
   "execution_count": 2,
   "id": "4f39cbae",
   "metadata": {
    "scrolled": true
   },
   "outputs": [
    {
     "data": {
      "text/html": [
       "<div>\n",
       "<style scoped>\n",
       "    .dataframe tbody tr th:only-of-type {\n",
       "        vertical-align: middle;\n",
       "    }\n",
       "\n",
       "    .dataframe tbody tr th {\n",
       "        vertical-align: top;\n",
       "    }\n",
       "\n",
       "    .dataframe thead th {\n",
       "        text-align: right;\n",
       "    }\n",
       "</style>\n",
       "<table border=\"1\" class=\"dataframe\">\n",
       "  <thead>\n",
       "    <tr style=\"text-align: right;\">\n",
       "      <th></th>\n",
       "      <th>Case Number</th>\n",
       "      <th>Date</th>\n",
       "      <th>Year</th>\n",
       "      <th>Type</th>\n",
       "      <th>Country</th>\n",
       "      <th>Area</th>\n",
       "      <th>Location</th>\n",
       "      <th>Activity</th>\n",
       "      <th>Name</th>\n",
       "      <th>Sex</th>\n",
       "      <th>Age</th>\n",
       "      <th>Injury</th>\n",
       "      <th>Fatal (Y/N)</th>\n",
       "      <th>Time</th>\n",
       "      <th>Species</th>\n",
       "      <th>Investigator or Source</th>\n",
       "      <th>pdf</th>\n",
       "      <th>href formula</th>\n",
       "      <th>href</th>\n",
       "      <th>Case Number.1</th>\n",
       "      <th>Case Number.2</th>\n",
       "      <th>original order</th>\n",
       "      <th>Unnamed: 22</th>\n",
       "      <th>Unnamed: 23</th>\n",
       "    </tr>\n",
       "  </thead>\n",
       "  <tbody>\n",
       "    <tr>\n",
       "      <th>0</th>\n",
       "      <td>2018.06.25</td>\n",
       "      <td>25-Jun-2018</td>\n",
       "      <td>2018.0</td>\n",
       "      <td>Boating</td>\n",
       "      <td>USA</td>\n",
       "      <td>California</td>\n",
       "      <td>Oceanside, San Diego County</td>\n",
       "      <td>Paddling</td>\n",
       "      <td>Julie Wolfe</td>\n",
       "      <td>F</td>\n",
       "      <td>57</td>\n",
       "      <td>No injury to occupant, outrigger canoe and pad...</td>\n",
       "      <td>N</td>\n",
       "      <td>18h00</td>\n",
       "      <td>White shark</td>\n",
       "      <td>R. Collier, GSAF</td>\n",
       "      <td>2018.06.25-Wolfe.pdf</td>\n",
       "      <td>http://sharkattackfile.net/spreadsheets/pdf_di...</td>\n",
       "      <td>http://sharkattackfile.net/spreadsheets/pdf_di...</td>\n",
       "      <td>2018.06.25</td>\n",
       "      <td>2018.06.25</td>\n",
       "      <td>6303.0</td>\n",
       "      <td>NaN</td>\n",
       "      <td>NaN</td>\n",
       "    </tr>\n",
       "    <tr>\n",
       "      <th>1</th>\n",
       "      <td>2018.06.18</td>\n",
       "      <td>18-Jun-2018</td>\n",
       "      <td>2018.0</td>\n",
       "      <td>Unprovoked</td>\n",
       "      <td>USA</td>\n",
       "      <td>Georgia</td>\n",
       "      <td>St. Simon Island, Glynn County</td>\n",
       "      <td>Standing</td>\n",
       "      <td>Adyson McNeely</td>\n",
       "      <td>F</td>\n",
       "      <td>11</td>\n",
       "      <td>Minor injury to left thigh</td>\n",
       "      <td>N</td>\n",
       "      <td>14h00  -15h00</td>\n",
       "      <td>NaN</td>\n",
       "      <td>K.McMurray, TrackingSharks.com</td>\n",
       "      <td>2018.06.18-McNeely.pdf</td>\n",
       "      <td>http://sharkattackfile.net/spreadsheets/pdf_di...</td>\n",
       "      <td>http://sharkattackfile.net/spreadsheets/pdf_di...</td>\n",
       "      <td>2018.06.18</td>\n",
       "      <td>2018.06.18</td>\n",
       "      <td>6302.0</td>\n",
       "      <td>NaN</td>\n",
       "      <td>NaN</td>\n",
       "    </tr>\n",
       "    <tr>\n",
       "      <th>2</th>\n",
       "      <td>2018.06.09</td>\n",
       "      <td>09-Jun-2018</td>\n",
       "      <td>2018.0</td>\n",
       "      <td>Invalid</td>\n",
       "      <td>USA</td>\n",
       "      <td>Hawaii</td>\n",
       "      <td>Habush, Oahu</td>\n",
       "      <td>Surfing</td>\n",
       "      <td>John Denges</td>\n",
       "      <td>M</td>\n",
       "      <td>48</td>\n",
       "      <td>Injury to left lower leg from surfboard skeg</td>\n",
       "      <td>N</td>\n",
       "      <td>07h45</td>\n",
       "      <td>NaN</td>\n",
       "      <td>K.McMurray, TrackingSharks.com</td>\n",
       "      <td>2018.06.09-Denges.pdf</td>\n",
       "      <td>http://sharkattackfile.net/spreadsheets/pdf_di...</td>\n",
       "      <td>http://sharkattackfile.net/spreadsheets/pdf_di...</td>\n",
       "      <td>2018.06.09</td>\n",
       "      <td>2018.06.09</td>\n",
       "      <td>6301.0</td>\n",
       "      <td>NaN</td>\n",
       "      <td>NaN</td>\n",
       "    </tr>\n",
       "    <tr>\n",
       "      <th>3</th>\n",
       "      <td>2018.06.08</td>\n",
       "      <td>08-Jun-2018</td>\n",
       "      <td>2018.0</td>\n",
       "      <td>Unprovoked</td>\n",
       "      <td>AUSTRALIA</td>\n",
       "      <td>New South Wales</td>\n",
       "      <td>Arrawarra Headland</td>\n",
       "      <td>Surfing</td>\n",
       "      <td>male</td>\n",
       "      <td>M</td>\n",
       "      <td>NaN</td>\n",
       "      <td>Minor injury to lower leg</td>\n",
       "      <td>N</td>\n",
       "      <td>NaN</td>\n",
       "      <td>2 m shark</td>\n",
       "      <td>B. Myatt, GSAF</td>\n",
       "      <td>2018.06.08-Arrawarra.pdf</td>\n",
       "      <td>http://sharkattackfile.net/spreadsheets/pdf_di...</td>\n",
       "      <td>http://sharkattackfile.net/spreadsheets/pdf_di...</td>\n",
       "      <td>2018.06.08</td>\n",
       "      <td>2018.06.08</td>\n",
       "      <td>6300.0</td>\n",
       "      <td>NaN</td>\n",
       "      <td>NaN</td>\n",
       "    </tr>\n",
       "    <tr>\n",
       "      <th>4</th>\n",
       "      <td>2018.06.04</td>\n",
       "      <td>04-Jun-2018</td>\n",
       "      <td>2018.0</td>\n",
       "      <td>Provoked</td>\n",
       "      <td>MEXICO</td>\n",
       "      <td>Colima</td>\n",
       "      <td>La Ticla</td>\n",
       "      <td>Free diving</td>\n",
       "      <td>Gustavo Ramos</td>\n",
       "      <td>M</td>\n",
       "      <td>NaN</td>\n",
       "      <td>Lacerations to leg &amp; hand shark PROVOKED INCIDENT</td>\n",
       "      <td>N</td>\n",
       "      <td>NaN</td>\n",
       "      <td>Tiger shark, 3m</td>\n",
       "      <td>A .Kipper</td>\n",
       "      <td>2018.06.04-Ramos.pdf</td>\n",
       "      <td>http://sharkattackfile.net/spreadsheets/pdf_di...</td>\n",
       "      <td>http://sharkattackfile.net/spreadsheets/pdf_di...</td>\n",
       "      <td>2018.06.04</td>\n",
       "      <td>2018.06.04</td>\n",
       "      <td>6299.0</td>\n",
       "      <td>NaN</td>\n",
       "      <td>NaN</td>\n",
       "    </tr>\n",
       "  </tbody>\n",
       "</table>\n",
       "</div>"
      ],
      "text/plain": [
       "  Case Number         Date    Year        Type    Country             Area  \\\n",
       "0  2018.06.25  25-Jun-2018  2018.0     Boating        USA       California   \n",
       "1  2018.06.18  18-Jun-2018  2018.0  Unprovoked        USA          Georgia   \n",
       "2  2018.06.09  09-Jun-2018  2018.0     Invalid        USA           Hawaii   \n",
       "3  2018.06.08  08-Jun-2018  2018.0  Unprovoked  AUSTRALIA  New South Wales   \n",
       "4  2018.06.04  04-Jun-2018  2018.0    Provoked     MEXICO           Colima   \n",
       "\n",
       "                         Location     Activity             Name Sex   Age  \\\n",
       "0     Oceanside, San Diego County     Paddling      Julie Wolfe    F   57   \n",
       "1  St. Simon Island, Glynn County     Standing  Adyson McNeely     F   11   \n",
       "2                    Habush, Oahu      Surfing      John Denges    M   48   \n",
       "3              Arrawarra Headland      Surfing             male    M  NaN   \n",
       "4                        La Ticla  Free diving   Gustavo Ramos     M  NaN   \n",
       "\n",
       "                                              Injury Fatal (Y/N)  \\\n",
       "0  No injury to occupant, outrigger canoe and pad...           N   \n",
       "1                         Minor injury to left thigh           N   \n",
       "2       Injury to left lower leg from surfboard skeg           N   \n",
       "3                          Minor injury to lower leg           N   \n",
       "4  Lacerations to leg & hand shark PROVOKED INCIDENT           N   \n",
       "\n",
       "            Time         Species           Investigator or Source  \\\n",
       "0          18h00      White shark                R. Collier, GSAF   \n",
       "1  14h00  -15h00              NaN  K.McMurray, TrackingSharks.com   \n",
       "2          07h45              NaN  K.McMurray, TrackingSharks.com   \n",
       "3            NaN        2 m shark                  B. Myatt, GSAF   \n",
       "4            NaN  Tiger shark, 3m                       A .Kipper   \n",
       "\n",
       "                        pdf  \\\n",
       "0      2018.06.25-Wolfe.pdf   \n",
       "1    2018.06.18-McNeely.pdf   \n",
       "2     2018.06.09-Denges.pdf   \n",
       "3  2018.06.08-Arrawarra.pdf   \n",
       "4      2018.06.04-Ramos.pdf   \n",
       "\n",
       "                                        href formula  \\\n",
       "0  http://sharkattackfile.net/spreadsheets/pdf_di...   \n",
       "1  http://sharkattackfile.net/spreadsheets/pdf_di...   \n",
       "2  http://sharkattackfile.net/spreadsheets/pdf_di...   \n",
       "3  http://sharkattackfile.net/spreadsheets/pdf_di...   \n",
       "4  http://sharkattackfile.net/spreadsheets/pdf_di...   \n",
       "\n",
       "                                                href Case Number.1  \\\n",
       "0  http://sharkattackfile.net/spreadsheets/pdf_di...    2018.06.25   \n",
       "1  http://sharkattackfile.net/spreadsheets/pdf_di...    2018.06.18   \n",
       "2  http://sharkattackfile.net/spreadsheets/pdf_di...    2018.06.09   \n",
       "3  http://sharkattackfile.net/spreadsheets/pdf_di...    2018.06.08   \n",
       "4  http://sharkattackfile.net/spreadsheets/pdf_di...    2018.06.04   \n",
       "\n",
       "  Case Number.2  original order Unnamed: 22 Unnamed: 23  \n",
       "0    2018.06.25          6303.0         NaN         NaN  \n",
       "1    2018.06.18          6302.0         NaN         NaN  \n",
       "2    2018.06.09          6301.0         NaN         NaN  \n",
       "3    2018.06.08          6300.0         NaN         NaN  \n",
       "4    2018.06.04          6299.0         NaN         NaN  "
      ]
     },
     "execution_count": 2,
     "metadata": {},
     "output_type": "execute_result"
    }
   ],
   "source": [
    "file=\"Resources/attacks.csv\"\n",
    "pd.set_option('display.max_columns', None)\n",
    "df = pd.read_csv(file,encoding = 'cp1252')\n",
    "df.head()"
   ]
  },
  {
   "cell_type": "markdown",
   "id": "8bd4d090",
   "metadata": {},
   "source": [
    "Read in Shark Attack CSV file"
   ]
  },
  {
   "cell_type": "code",
   "execution_count": 3,
   "id": "403e75c4",
   "metadata": {},
   "outputs": [
    {
     "name": "stdout",
     "output_type": "stream",
     "text": [
      "<class 'pandas.core.frame.DataFrame'>\n",
      "RangeIndex: 25723 entries, 0 to 25722\n",
      "Data columns (total 24 columns):\n",
      " #   Column                  Non-Null Count  Dtype  \n",
      "---  ------                  --------------  -----  \n",
      " 0   Case Number             8702 non-null   object \n",
      " 1   Date                    6302 non-null   object \n",
      " 2   Year                    6300 non-null   float64\n",
      " 3   Type                    6298 non-null   object \n",
      " 4   Country                 6252 non-null   object \n",
      " 5   Area                    5847 non-null   object \n",
      " 6   Location                5762 non-null   object \n",
      " 7   Activity                5758 non-null   object \n",
      " 8   Name                    6092 non-null   object \n",
      " 9   Sex                     5737 non-null   object \n",
      " 10  Age                     3471 non-null   object \n",
      " 11  Injury                  6274 non-null   object \n",
      " 12  Fatal (Y/N)             5763 non-null   object \n",
      " 13  Time                    2948 non-null   object \n",
      " 14  Species                 3464 non-null   object \n",
      " 15  Investigator or Source  6285 non-null   object \n",
      " 16  pdf                     6302 non-null   object \n",
      " 17  href formula            6301 non-null   object \n",
      " 18  href                    6302 non-null   object \n",
      " 19  Case Number.1           6302 non-null   object \n",
      " 20  Case Number.2           6302 non-null   object \n",
      " 21  original order          6309 non-null   float64\n",
      " 22  Unnamed: 22             1 non-null      object \n",
      " 23  Unnamed: 23             2 non-null      object \n",
      "dtypes: float64(2), object(22)\n",
      "memory usage: 4.7+ MB\n"
     ]
    }
   ],
   "source": [
    "df.info()"
   ]
  },
  {
   "cell_type": "markdown",
   "id": "3b84c4aa",
   "metadata": {},
   "source": [
    "Review data information and prepare to drop the columns we will not be using in the EDA."
   ]
  },
  {
   "cell_type": "code",
   "execution_count": 4,
   "id": "d93d4ce0",
   "metadata": {},
   "outputs": [
    {
     "data": {
      "text/plain": [
       "Index(['Case Number', 'Date', 'Year', 'Type', 'Country', 'Area', 'Location',\n",
       "       'Activity', 'Name', 'Sex ', 'Age', 'Injury', 'Fatal (Y/N)', 'Time',\n",
       "       'Species ', 'Investigator or Source', 'pdf', 'href formula', 'href',\n",
       "       'Case Number.1', 'Case Number.2', 'original order', 'Unnamed: 22',\n",
       "       'Unnamed: 23'],\n",
       "      dtype='object')"
      ]
     },
     "execution_count": 4,
     "metadata": {},
     "output_type": "execute_result"
    }
   ],
   "source": [
    "df.columns\n"
   ]
  },
  {
   "cell_type": "code",
   "execution_count": 5,
   "id": "7a915d6f",
   "metadata": {},
   "outputs": [
    {
     "data": {
      "text/html": [
       "<div>\n",
       "<style scoped>\n",
       "    .dataframe tbody tr th:only-of-type {\n",
       "        vertical-align: middle;\n",
       "    }\n",
       "\n",
       "    .dataframe tbody tr th {\n",
       "        vertical-align: top;\n",
       "    }\n",
       "\n",
       "    .dataframe thead th {\n",
       "        text-align: right;\n",
       "    }\n",
       "</style>\n",
       "<table border=\"1\" class=\"dataframe\">\n",
       "  <thead>\n",
       "    <tr style=\"text-align: right;\">\n",
       "      <th></th>\n",
       "      <th>Case Number</th>\n",
       "      <th>Date</th>\n",
       "      <th>Year</th>\n",
       "      <th>Type</th>\n",
       "      <th>Country</th>\n",
       "      <th>Area</th>\n",
       "      <th>Location</th>\n",
       "      <th>Activity</th>\n",
       "      <th>Sex</th>\n",
       "      <th>Age</th>\n",
       "      <th>Injury</th>\n",
       "      <th>Fatal (Y/N)</th>\n",
       "    </tr>\n",
       "  </thead>\n",
       "  <tbody>\n",
       "    <tr>\n",
       "      <th>0</th>\n",
       "      <td>2018.06.25</td>\n",
       "      <td>25-Jun-2018</td>\n",
       "      <td>2018.0</td>\n",
       "      <td>Boating</td>\n",
       "      <td>USA</td>\n",
       "      <td>California</td>\n",
       "      <td>Oceanside, San Diego County</td>\n",
       "      <td>Paddling</td>\n",
       "      <td>F</td>\n",
       "      <td>57</td>\n",
       "      <td>No injury to occupant, outrigger canoe and pad...</td>\n",
       "      <td>N</td>\n",
       "    </tr>\n",
       "    <tr>\n",
       "      <th>1</th>\n",
       "      <td>2018.06.18</td>\n",
       "      <td>18-Jun-2018</td>\n",
       "      <td>2018.0</td>\n",
       "      <td>Unprovoked</td>\n",
       "      <td>USA</td>\n",
       "      <td>Georgia</td>\n",
       "      <td>St. Simon Island, Glynn County</td>\n",
       "      <td>Standing</td>\n",
       "      <td>F</td>\n",
       "      <td>11</td>\n",
       "      <td>Minor injury to left thigh</td>\n",
       "      <td>N</td>\n",
       "    </tr>\n",
       "    <tr>\n",
       "      <th>2</th>\n",
       "      <td>2018.06.09</td>\n",
       "      <td>09-Jun-2018</td>\n",
       "      <td>2018.0</td>\n",
       "      <td>Invalid</td>\n",
       "      <td>USA</td>\n",
       "      <td>Hawaii</td>\n",
       "      <td>Habush, Oahu</td>\n",
       "      <td>Surfing</td>\n",
       "      <td>M</td>\n",
       "      <td>48</td>\n",
       "      <td>Injury to left lower leg from surfboard skeg</td>\n",
       "      <td>N</td>\n",
       "    </tr>\n",
       "    <tr>\n",
       "      <th>3</th>\n",
       "      <td>2018.06.08</td>\n",
       "      <td>08-Jun-2018</td>\n",
       "      <td>2018.0</td>\n",
       "      <td>Unprovoked</td>\n",
       "      <td>AUSTRALIA</td>\n",
       "      <td>New South Wales</td>\n",
       "      <td>Arrawarra Headland</td>\n",
       "      <td>Surfing</td>\n",
       "      <td>M</td>\n",
       "      <td>NaN</td>\n",
       "      <td>Minor injury to lower leg</td>\n",
       "      <td>N</td>\n",
       "    </tr>\n",
       "    <tr>\n",
       "      <th>4</th>\n",
       "      <td>2018.06.04</td>\n",
       "      <td>04-Jun-2018</td>\n",
       "      <td>2018.0</td>\n",
       "      <td>Provoked</td>\n",
       "      <td>MEXICO</td>\n",
       "      <td>Colima</td>\n",
       "      <td>La Ticla</td>\n",
       "      <td>Free diving</td>\n",
       "      <td>M</td>\n",
       "      <td>NaN</td>\n",
       "      <td>Lacerations to leg &amp; hand shark PROVOKED INCIDENT</td>\n",
       "      <td>N</td>\n",
       "    </tr>\n",
       "  </tbody>\n",
       "</table>\n",
       "</div>"
      ],
      "text/plain": [
       "  Case Number         Date    Year        Type    Country             Area  \\\n",
       "0  2018.06.25  25-Jun-2018  2018.0     Boating        USA       California   \n",
       "1  2018.06.18  18-Jun-2018  2018.0  Unprovoked        USA          Georgia   \n",
       "2  2018.06.09  09-Jun-2018  2018.0     Invalid        USA           Hawaii   \n",
       "3  2018.06.08  08-Jun-2018  2018.0  Unprovoked  AUSTRALIA  New South Wales   \n",
       "4  2018.06.04  04-Jun-2018  2018.0    Provoked     MEXICO           Colima   \n",
       "\n",
       "                         Location     Activity Sex   Age  \\\n",
       "0     Oceanside, San Diego County     Paddling    F   57   \n",
       "1  St. Simon Island, Glynn County     Standing    F   11   \n",
       "2                    Habush, Oahu      Surfing    M   48   \n",
       "3              Arrawarra Headland      Surfing    M  NaN   \n",
       "4                        La Ticla  Free diving    M  NaN   \n",
       "\n",
       "                                              Injury Fatal (Y/N)  \n",
       "0  No injury to occupant, outrigger canoe and pad...           N  \n",
       "1                         Minor injury to left thigh           N  \n",
       "2       Injury to left lower leg from surfboard skeg           N  \n",
       "3                          Minor injury to lower leg           N  \n",
       "4  Lacerations to leg & hand shark PROVOKED INCIDENT           N  "
      ]
     },
     "execution_count": 5,
     "metadata": {},
     "output_type": "execute_result"
    }
   ],
   "source": [
    "df2 = df.drop(['Name',  'Time',\n",
    "       'Species ', 'Investigator or Source', 'pdf', 'href formula', 'href',\n",
    "       'Case Number.1', 'Case Number.2', 'original order', 'Unnamed: 22',\n",
    "       'Unnamed: 23'], axis=1)\n",
    "df2. head()"
   ]
  },
  {
   "cell_type": "markdown",
   "id": "0f574d22",
   "metadata": {},
   "source": [
    "Get the column names and then drop the columns that we will not be using in the EDA."
   ]
  },
  {
   "cell_type": "code",
   "execution_count": 6,
   "id": "9a273a1a",
   "metadata": {},
   "outputs": [
    {
     "name": "stdout",
     "output_type": "stream",
     "text": [
      "<class 'pandas.core.frame.DataFrame'>\n",
      "RangeIndex: 25723 entries, 0 to 25722\n",
      "Data columns (total 12 columns):\n",
      " #   Column       Non-Null Count  Dtype  \n",
      "---  ------       --------------  -----  \n",
      " 0   Case Number  8702 non-null   object \n",
      " 1   Date         6302 non-null   object \n",
      " 2   Year         6300 non-null   float64\n",
      " 3   Type         6298 non-null   object \n",
      " 4   Country      6252 non-null   object \n",
      " 5   Area         5847 non-null   object \n",
      " 6   Location     5762 non-null   object \n",
      " 7   Activity     5758 non-null   object \n",
      " 8   Sex          5737 non-null   object \n",
      " 9   Age          3471 non-null   object \n",
      " 10  Injury       6274 non-null   object \n",
      " 11  Fatal (Y/N)  5763 non-null   object \n",
      "dtypes: float64(1), object(11)\n",
      "memory usage: 2.4+ MB\n"
     ]
    }
   ],
   "source": [
    "df2.info()"
   ]
  },
  {
   "cell_type": "code",
   "execution_count": 7,
   "id": "7a753ab7",
   "metadata": {},
   "outputs": [
    {
     "name": "stdout",
     "output_type": "stream",
     "text": [
      "<class 'pandas.core.frame.DataFrame'>\n",
      "RangeIndex: 25723 entries, 0 to 25722\n",
      "Data columns (total 12 columns):\n",
      " #   Column       Non-Null Count  Dtype  \n",
      "---  ------       --------------  -----  \n",
      " 0   case_number  8702 non-null   object \n",
      " 1   date         6302 non-null   object \n",
      " 2   year         6300 non-null   float64\n",
      " 3   type         6298 non-null   object \n",
      " 4   country      6252 non-null   object \n",
      " 5   area         5847 non-null   object \n",
      " 6   location     5762 non-null   object \n",
      " 7   activity     5758 non-null   object \n",
      " 8   gender       5737 non-null   object \n",
      " 9   age          3471 non-null   object \n",
      " 10  injury       6274 non-null   object \n",
      " 11  fatal        5763 non-null   object \n",
      "dtypes: float64(1), object(11)\n",
      "memory usage: 2.4+ MB\n"
     ]
    }
   ],
   "source": [
    "df2 = df2.rename(columns={\"Case Number\": \"case_number\", \n",
    "                        \"Date\": \"date\", \n",
    "                        \"Year\": \"year\", \n",
    "                        \"Type\": \"type\", \n",
    "                        \"Country\": \"country\", \n",
    "                        \"Area\": \"area\",\n",
    "                        \"Location\": \"location\",\n",
    "                        \"Activity\": \"activity\",\n",
    "                        \"Sex \": \"gender\",\n",
    "                        \"Age\": \"age\",\n",
    "                        \"Injury\": \"injury\",\n",
    "                        \"Fatal (Y/N)\": \"fatal\",})\n",
    "df2.info()"
   ]
  },
  {
   "cell_type": "code",
   "execution_count": 8,
   "id": "c7d3b21e",
   "metadata": {},
   "outputs": [],
   "source": [
    "df2.drop_duplicates(subset=\"case_number\", inplace=True)"
   ]
  },
  {
   "cell_type": "markdown",
   "id": "713f677d",
   "metadata": {},
   "source": [
    "Remove duplicate case numbers/incident reports"
   ]
  },
  {
   "cell_type": "code",
   "execution_count": 9,
   "id": "71c206d9",
   "metadata": {},
   "outputs": [
    {
     "name": "stdout",
     "output_type": "stream",
     "text": [
      "<class 'pandas.core.frame.DataFrame'>\n",
      "Int64Index: 6288 entries, 0 to 25722\n",
      "Data columns (total 12 columns):\n",
      " #   Column       Non-Null Count  Dtype  \n",
      "---  ------       --------------  -----  \n",
      " 0   case_number  6287 non-null   object \n",
      " 1   date         6286 non-null   object \n",
      " 2   year         6284 non-null   float64\n",
      " 3   type         6282 non-null   object \n",
      " 4   country      6236 non-null   object \n",
      " 5   area         5832 non-null   object \n",
      " 6   location     5746 non-null   object \n",
      " 7   activity     5744 non-null   object \n",
      " 8   gender       5722 non-null   object \n",
      " 9   age          3465 non-null   object \n",
      " 10  injury       6258 non-null   object \n",
      " 11  fatal        5751 non-null   object \n",
      "dtypes: float64(1), object(11)\n",
      "memory usage: 638.6+ KB\n"
     ]
    }
   ],
   "source": [
    "df2.info()"
   ]
  },
  {
   "cell_type": "code",
   "execution_count": 10,
   "id": "aa5f3993",
   "metadata": {},
   "outputs": [],
   "source": [
    "compression_opts = dict(method='zip',\n",
    "                        archive_name='out.csv')  \n",
    "df2.to_csv('out.zip', index=False,\n",
    "          compression=compression_opts)  "
   ]
  },
  {
   "cell_type": "markdown",
   "id": "1394be26",
   "metadata": {},
   "source": [
    "Print to CSV file to check that data cleaning was correct."
   ]
  },
  {
   "cell_type": "code",
   "execution_count": 11,
   "id": "40de3774",
   "metadata": {},
   "outputs": [],
   "source": [
    "df2 = df2[(df2['year'] >= 2000)]"
   ]
  },
  {
   "cell_type": "code",
   "execution_count": 12,
   "id": "9303de5d",
   "metadata": {},
   "outputs": [
    {
     "name": "stdout",
     "output_type": "stream",
     "text": [
      "<class 'pandas.core.frame.DataFrame'>\n",
      "Int64Index: 2072 entries, 0 to 2078\n",
      "Data columns (total 12 columns):\n",
      " #   Column       Non-Null Count  Dtype  \n",
      "---  ------       --------------  -----  \n",
      " 0   case_number  2072 non-null   object \n",
      " 1   date         2072 non-null   object \n",
      " 2   year         2072 non-null   float64\n",
      " 3   type         2070 non-null   object \n",
      " 4   country      2070 non-null   object \n",
      " 5   area         1982 non-null   object \n",
      " 6   location     1985 non-null   object \n",
      " 7   activity     1981 non-null   object \n",
      " 8   gender       1969 non-null   object \n",
      " 9   age          1549 non-null   object \n",
      " 10  injury       2070 non-null   object \n",
      " 11  fatal        1913 non-null   object \n",
      "dtypes: float64(1), object(11)\n",
      "memory usage: 210.4+ KB\n"
     ]
    }
   ],
   "source": [
    "df2.info()"
   ]
  },
  {
   "cell_type": "markdown",
   "id": "25bacc3a",
   "metadata": {},
   "source": [
    "Filter out the years we are not including in the analysis. \n",
    "\n",
    "Summary:\n",
    "1. We read in our CSV file\n",
    "2. We reviewed the data types and column row counts\n",
    "3. We dropped the irrelvant columns to our analysis\n",
    "4. We removed the duplicates in case numbers/incident reports\n",
    "5. Printed data to CSV file to double check the work\n",
    "6. We filtered out years prior to 2000"
   ]
  },
  {
   "cell_type": "code",
   "execution_count": 13,
   "id": "54d45daa",
   "metadata": {
    "scrolled": false
   },
   "outputs": [
    {
     "data": {
      "image/png": "[encoded data removed]",
      "text/plain": [
       "<Figure size 720x504 with 1 Axes>"
      ]
     },
     "metadata": {},
     "output_type": "display_data"
    }
   ],
   "source": [
    "\n",
    "plt.figure(facecolor=\"#05486c\",figsize =(10, 7))\n",
    "ax = plt.axes()\n",
    "ax.set_facecolor(\"#f7f0de\")\n",
    "df2['country'].value_counts().head(7).sort_values(ascending=True).plot(kind='barh',color=\"#e91d25\",width =.9)\n",
    "\n",
    "\n",
    "plt.xlabel(\"No. of Reported Shark Attacks\", fontsize=16,color=\"#f7f0de\")\n",
    "#plt.xticks(rotation=0)\n",
    "plt.title(\"2000 - 2018 No. of Reported Shark Attacks Top 7 Countries\", fontsize=20, color=\"#f7f0de\")\n",
    "ax.set_axisbelow(True)\n",
    "ax.grid(axis='x',linestyle='dashed',color='#8fa7c0',linewidth=1)\n",
    "ax.tick_params( labelcolor='#f7f0de')\n",
    "\n",
    "plt.show()"
   ]
  },
  {
   "cell_type": "markdown",
   "id": "c75e214c",
   "metadata": {},
   "source": [
    "Graphed shows the number of reported shark attacks for the top 7 countries from 2000 - 2018. Many countries in the world either do not report their shark attacks or just have signicantly less exposure to the situation."
   ]
  },
  {
   "cell_type": "code",
   "execution_count": 35,
   "id": "3def5353",
   "metadata": {},
   "outputs": [
    {
     "data": {
      "application/vnd.plotly.v1+json": {
       "config": {
        "plotlyServerURL": "https://plot.ly"
       },
       "data": [
        {
         "coloraxis": "coloraxis",
         "geo": "geo",
         "hovertemplate": "country=%{location}<br>size=%{z}<extra></extra>",
         "locationmode": "country names",
         "locations": [
          "USA",
          "AUSTRALIA",
          "SOUTH AFRICA",
          "BRAZIL",
          "BAHAMAS",
          "NEW ZEALAND",
          "REUNION",
          "NEW CALEDONIA",
          "MEXICO",
          "EGYPT",
          "FRENCH POLYNESIA",
          "SPAIN",
          "FIJI",
          "PHILIPPINES",
          "VIETNAM",
          "PAPUA NEW GUINEA",
          "COSTA RICA",
          "INDONESIA",
          "ECUADOR",
          "JAPAN",
          "THAILAND",
          "MOZAMBIQUE",
          "UNITED KINGDOM",
          "CUBA",
          "TANZANIA",
          "SOLOMON ISLANDS",
          "TURKS & CAICOS",
          "ITALY",
          "SCOTLAND",
          "RUSSIA",
          "MALAYSIA",
          "SEYCHELLES",
          "ENGLAND",
          "TONGA",
          "ATLANTIC OCEAN",
          "VENEZUELA",
          "TAIWAN",
          "GUAM",
          "PANAMA",
          "MADAGASCAR",
          " TONGA",
          "COLUMBIA",
          "JAMAICA",
          "DOMINICAN REPUBLIC",
          "SAMOA",
          "SOUTH KOREA",
          "UNITED ARAB EMIRATES",
          "UNITED ARAB EMIRATES (UAE)",
          "VANUATU",
          "ST HELENA, British overseas territory",
          "TRINIDAD & TOBAGO",
          "MAURITIUS",
          "KENYA",
          "FRANCE",
          "AZORES",
          "BELIZE",
          "CANADA",
          "CAYMAN ISLANDS",
          "CHINA",
          "CROATIA",
          "MICRONESIA",
          "ST. MAARTIN",
          "ST. MARTIN",
          "Seychelles",
          "Sierra Leone",
          "DIEGO GARCIA",
          "CHILE",
          "COMOROS",
          "Fiji",
          "CARIBBEAN SEA",
          "CAPE VERDE",
          "URUGUAY",
          "BRITISH VIRGIN ISLANDS",
          "ARUBA",
          "SRI LANKA",
          "GRAND CAYMAN",
          "NEVIS",
          "LIBYA",
          "MEXICO ",
          "ANTIGUA",
          "NIGERIA",
          "NORWAY",
          "OKINAWA",
          "PALESTINIAN TERRITORIES",
          "MALTA",
          "MALDIVES",
          "PUERTO RICO",
          "GREECE",
          "LIBERIA",
          "KIRIBATI",
          "SAUDI ARABIA",
          "ISRAEL",
          "SENEGAL",
          "INDIA",
          "GULF OF ADEN",
          "SOMALIA",
          "YEMEN"
         ],
         "name": "",
         "type": "choropleth",
         "z": [
          1011,
          395,
          135,
          56,
          54,
          43,
          31,
          26,
          25,
          21,
          17,
          16,
          13,
          10,
          10,
          9,
          8,
          7,
          7,
          7,
          6,
          6,
          6,
          6,
          5,
          5,
          5,
          4,
          4,
          4,
          4,
          4,
          4,
          4,
          4,
          4,
          4,
          3,
          3,
          3,
          3,
          3,
          3,
          3,
          2,
          2,
          2,
          2,
          2,
          2,
          2,
          2,
          2,
          2,
          2,
          2,
          2,
          2,
          2,
          2,
          1,
          1,
          1,
          1,
          1,
          1,
          1,
          1,
          1,
          1,
          1,
          1,
          1,
          1,
          1,
          1,
          1,
          1,
          1,
          1,
          1,
          1,
          1,
          1,
          1,
          1,
          1,
          1,
          1,
          1,
          1,
          1,
          1,
          1,
          1,
          1,
          1
         ]
        }
       ],
       "layout": {
        "coloraxis": {
         "cmax": 1200,
         "cmin": 0,
         "colorbar": {
          "title": {
           "text": "size"
          }
         },
         "colorscale": [
          [
           0,
           "rgb(247,251,255)"
          ],
          [
           0.125,
           "rgb(222,235,247)"
          ],
          [
           0.25,
           "rgb(198,219,239)"
          ],
          [
           0.375,
           "rgb(158,202,225)"
          ],
          [
           0.5,
           "rgb(107,174,214)"
          ],
          [
           0.625,
           "rgb(66,146,198)"
          ],
          [
           0.75,
           "rgb(33,113,181)"
          ],
          [
           0.875,
           "rgb(8,81,156)"
          ],
          [
           1,
           "rgb(8,48,107)"
          ]
         ]
        },
        "geo": {
         "center": {},
         "domain": {
          "x": [
           0,
           1
          ],
          "y": [
           0,
           1
          ]
         },
         "scope": "world"
        },
        "height": 400,
        "legend": {
         "tracegroupgap": 0
        },
        "margin": {
         "t": 60
        },
        "template": {
         "data": {
          "bar": [
           {
            "error_x": {
             "color": "#2a3f5f"
            },
            "error_y": {
             "color": "#2a3f5f"
            },
            "marker": {
             "line": {
              "color": "#E5ECF6",
              "width": 0.5
             },
             "pattern": {
              "fillmode": "overlay",
              "size": 10,
              "solidity": 0.2
             }
            },
            "type": "bar"
           }
          ],
          "barpolar": [
           {
            "marker": {
             "line": {
              "color": "#E5ECF6",
              "width": 0.5
             },
             "pattern": {
              "fillmode": "overlay",
              "size": 10,
              "solidity": 0.2
             }
            },
            "type": "barpolar"
           }
          ],
          "carpet": [
           {
            "aaxis": {
             "endlinecolor": "#2a3f5f",
             "gridcolor": "white",
             "linecolor": "white",
             "minorgridcolor": "white",
             "startlinecolor": "#2a3f5f"
            },
            "baxis": {
             "endlinecolor": "#2a3f5f",
             "gridcolor": "white",
             "linecolor": "white",
             "minorgridcolor": "white",
             "startlinecolor": "#2a3f5f"
            },
            "type": "carpet"
           }
          ],
          "choropleth": [
           {
            "colorbar": {
             "outlinewidth": 0,
             "ticks": ""
            },
            "type": "choropleth"
           }
          ],
          "contour": [
           {
            "colorbar": {
             "outlinewidth": 0,
             "ticks": ""
            },
            "colorscale": [
             [
              0,
              "#0d0887"
             ],
             [
              0.1111111111111111,
              "#46039f"
             ],
             [
              0.2222222222222222,
              "#7201a8"
             ],
             [
              0.3333333333333333,
              "#9c179e"
             ],
             [
              0.4444444444444444,
              "#bd3786"
             ],
             [
              0.5555555555555556,
              "#d8576b"
             ],
             [
              0.6666666666666666,
              "#ed7953"
             ],
             [
              0.7777777777777778,
              "#fb9f3a"
             ],
             [
              0.8888888888888888,
              "#fdca26"
             ],
             [
              1,
              "#f0f921"
             ]
            ],
            "type": "contour"
           }
          ],
          "contourcarpet": [
           {
            "colorbar": {
             "outlinewidth": 0,
             "ticks": ""
            },
            "type": "contourcarpet"
           }
          ],
          "heatmap": [
           {
            "colorbar": {
             "outlinewidth": 0,
             "ticks": ""
            },
            "colorscale": [
             [
              0,
              "#0d0887"
             ],
             [
              0.1111111111111111,
              "#46039f"
             ],
             [
              0.2222222222222222,
              "#7201a8"
             ],
             [
              0.3333333333333333,
              "#9c179e"
             ],
             [
              0.4444444444444444,
              "#bd3786"
             ],
             [
              0.5555555555555556,
              "#d8576b"
             ],
             [
              0.6666666666666666,
              "#ed7953"
             ],
             [
              0.7777777777777778,
              "#fb9f3a"
             ],
             [
              0.8888888888888888,
              "#fdca26"
             ],
             [
              1,
              "#f0f921"
             ]
            ],
            "type": "heatmap"
           }
          ],
          "heatmapgl": [
           {
            "colorbar": {
             "outlinewidth": 0,
             "ticks": ""
            },
            "colorscale": [
             [
              0,
              "#0d0887"
             ],
             [
              0.1111111111111111,
              "#46039f"
             ],
             [
              0.2222222222222222,
              "#7201a8"
             ],
             [
              0.3333333333333333,
              "#9c179e"
             ],
             [
              0.4444444444444444,
              "#bd3786"
             ],
             [
              0.5555555555555556,
              "#d8576b"
             ],
             [
              0.6666666666666666,
              "#ed7953"
             ],
             [
              0.7777777777777778,
              "#fb9f3a"
             ],
             [
              0.8888888888888888,
              "#fdca26"
             ],
             [
              1,
              "#f0f921"
             ]
            ],
            "type": "heatmapgl"
           }
          ],
          "histogram": [
           {
            "marker": {
             "pattern": {
              "fillmode": "overlay",
              "size": 10,
              "solidity": 0.2
             }
            },
            "type": "histogram"
           }
          ],
          "histogram2d": [
           {
            "colorbar": {
             "outlinewidth": 0,
             "ticks": ""
            },
            "colorscale": [
             [
              0,
              "#0d0887"
             ],
             [
              0.1111111111111111,
              "#46039f"
             ],
             [
              0.2222222222222222,
              "#7201a8"
             ],
             [
              0.3333333333333333,
              "#9c179e"
             ],
             [
              0.4444444444444444,
              "#bd3786"
             ],
             [
              0.5555555555555556,
              "#d8576b"
             ],
             [
              0.6666666666666666,
              "#ed7953"
             ],
             [
              0.7777777777777778,
              "#fb9f3a"
             ],
             [
              0.8888888888888888,
              "#fdca26"
             ],
             [
              1,
              "#f0f921"
             ]
            ],
            "type": "histogram2d"
           }
          ],
          "histogram2dcontour": [
           {
            "colorbar": {
             "outlinewidth": 0,
             "ticks": ""
            },
            "colorscale": [
             [
              0,
              "#0d0887"
             ],
             [
              0.1111111111111111,
              "#46039f"
             ],
             [
              0.2222222222222222,
              "#7201a8"
             ],
             [
              0.3333333333333333,
              "#9c179e"
             ],
             [
              0.4444444444444444,
              "#bd3786"
             ],
             [
              0.5555555555555556,
              "#d8576b"
             ],
             [
              0.6666666666666666,
              "#ed7953"
             ],
             [
              0.7777777777777778,
              "#fb9f3a"
             ],
             [
              0.8888888888888888,
              "#fdca26"
             ],
             [
              1,
              "#f0f921"
             ]
            ],
            "type": "histogram2dcontour"
           }
          ],
          "mesh3d": [
           {
            "colorbar": {
             "outlinewidth": 0,
             "ticks": ""
            },
            "type": "mesh3d"
           }
          ],
          "parcoords": [
           {
            "line": {
             "colorbar": {
              "outlinewidth": 0,
              "ticks": ""
             }
            },
            "type": "parcoords"
           }
          ],
          "pie": [
           {
            "automargin": true,
            "type": "pie"
           }
          ],
          "scatter": [
           {
            "fillpattern": {
             "fillmode": "overlay",
             "size": 10,
             "solidity": 0.2
            },
            "type": "scatter"
           }
          ],
          "scatter3d": [
           {
            "line": {
             "colorbar": {
              "outlinewidth": 0,
              "ticks": ""
             }
            },
            "marker": {
             "colorbar": {
              "outlinewidth": 0,
              "ticks": ""
             }
            },
            "type": "scatter3d"
           }
          ],
          "scattercarpet": [
           {
            "marker": {
             "colorbar": {
              "outlinewidth": 0,
              "ticks": ""
             }
            },
            "type": "scattercarpet"
           }
          ],
          "scattergeo": [
           {
            "marker": {
             "colorbar": {
              "outlinewidth": 0,
              "ticks": ""
             }
            },
            "type": "scattergeo"
           }
          ],
          "scattergl": [
           {
            "marker": {
             "colorbar": {
              "outlinewidth": 0,
              "ticks": ""
             }
            },
            "type": "scattergl"
           }
          ],
          "scattermapbox": [
           {
            "marker": {
             "colorbar": {
              "outlinewidth": 0,
              "ticks": ""
             }
            },
            "type": "scattermapbox"
           }
          ],
          "scatterpolar": [
           {
            "marker": {
             "colorbar": {
              "outlinewidth": 0,
              "ticks": ""
             }
            },
            "type": "scatterpolar"
           }
          ],
          "scatterpolargl": [
           {
            "marker": {
             "colorbar": {
              "outlinewidth": 0,
              "ticks": ""
             }
            },
            "type": "scatterpolargl"
           }
          ],
          "scatterternary": [
           {
            "marker": {
             "colorbar": {
              "outlinewidth": 0,
              "ticks": ""
             }
            },
            "type": "scatterternary"
           }
          ],
          "surface": [
           {
            "colorbar": {
             "outlinewidth": 0,
             "ticks": ""
            },
            "colorscale": [
             [
              0,
              "#0d0887"
             ],
             [
              0.1111111111111111,
              "#46039f"
             ],
             [
              0.2222222222222222,
              "#7201a8"
             ],
             [
              0.3333333333333333,
              "#9c179e"
             ],
             [
              0.4444444444444444,
              "#bd3786"
             ],
             [
              0.5555555555555556,
              "#d8576b"
             ],
             [
              0.6666666666666666,
              "#ed7953"
             ],
             [
              0.7777777777777778,
              "#fb9f3a"
             ],
             [
              0.8888888888888888,
              "#fdca26"
             ],
             [
              1,
              "#f0f921"
             ]
            ],
            "type": "surface"
           }
          ],
          "table": [
           {
            "cells": {
             "fill": {
              "color": "#EBF0F8"
             },
             "line": {
              "color": "white"
             }
            },
            "header": {
             "fill": {
              "color": "#C8D4E3"
             },
             "line": {
              "color": "white"
             }
            },
            "type": "table"
           }
          ]
         },
         "layout": {
          "annotationdefaults": {
           "arrowcolor": "#2a3f5f",
           "arrowhead": 0,
           "arrowwidth": 1
          },
          "autotypenumbers": "strict",
          "coloraxis": {
           "colorbar": {
            "outlinewidth": 0,
            "ticks": ""
           }
          },
          "colorscale": {
           "diverging": [
            [
             0,
             "#8e0152"
            ],
            [
             0.1,
             "#c51b7d"
            ],
            [
             0.2,
             "#de77ae"
            ],
            [
             0.3,
             "#f1b6da"
            ],
            [
             0.4,
             "#fde0ef"
            ],
            [
             0.5,
             "#f7f7f7"
            ],
            [
             0.6,
             "#e6f5d0"
            ],
            [
             0.7,
             "#b8e186"
            ],
            [
             0.8,
             "#7fbc41"
            ],
            [
             0.9,
             "#4d9221"
            ],
            [
             1,
             "#276419"
            ]
           ],
           "sequential": [
            [
             0,
             "#0d0887"
            ],
            [
             0.1111111111111111,
             "#46039f"
            ],
            [
             0.2222222222222222,
             "#7201a8"
            ],
            [
             0.3333333333333333,
             "#9c179e"
            ],
            [
             0.4444444444444444,
             "#bd3786"
            ],
            [
             0.5555555555555556,
             "#d8576b"
            ],
            [
             0.6666666666666666,
             "#ed7953"
            ],
            [
             0.7777777777777778,
             "#fb9f3a"
            ],
            [
             0.8888888888888888,
             "#fdca26"
            ],
            [
             1,
             "#f0f921"
            ]
           ],
           "sequentialminus": [
            [
             0,
             "#0d0887"
            ],
            [
             0.1111111111111111,
             "#46039f"
            ],
            [
             0.2222222222222222,
             "#7201a8"
            ],
            [
             0.3333333333333333,
             "#9c179e"
            ],
            [
             0.4444444444444444,
             "#bd3786"
            ],
            [
             0.5555555555555556,
             "#d8576b"
            ],
            [
             0.6666666666666666,
             "#ed7953"
            ],
            [
             0.7777777777777778,
             "#fb9f3a"
            ],
            [
             0.8888888888888888,
             "#fdca26"
            ],
            [
             1,
             "#f0f921"
            ]
           ]
          },
          "colorway": [
           "#636efa",
           "#EF553B",
           "#00cc96",
           "#ab63fa",
           "#FFA15A",
           "#19d3f3",
           "#FF6692",
           "#B6E880",
           "#FF97FF",
           "#FECB52"
          ],
          "font": {
           "color": "#2a3f5f"
          },
          "geo": {
           "bgcolor": "white",
           "lakecolor": "white",
           "landcolor": "#E5ECF6",
           "showlakes": true,
           "showland": true,
           "subunitcolor": "white"
          },
          "hoverlabel": {
           "align": "left"
          },
          "hovermode": "closest",
          "mapbox": {
           "style": "light"
          },
          "paper_bgcolor": "white",
          "plot_bgcolor": "#E5ECF6",
          "polar": {
           "angularaxis": {
            "gridcolor": "white",
            "linecolor": "white",
            "ticks": ""
           },
           "bgcolor": "#E5ECF6",
           "radialaxis": {
            "gridcolor": "white",
            "linecolor": "white",
            "ticks": ""
           }
          },
          "scene": {
           "xaxis": {
            "backgroundcolor": "#E5ECF6",
            "gridcolor": "white",
            "gridwidth": 2,
            "linecolor": "white",
            "showbackground": true,
            "ticks": "",
            "zerolinecolor": "white"
           },
           "yaxis": {
            "backgroundcolor": "#E5ECF6",
            "gridcolor": "white",
            "gridwidth": 2,
            "linecolor": "white",
            "showbackground": true,
            "ticks": "",
            "zerolinecolor": "white"
           },
           "zaxis": {
            "backgroundcolor": "#E5ECF6",
            "gridcolor": "white",
            "gridwidth": 2,
            "linecolor": "white",
            "showbackground": true,
            "ticks": "",
            "zerolinecolor": "white"
           }
          },
          "shapedefaults": {
           "line": {
            "color": "#2a3f5f"
           }
          },
          "ternary": {
           "aaxis": {
            "gridcolor": "white",
            "linecolor": "white",
            "ticks": ""
           },
           "baxis": {
            "gridcolor": "white",
            "linecolor": "white",
            "ticks": ""
           },
           "bgcolor": "#E5ECF6",
           "caxis": {
            "gridcolor": "white",
            "linecolor": "white",
            "ticks": ""
           }
          },
          "title": {
           "x": 0.05
          },
          "xaxis": {
           "automargin": true,
           "gridcolor": "white",
           "linecolor": "white",
           "ticks": "",
           "title": {
            "standoff": 15
           },
           "zerolinecolor": "white",
           "zerolinewidth": 2
          },
          "yaxis": {
           "automargin": true,
           "gridcolor": "white",
           "linecolor": "white",
           "ticks": "",
           "title": {
            "standoff": 15
           },
           "zerolinecolor": "white",
           "zerolinewidth": 2
          }
         }
        }
       }
      },
      "text/html": [
       "<div>                            <div id=\"3e659bb8-72b3-4f03-a6d7-d886da8a5f43\" class=\"plotly-graph-div\" style=\"height:400px; width:100%;\"></div>            <script type=\"text/javascript\">                require([\"plotly\"], function(Plotly) {                    window.PLOTLYENV=window.PLOTLYENV || {};                                    if (document.getElementById(\"3e659bb8-72b3-4f03-a6d7-d886da8a5f43\")) {                    Plotly.newPlot(                        \"3e659bb8-72b3-4f03-a6d7-d886da8a5f43\",                        [{\"coloraxis\":\"coloraxis\",\"geo\":\"geo\",\"hovertemplate\":\"country=%{location}<br>size=%{z}<extra></extra>\",\"locationmode\":\"country names\",\"locations\":[\"USA\",\"AUSTRALIA\",\"SOUTH AFRICA\",\"BRAZIL\",\"BAHAMAS\",\"NEW ZEALAND\",\"REUNION\",\"NEW CALEDONIA\",\"MEXICO\",\"EGYPT\",\"FRENCH POLYNESIA\",\"SPAIN\",\"FIJI\",\"PHILIPPINES\",\"VIETNAM\",\"PAPUA NEW GUINEA\",\"COSTA RICA\",\"INDONESIA\",\"ECUADOR\",\"JAPAN\",\"THAILAND\",\"MOZAMBIQUE\",\"UNITED KINGDOM\",\"CUBA\",\"TANZANIA\",\"SOLOMON ISLANDS\",\"TURKS & CAICOS\",\"ITALY\",\"SCOTLAND\",\"RUSSIA\",\"MALAYSIA\",\"SEYCHELLES\",\"ENGLAND\",\"TONGA\",\"ATLANTIC OCEAN\",\"VENEZUELA\",\"TAIWAN\",\"GUAM\",\"PANAMA\",\"MADAGASCAR\",\" TONGA\",\"COLUMBIA\",\"JAMAICA\",\"DOMINICAN REPUBLIC\",\"SAMOA\",\"SOUTH KOREA\",\"UNITED ARAB EMIRATES\",\"UNITED ARAB EMIRATES (UAE)\",\"VANUATU\",\"ST HELENA, British overseas territory\",\"TRINIDAD & TOBAGO\",\"MAURITIUS\",\"KENYA\",\"FRANCE\",\"AZORES\",\"BELIZE\",\"CANADA\",\"CAYMAN ISLANDS\",\"CHINA\",\"CROATIA\",\"MICRONESIA\",\"ST. MAARTIN\",\"ST. MARTIN\",\"Seychelles\",\"Sierra Leone\",\"DIEGO GARCIA\",\"CHILE\",\"COMOROS\",\"Fiji\",\"CARIBBEAN SEA\",\"CAPE VERDE\",\"URUGUAY\",\"BRITISH VIRGIN ISLANDS\",\"ARUBA\",\"SRI LANKA\",\"GRAND CAYMAN\",\"NEVIS\",\"LIBYA\",\"MEXICO \",\"ANTIGUA\",\"NIGERIA\",\"NORWAY\",\"OKINAWA\",\"PALESTINIAN TERRITORIES\",\"MALTA\",\"MALDIVES\",\"PUERTO RICO\",\"GREECE\",\"LIBERIA\",\"KIRIBATI\",\"SAUDI ARABIA\",\"ISRAEL\",\"SENEGAL\",\"INDIA\",\"GULF OF ADEN\",\"SOMALIA\",\"YEMEN\"],\"name\":\"\",\"z\":[1011,395,135,56,54,43,31,26,25,21,17,16,13,10,10,9,8,7,7,7,6,6,6,6,5,5,5,4,4,4,4,4,4,4,4,4,4,3,3,3,3,3,3,3,2,2,2,2,2,2,2,2,2,2,2,2,2,2,2,2,1,1,1,1,1,1,1,1,1,1,1,1,1,1,1,1,1,1,1,1,1,1,1,1,1,1,1,1,1,1,1,1,1,1,1,1,1],\"type\":\"choropleth\"}],                        {\"template\":{\"data\":{\"histogram2dcontour\":[{\"type\":\"histogram2dcontour\",\"colorbar\":{\"outlinewidth\":0,\"ticks\":\"\"},\"colorscale\":[[0.0,\"#0d0887\"],[0.1111111111111111,\"#46039f\"],[0.2222222222222222,\"#7201a8\"],[0.3333333333333333,\"#9c179e\"],[0.4444444444444444,\"#bd3786\"],[0.5555555555555556,\"#d8576b\"],[0.6666666666666666,\"#ed7953\"],[0.7777777777777778,\"#fb9f3a\"],[0.8888888888888888,\"#fdca26\"],[1.0,\"#f0f921\"]]}],\"choropleth\":[{\"type\":\"choropleth\",\"colorbar\":{\"outlinewidth\":0,\"ticks\":\"\"}}],\"histogram2d\":[{\"type\":\"histogram2d\",\"colorbar\":{\"outlinewidth\":0,\"ticks\":\"\"},\"colorscale\":[[0.0,\"#0d0887\"],[0.1111111111111111,\"#46039f\"],[0.2222222222222222,\"#7201a8\"],[0.3333333333333333,\"#9c179e\"],[0.4444444444444444,\"#bd3786\"],[0.5555555555555556,\"#d8576b\"],[0.6666666666666666,\"#ed7953\"],[0.7777777777777778,\"#fb9f3a\"],[0.8888888888888888,\"#fdca26\"],[1.0,\"#f0f921\"]]}],\"heatmap\":[{\"type\":\"heatmap\",\"colorbar\":{\"outlinewidth\":0,\"ticks\":\"\"},\"colorscale\":[[0.0,\"#0d0887\"],[0.1111111111111111,\"#46039f\"],[0.2222222222222222,\"#7201a8\"],[0.3333333333333333,\"#9c179e\"],[0.4444444444444444,\"#bd3786\"],[0.5555555555555556,\"#d8576b\"],[0.6666666666666666,\"#ed7953\"],[0.7777777777777778,\"#fb9f3a\"],[0.8888888888888888,\"#fdca26\"],[1.0,\"#f0f921\"]]}],\"heatmapgl\":[{\"type\":\"heatmapgl\",\"colorbar\":{\"outlinewidth\":0,\"ticks\":\"\"},\"colorscale\":[[0.0,\"#0d0887\"],[0.1111111111111111,\"#46039f\"],[0.2222222222222222,\"#7201a8\"],[0.3333333333333333,\"#9c179e\"],[0.4444444444444444,\"#bd3786\"],[0.5555555555555556,\"#d8576b\"],[0.6666666666666666,\"#ed7953\"],[0.7777777777777778,\"#fb9f3a\"],[0.8888888888888888,\"#fdca26\"],[1.0,\"#f0f921\"]]}],\"contourcarpet\":[{\"type\":\"contourcarpet\",\"colorbar\":{\"outlinewidth\":0,\"ticks\":\"\"}}],\"contour\":[{\"type\":\"contour\",\"colorbar\":{\"outlinewidth\":0,\"ticks\":\"\"},\"colorscale\":[[0.0,\"#0d0887\"],[0.1111111111111111,\"#46039f\"],[0.2222222222222222,\"#7201a8\"],[0.3333333333333333,\"#9c179e\"],[0.4444444444444444,\"#bd3786\"],[0.5555555555555556,\"#d8576b\"],[0.6666666666666666,\"#ed7953\"],[0.7777777777777778,\"#fb9f3a\"],[0.8888888888888888,\"#fdca26\"],[1.0,\"#f0f921\"]]}],\"surface\":[{\"type\":\"surface\",\"colorbar\":{\"outlinewidth\":0,\"ticks\":\"\"},\"colorscale\":[[0.0,\"#0d0887\"],[0.1111111111111111,\"#46039f\"],[0.2222222222222222,\"#7201a8\"],[0.3333333333333333,\"#9c179e\"],[0.4444444444444444,\"#bd3786\"],[0.5555555555555556,\"#d8576b\"],[0.6666666666666666,\"#ed7953\"],[0.7777777777777778,\"#fb9f3a\"],[0.8888888888888888,\"#fdca26\"],[1.0,\"#f0f921\"]]}],\"mesh3d\":[{\"type\":\"mesh3d\",\"colorbar\":{\"outlinewidth\":0,\"ticks\":\"\"}}],\"scatter\":[{\"fillpattern\":{\"fillmode\":\"overlay\",\"size\":10,\"solidity\":0.2},\"type\":\"scatter\"}],\"parcoords\":[{\"type\":\"parcoords\",\"line\":{\"colorbar\":{\"outlinewidth\":0,\"ticks\":\"\"}}}],\"scatterpolargl\":[{\"type\":\"scatterpolargl\",\"marker\":{\"colorbar\":{\"outlinewidth\":0,\"ticks\":\"\"}}}],\"bar\":[{\"error_x\":{\"color\":\"#2a3f5f\"},\"error_y\":{\"color\":\"#2a3f5f\"},\"marker\":{\"line\":{\"color\":\"#E5ECF6\",\"width\":0.5},\"pattern\":{\"fillmode\":\"overlay\",\"size\":10,\"solidity\":0.2}},\"type\":\"bar\"}],\"scattergeo\":[{\"type\":\"scattergeo\",\"marker\":{\"colorbar\":{\"outlinewidth\":0,\"ticks\":\"\"}}}],\"scatterpolar\":[{\"type\":\"scatterpolar\",\"marker\":{\"colorbar\":{\"outlinewidth\":0,\"ticks\":\"\"}}}],\"histogram\":[{\"marker\":{\"pattern\":{\"fillmode\":\"overlay\",\"size\":10,\"solidity\":0.2}},\"type\":\"histogram\"}],\"scattergl\":[{\"type\":\"scattergl\",\"marker\":{\"colorbar\":{\"outlinewidth\":0,\"ticks\":\"\"}}}],\"scatter3d\":[{\"type\":\"scatter3d\",\"line\":{\"colorbar\":{\"outlinewidth\":0,\"ticks\":\"\"}},\"marker\":{\"colorbar\":{\"outlinewidth\":0,\"ticks\":\"\"}}}],\"scattermapbox\":[{\"type\":\"scattermapbox\",\"marker\":{\"colorbar\":{\"outlinewidth\":0,\"ticks\":\"\"}}}],\"scatterternary\":[{\"type\":\"scatterternary\",\"marker\":{\"colorbar\":{\"outlinewidth\":0,\"ticks\":\"\"}}}],\"scattercarpet\":[{\"type\":\"scattercarpet\",\"marker\":{\"colorbar\":{\"outlinewidth\":0,\"ticks\":\"\"}}}],\"carpet\":[{\"aaxis\":{\"endlinecolor\":\"#2a3f5f\",\"gridcolor\":\"white\",\"linecolor\":\"white\",\"minorgridcolor\":\"white\",\"startlinecolor\":\"#2a3f5f\"},\"baxis\":{\"endlinecolor\":\"#2a3f5f\",\"gridcolor\":\"white\",\"linecolor\":\"white\",\"minorgridcolor\":\"white\",\"startlinecolor\":\"#2a3f5f\"},\"type\":\"carpet\"}],\"table\":[{\"cells\":{\"fill\":{\"color\":\"#EBF0F8\"},\"line\":{\"color\":\"white\"}},\"header\":{\"fill\":{\"color\":\"#C8D4E3\"},\"line\":{\"color\":\"white\"}},\"type\":\"table\"}],\"barpolar\":[{\"marker\":{\"line\":{\"color\":\"#E5ECF6\",\"width\":0.5},\"pattern\":{\"fillmode\":\"overlay\",\"size\":10,\"solidity\":0.2}},\"type\":\"barpolar\"}],\"pie\":[{\"automargin\":true,\"type\":\"pie\"}]},\"layout\":{\"autotypenumbers\":\"strict\",\"colorway\":[\"#636efa\",\"#EF553B\",\"#00cc96\",\"#ab63fa\",\"#FFA15A\",\"#19d3f3\",\"#FF6692\",\"#B6E880\",\"#FF97FF\",\"#FECB52\"],\"font\":{\"color\":\"#2a3f5f\"},\"hovermode\":\"closest\",\"hoverlabel\":{\"align\":\"left\"},\"paper_bgcolor\":\"white\",\"plot_bgcolor\":\"#E5ECF6\",\"polar\":{\"bgcolor\":\"#E5ECF6\",\"angularaxis\":{\"gridcolor\":\"white\",\"linecolor\":\"white\",\"ticks\":\"\"},\"radialaxis\":{\"gridcolor\":\"white\",\"linecolor\":\"white\",\"ticks\":\"\"}},\"ternary\":{\"bgcolor\":\"#E5ECF6\",\"aaxis\":{\"gridcolor\":\"white\",\"linecolor\":\"white\",\"ticks\":\"\"},\"baxis\":{\"gridcolor\":\"white\",\"linecolor\":\"white\",\"ticks\":\"\"},\"caxis\":{\"gridcolor\":\"white\",\"linecolor\":\"white\",\"ticks\":\"\"}},\"coloraxis\":{\"colorbar\":{\"outlinewidth\":0,\"ticks\":\"\"}},\"colorscale\":{\"sequential\":[[0.0,\"#0d0887\"],[0.1111111111111111,\"#46039f\"],[0.2222222222222222,\"#7201a8\"],[0.3333333333333333,\"#9c179e\"],[0.4444444444444444,\"#bd3786\"],[0.5555555555555556,\"#d8576b\"],[0.6666666666666666,\"#ed7953\"],[0.7777777777777778,\"#fb9f3a\"],[0.8888888888888888,\"#fdca26\"],[1.0,\"#f0f921\"]],\"sequentialminus\":[[0.0,\"#0d0887\"],[0.1111111111111111,\"#46039f\"],[0.2222222222222222,\"#7201a8\"],[0.3333333333333333,\"#9c179e\"],[0.4444444444444444,\"#bd3786\"],[0.5555555555555556,\"#d8576b\"],[0.6666666666666666,\"#ed7953\"],[0.7777777777777778,\"#fb9f3a\"],[0.8888888888888888,\"#fdca26\"],[1.0,\"#f0f921\"]],\"diverging\":[[0,\"#8e0152\"],[0.1,\"#c51b7d\"],[0.2,\"#de77ae\"],[0.3,\"#f1b6da\"],[0.4,\"#fde0ef\"],[0.5,\"#f7f7f7\"],[0.6,\"#e6f5d0\"],[0.7,\"#b8e186\"],[0.8,\"#7fbc41\"],[0.9,\"#4d9221\"],[1,\"#276419\"]]},\"xaxis\":{\"gridcolor\":\"white\",\"linecolor\":\"white\",\"ticks\":\"\",\"title\":{\"standoff\":15},\"zerolinecolor\":\"white\",\"automargin\":true,\"zerolinewidth\":2},\"yaxis\":{\"gridcolor\":\"white\",\"linecolor\":\"white\",\"ticks\":\"\",\"title\":{\"standoff\":15},\"zerolinecolor\":\"white\",\"automargin\":true,\"zerolinewidth\":2},\"scene\":{\"xaxis\":{\"backgroundcolor\":\"#E5ECF6\",\"gridcolor\":\"white\",\"linecolor\":\"white\",\"showbackground\":true,\"ticks\":\"\",\"zerolinecolor\":\"white\",\"gridwidth\":2},\"yaxis\":{\"backgroundcolor\":\"#E5ECF6\",\"gridcolor\":\"white\",\"linecolor\":\"white\",\"showbackground\":true,\"ticks\":\"\",\"zerolinecolor\":\"white\",\"gridwidth\":2},\"zaxis\":{\"backgroundcolor\":\"#E5ECF6\",\"gridcolor\":\"white\",\"linecolor\":\"white\",\"showbackground\":true,\"ticks\":\"\",\"zerolinecolor\":\"white\",\"gridwidth\":2}},\"shapedefaults\":{\"line\":{\"color\":\"#2a3f5f\"}},\"annotationdefaults\":{\"arrowcolor\":\"#2a3f5f\",\"arrowhead\":0,\"arrowwidth\":1},\"geo\":{\"bgcolor\":\"white\",\"landcolor\":\"#E5ECF6\",\"subunitcolor\":\"white\",\"showland\":true,\"showlakes\":true,\"lakecolor\":\"white\"},\"title\":{\"x\":0.05},\"mapbox\":{\"style\":\"light\"}}},\"geo\":{\"domain\":{\"x\":[0.0,1.0],\"y\":[0.0,1.0]},\"center\":{},\"scope\":\"world\"},\"coloraxis\":{\"colorbar\":{\"title\":{\"text\":\"size\"}},\"colorscale\":[[0.0,\"rgb(247,251,255)\"],[0.125,\"rgb(222,235,247)\"],[0.25,\"rgb(198,219,239)\"],[0.375,\"rgb(158,202,225)\"],[0.5,\"rgb(107,174,214)\"],[0.625,\"rgb(66,146,198)\"],[0.75,\"rgb(33,113,181)\"],[0.875,\"rgb(8,81,156)\"],[1.0,\"rgb(8,48,107)\"]],\"cmin\":0,\"cmax\":1200},\"legend\":{\"tracegroupgap\":0},\"margin\":{\"t\":60},\"height\":400},                        {\"responsive\": true}                    ).then(function(){\n",
       "                            \n",
       "var gd = document.getElementById('3e659bb8-72b3-4f03-a6d7-d886da8a5f43');\n",
       "var x = new MutationObserver(function (mutations, observer) {{\n",
       "        var display = window.getComputedStyle(gd).display;\n",
       "        if (!display || display === 'none') {{\n",
       "            console.log([gd, 'removed!']);\n",
       "            Plotly.purge(gd);\n",
       "            observer.disconnect();\n",
       "        }}\n",
       "}});\n",
       "\n",
       "// Listen for the removal of the full notebook cells\n",
       "var notebookContainer = gd.closest('#notebook-container');\n",
       "if (notebookContainer) {{\n",
       "    x.observe(notebookContainer, {childList: true});\n",
       "}}\n",
       "\n",
       "// Listen for the clearing of the current output cell\n",
       "var outputEl = gd.closest('.output');\n",
       "if (outputEl) {{\n",
       "    x.observe(outputEl, {childList: true});\n",
       "}}\n",
       "\n",
       "                        })                };                });            </script>        </div>"
      ]
     },
     "metadata": {},
     "output_type": "display_data"
    }
   ],
   "source": [
    "import plotly.express as px\n",
    "sa = df2.groupby(['country'],as_index=False).size()\n",
    "sa = sa.sort_values(by=['size'], ascending=False)\n",
    "px.choropleth(sa, \n",
    "              locations = 'country',\n",
    "              color=\"size\", \n",
    "              color_continuous_scale=\"blues\",\n",
    "              locationmode='country names',\n",
    "              scope=\"world\",\n",
    "              range_color=(0, 1200),\n",
    "       \n",
    "              height=400\n",
    "           \n",
    "             )\n"
   ]
  },
  {
   "cell_type": "markdown",
   "id": "6d87933d",
   "metadata": {},
   "source": [
    "Map of world attacks from 2000 - 2018"
   ]
  },
  {
   "cell_type": "code",
   "execution_count": 36,
   "id": "f37bc071",
   "metadata": {},
   "outputs": [
    {
     "name": "stdout",
     "output_type": "stream",
     "text": [
      "<class 'pandas.core.frame.DataFrame'>\n",
      "Int64Index: 1011 entries, 0 to 2078\n",
      "Data columns (total 12 columns):\n",
      " #   Column       Non-Null Count  Dtype  \n",
      "---  ------       --------------  -----  \n",
      " 0   case_number  1011 non-null   object \n",
      " 1   date         1011 non-null   object \n",
      " 2   year         1011 non-null   float64\n",
      " 3   type         1011 non-null   object \n",
      " 4   country      1011 non-null   object \n",
      " 5   area         1011 non-null   object \n",
      " 6   location     1005 non-null   object \n",
      " 7   activity     963 non-null    object \n",
      " 8   gender       985 non-null    object \n",
      " 9   age          813 non-null    object \n",
      " 10  injury       1011 non-null   object \n",
      " 11  fatal        949 non-null    object \n",
      "dtypes: float64(1), object(11)\n",
      "memory usage: 102.7+ KB\n"
     ]
    }
   ],
   "source": [
    "df_us = df2[(df2['country'] == 'USA')]\n",
    "df_us.info()"
   ]
  },
  {
   "cell_type": "markdown",
   "id": "13cfbf7d",
   "metadata": {},
   "source": [
    "Now I am narrowing the data to only the USA. From here I can see that I now have 1,011 reported cases from 2000-2018, and my date is in the wrong format and will need to cleaned and casted to datetime. "
   ]
  },
  {
   "cell_type": "code",
   "execution_count": 37,
   "id": "3a92fa4d",
   "metadata": {},
   "outputs": [
    {
     "data": {
      "text/html": [
       "<div>\n",
       "<style scoped>\n",
       "    .dataframe tbody tr th:only-of-type {\n",
       "        vertical-align: middle;\n",
       "    }\n",
       "\n",
       "    .dataframe tbody tr th {\n",
       "        vertical-align: top;\n",
       "    }\n",
       "\n",
       "    .dataframe thead th {\n",
       "        text-align: right;\n",
       "    }\n",
       "</style>\n",
       "<table border=\"1\" class=\"dataframe\">\n",
       "  <thead>\n",
       "    <tr style=\"text-align: right;\">\n",
       "      <th></th>\n",
       "      <th>case_number</th>\n",
       "      <th>date</th>\n",
       "      <th>year</th>\n",
       "      <th>type</th>\n",
       "      <th>country</th>\n",
       "      <th>area</th>\n",
       "      <th>location</th>\n",
       "      <th>activity</th>\n",
       "      <th>gender</th>\n",
       "      <th>age</th>\n",
       "      <th>injury</th>\n",
       "      <th>fatal</th>\n",
       "    </tr>\n",
       "  </thead>\n",
       "  <tbody>\n",
       "    <tr>\n",
       "      <th>0</th>\n",
       "      <td>2018.06.25</td>\n",
       "      <td>25-Jun-2018</td>\n",
       "      <td>2018.0</td>\n",
       "      <td>Boating</td>\n",
       "      <td>USA</td>\n",
       "      <td>California</td>\n",
       "      <td>Oceanside, San Diego County</td>\n",
       "      <td>Paddling</td>\n",
       "      <td>F</td>\n",
       "      <td>57</td>\n",
       "      <td>No injury to occupant, outrigger canoe and pad...</td>\n",
       "      <td>N</td>\n",
       "    </tr>\n",
       "    <tr>\n",
       "      <th>1</th>\n",
       "      <td>2018.06.18</td>\n",
       "      <td>18-Jun-2018</td>\n",
       "      <td>2018.0</td>\n",
       "      <td>Unprovoked</td>\n",
       "      <td>USA</td>\n",
       "      <td>Georgia</td>\n",
       "      <td>St. Simon Island, Glynn County</td>\n",
       "      <td>Standing</td>\n",
       "      <td>F</td>\n",
       "      <td>11</td>\n",
       "      <td>Minor injury to left thigh</td>\n",
       "      <td>N</td>\n",
       "    </tr>\n",
       "    <tr>\n",
       "      <th>2</th>\n",
       "      <td>2018.06.09</td>\n",
       "      <td>09-Jun-2018</td>\n",
       "      <td>2018.0</td>\n",
       "      <td>Invalid</td>\n",
       "      <td>USA</td>\n",
       "      <td>Hawaii</td>\n",
       "      <td>Habush, Oahu</td>\n",
       "      <td>Surfing</td>\n",
       "      <td>M</td>\n",
       "      <td>48</td>\n",
       "      <td>Injury to left lower leg from surfboard skeg</td>\n",
       "      <td>N</td>\n",
       "    </tr>\n",
       "    <tr>\n",
       "      <th>7</th>\n",
       "      <td>2018.05.27</td>\n",
       "      <td>27-May-2018</td>\n",
       "      <td>2018.0</td>\n",
       "      <td>Unprovoked</td>\n",
       "      <td>USA</td>\n",
       "      <td>Florida</td>\n",
       "      <td>Lighhouse Point Park, Ponce Inlet, Volusia County</td>\n",
       "      <td>Fishing</td>\n",
       "      <td>M</td>\n",
       "      <td>52</td>\n",
       "      <td>Minor injury to foot. PROVOKED INCIDENT</td>\n",
       "      <td>N</td>\n",
       "    </tr>\n",
       "    <tr>\n",
       "      <th>8</th>\n",
       "      <td>2018.05.26.b</td>\n",
       "      <td>26-May-2018</td>\n",
       "      <td>2018.0</td>\n",
       "      <td>Unprovoked</td>\n",
       "      <td>USA</td>\n",
       "      <td>Florida</td>\n",
       "      <td>Cocoa Beach, Brevard  County</td>\n",
       "      <td>Walking</td>\n",
       "      <td>M</td>\n",
       "      <td>15</td>\n",
       "      <td>Lower left leg bitten</td>\n",
       "      <td>N</td>\n",
       "    </tr>\n",
       "  </tbody>\n",
       "</table>\n",
       "</div>"
      ],
      "text/plain": [
       "    case_number         date    year        type country        area  \\\n",
       "0    2018.06.25  25-Jun-2018  2018.0     Boating     USA  California   \n",
       "1    2018.06.18  18-Jun-2018  2018.0  Unprovoked     USA     Georgia   \n",
       "2    2018.06.09  09-Jun-2018  2018.0     Invalid     USA      Hawaii   \n",
       "7    2018.05.27  27-May-2018  2018.0  Unprovoked     USA     Florida   \n",
       "8  2018.05.26.b  26-May-2018  2018.0  Unprovoked     USA     Florida   \n",
       "\n",
       "                                            location  activity gender age  \\\n",
       "0                        Oceanside, San Diego County  Paddling      F  57   \n",
       "1                     St. Simon Island, Glynn County  Standing      F  11   \n",
       "2                                       Habush, Oahu   Surfing      M  48   \n",
       "7  Lighhouse Point Park, Ponce Inlet, Volusia County   Fishing      M  52   \n",
       "8                       Cocoa Beach, Brevard  County   Walking      M  15   \n",
       "\n",
       "                                              injury fatal  \n",
       "0  No injury to occupant, outrigger canoe and pad...     N  \n",
       "1                         Minor injury to left thigh     N  \n",
       "2       Injury to left lower leg from surfboard skeg     N  \n",
       "7            Minor injury to foot. PROVOKED INCIDENT     N  \n",
       "8                              Lower left leg bitten     N  "
      ]
     },
     "execution_count": 37,
     "metadata": {},
     "output_type": "execute_result"
    }
   ],
   "source": [
    "df_us.head()"
   ]
  },
  {
   "cell_type": "code",
   "execution_count": 38,
   "id": "767e7ee9",
   "metadata": {},
   "outputs": [
    {
     "data": {
      "text/html": [
       "<div>\n",
       "<style scoped>\n",
       "    .dataframe tbody tr th:only-of-type {\n",
       "        vertical-align: middle;\n",
       "    }\n",
       "\n",
       "    .dataframe tbody tr th {\n",
       "        vertical-align: top;\n",
       "    }\n",
       "\n",
       "    .dataframe thead th {\n",
       "        text-align: right;\n",
       "    }\n",
       "</style>\n",
       "<table border=\"1\" class=\"dataframe\">\n",
       "  <thead>\n",
       "    <tr style=\"text-align: right;\">\n",
       "      <th></th>\n",
       "      <th>case_number</th>\n",
       "      <th>date</th>\n",
       "      <th>year</th>\n",
       "      <th>type</th>\n",
       "      <th>country</th>\n",
       "      <th>area</th>\n",
       "      <th>location</th>\n",
       "      <th>activity</th>\n",
       "      <th>gender</th>\n",
       "      <th>age</th>\n",
       "      <th>injury</th>\n",
       "      <th>fatal</th>\n",
       "    </tr>\n",
       "  </thead>\n",
       "  <tbody>\n",
       "    <tr>\n",
       "      <th>0</th>\n",
       "      <td>2018.06.25</td>\n",
       "      <td>25-Jun-2018</td>\n",
       "      <td>2018.0</td>\n",
       "      <td>Boating</td>\n",
       "      <td>USA</td>\n",
       "      <td>California</td>\n",
       "      <td>Oceanside, San Diego County</td>\n",
       "      <td>Paddling</td>\n",
       "      <td>F</td>\n",
       "      <td>57</td>\n",
       "      <td>No injury to occupant, outrigger canoe and pad...</td>\n",
       "      <td>N</td>\n",
       "    </tr>\n",
       "    <tr>\n",
       "      <th>1</th>\n",
       "      <td>2018.06.18</td>\n",
       "      <td>18-Jun-2018</td>\n",
       "      <td>2018.0</td>\n",
       "      <td>Unprovoked</td>\n",
       "      <td>USA</td>\n",
       "      <td>Georgia</td>\n",
       "      <td>St. Simon Island, Glynn County</td>\n",
       "      <td>Standing</td>\n",
       "      <td>F</td>\n",
       "      <td>11</td>\n",
       "      <td>Minor injury to left thigh</td>\n",
       "      <td>N</td>\n",
       "    </tr>\n",
       "    <tr>\n",
       "      <th>2</th>\n",
       "      <td>2018.06.09</td>\n",
       "      <td>09-Jun-2018</td>\n",
       "      <td>2018.0</td>\n",
       "      <td>Invalid</td>\n",
       "      <td>USA</td>\n",
       "      <td>Hawaii</td>\n",
       "      <td>Habush, Oahu</td>\n",
       "      <td>Surfing</td>\n",
       "      <td>M</td>\n",
       "      <td>48</td>\n",
       "      <td>Injury to left lower leg from surfboard skeg</td>\n",
       "      <td>N</td>\n",
       "    </tr>\n",
       "    <tr>\n",
       "      <th>7</th>\n",
       "      <td>2018.05.27</td>\n",
       "      <td>27-May-2018</td>\n",
       "      <td>2018.0</td>\n",
       "      <td>Unprovoked</td>\n",
       "      <td>USA</td>\n",
       "      <td>Florida</td>\n",
       "      <td>Lighhouse Point Park, Ponce Inlet, Volusia County</td>\n",
       "      <td>Fishing</td>\n",
       "      <td>M</td>\n",
       "      <td>52</td>\n",
       "      <td>Minor injury to foot. PROVOKED INCIDENT</td>\n",
       "      <td>N</td>\n",
       "    </tr>\n",
       "    <tr>\n",
       "      <th>8</th>\n",
       "      <td>2018.05.26.b</td>\n",
       "      <td>26-May-2018</td>\n",
       "      <td>2018.0</td>\n",
       "      <td>Unprovoked</td>\n",
       "      <td>USA</td>\n",
       "      <td>Florida</td>\n",
       "      <td>Cocoa Beach, Brevard  County</td>\n",
       "      <td>Walking</td>\n",
       "      <td>M</td>\n",
       "      <td>15</td>\n",
       "      <td>Lower left leg bitten</td>\n",
       "      <td>N</td>\n",
       "    </tr>\n",
       "  </tbody>\n",
       "</table>\n",
       "</div>"
      ],
      "text/plain": [
       "    case_number         date    year        type country        area  \\\n",
       "0    2018.06.25  25-Jun-2018  2018.0     Boating     USA  California   \n",
       "1    2018.06.18  18-Jun-2018  2018.0  Unprovoked     USA     Georgia   \n",
       "2    2018.06.09  09-Jun-2018  2018.0     Invalid     USA      Hawaii   \n",
       "7    2018.05.27  27-May-2018  2018.0  Unprovoked     USA     Florida   \n",
       "8  2018.05.26.b  26-May-2018  2018.0  Unprovoked     USA     Florida   \n",
       "\n",
       "                                            location  activity gender age  \\\n",
       "0                        Oceanside, San Diego County  Paddling      F  57   \n",
       "1                     St. Simon Island, Glynn County  Standing      F  11   \n",
       "2                                       Habush, Oahu   Surfing      M  48   \n",
       "7  Lighhouse Point Park, Ponce Inlet, Volusia County   Fishing      M  52   \n",
       "8                       Cocoa Beach, Brevard  County   Walking      M  15   \n",
       "\n",
       "                                              injury fatal  \n",
       "0  No injury to occupant, outrigger canoe and pad...     N  \n",
       "1                         Minor injury to left thigh     N  \n",
       "2       Injury to left lower leg from surfboard skeg     N  \n",
       "7            Minor injury to foot. PROVOKED INCIDENT     N  \n",
       "8                              Lower left leg bitten     N  "
      ]
     },
     "execution_count": 38,
     "metadata": {},
     "output_type": "execute_result"
    }
   ],
   "source": [
    "df_us_2 = df_us.replace('Reported','', regex=True)\n",
    "df_us_3 = df_us_2.replace('--','-', regex=True)\n",
    "df_us_3['date'] = df_us_3['date'].str.strip()\n",
    "df_us_3.head()"
   ]
  },
  {
   "cell_type": "markdown",
   "id": "caed53c5",
   "metadata": {},
   "source": [
    "To clean the data, I first used the string replace function. \n",
    "This allowed me to remove the common text or symbols that would put the entry back to a convertable date. \n",
    "Then, I used string strip to remove the leading and trailing white spaces. "
   ]
  },
  {
   "cell_type": "code",
   "execution_count": 39,
   "id": "13ea2e84",
   "metadata": {},
   "outputs": [
    {
     "name": "stdout",
     "output_type": "stream",
     "text": [
      "<class 'pandas.core.frame.DataFrame'>\n",
      "Int64Index: 1011 entries, 0 to 2078\n",
      "Data columns (total 12 columns):\n",
      " #   Column       Non-Null Count  Dtype  \n",
      "---  ------       --------------  -----  \n",
      " 0   case_number  1011 non-null   object \n",
      " 1   date         1011 non-null   object \n",
      " 2   year         1011 non-null   float64\n",
      " 3   type         1011 non-null   object \n",
      " 4   country      1011 non-null   object \n",
      " 5   area         1011 non-null   object \n",
      " 6   location     1005 non-null   object \n",
      " 7   activity     963 non-null    object \n",
      " 8   gender       985 non-null    object \n",
      " 9   age          813 non-null    object \n",
      " 10  injury       1011 non-null   object \n",
      " 11  fatal        949 non-null    object \n",
      "dtypes: float64(1), object(11)\n",
      "memory usage: 102.7+ KB\n"
     ]
    }
   ],
   "source": [
    "df_us_3.info()"
   ]
  },
  {
   "cell_type": "markdown",
   "id": "f12009fa",
   "metadata": {},
   "source": [
    "Looking at the data after the cleaning, no rows lost. Looks good from here."
   ]
  },
  {
   "cell_type": "markdown",
   "id": "2a1569ac",
   "metadata": {},
   "source": [
    "To double check my work, I printed to CSV file to review and confirm I can able to do what I wanted. I was able to see the dates that would never format due to not have a month and day."
   ]
  },
  {
   "cell_type": "code",
   "execution_count": 40,
   "id": "f1c10e26",
   "metadata": {},
   "outputs": [
    {
     "name": "stdout",
     "output_type": "stream",
     "text": [
      "<class 'pandas.core.frame.DataFrame'>\n",
      "Int64Index: 1011 entries, 0 to 2078\n",
      "Data columns (total 12 columns):\n",
      " #   Column       Non-Null Count  Dtype         \n",
      "---  ------       --------------  -----         \n",
      " 0   case_number  1011 non-null   object        \n",
      " 1   date         1009 non-null   datetime64[ns]\n",
      " 2   year         1011 non-null   float64       \n",
      " 3   type         1011 non-null   object        \n",
      " 4   country      1011 non-null   object        \n",
      " 5   area         1011 non-null   object        \n",
      " 6   location     1005 non-null   object        \n",
      " 7   activity     963 non-null    object        \n",
      " 8   gender       985 non-null    object        \n",
      " 9   age          813 non-null    object        \n",
      " 10  injury       1011 non-null   object        \n",
      " 11  fatal        949 non-null    object        \n",
      "dtypes: datetime64[ns](1), float64(1), object(10)\n",
      "memory usage: 102.7+ KB\n"
     ]
    }
   ],
   "source": [
    "df_us_3['date']= pd.to_datetime(df_us_3['date'],errors='coerce')\n",
    "df_us_3.info()"
   ]
  },
  {
   "cell_type": "markdown",
   "id": "8a3d67a6",
   "metadata": {},
   "source": [
    "Now that the data in the date column was as clean as I wanted, I casted it to datetime and used errors='coerce' to make all the rows that did not comply a null. We lost 2 rows of data as was expected. "
   ]
  },
  {
   "cell_type": "code",
   "execution_count": 41,
   "id": "44ce4dcf",
   "metadata": {},
   "outputs": [
    {
     "data": {
      "text/html": [
       "<div>\n",
       "<style scoped>\n",
       "    .dataframe tbody tr th:only-of-type {\n",
       "        vertical-align: middle;\n",
       "    }\n",
       "\n",
       "    .dataframe tbody tr th {\n",
       "        vertical-align: top;\n",
       "    }\n",
       "\n",
       "    .dataframe thead th {\n",
       "        text-align: right;\n",
       "    }\n",
       "</style>\n",
       "<table border=\"1\" class=\"dataframe\">\n",
       "  <thead>\n",
       "    <tr style=\"text-align: right;\">\n",
       "      <th></th>\n",
       "      <th>State</th>\n",
       "      <th>Latitude</th>\n",
       "      <th>Longitude</th>\n",
       "      <th>City</th>\n",
       "    </tr>\n",
       "  </thead>\n",
       "  <tbody>\n",
       "    <tr>\n",
       "      <th>0</th>\n",
       "      <td>AL</td>\n",
       "      <td>32.601011</td>\n",
       "      <td>-86.680736</td>\n",
       "      <td>Alabama</td>\n",
       "    </tr>\n",
       "    <tr>\n",
       "      <th>1</th>\n",
       "      <td>AK</td>\n",
       "      <td>61.302501</td>\n",
       "      <td>-158.775020</td>\n",
       "      <td>Alaska</td>\n",
       "    </tr>\n",
       "    <tr>\n",
       "      <th>2</th>\n",
       "      <td>AZ</td>\n",
       "      <td>34.168219</td>\n",
       "      <td>-111.930907</td>\n",
       "      <td>Arizona</td>\n",
       "    </tr>\n",
       "    <tr>\n",
       "      <th>3</th>\n",
       "      <td>AR</td>\n",
       "      <td>34.751928</td>\n",
       "      <td>-92.131378</td>\n",
       "      <td>Arkansas</td>\n",
       "    </tr>\n",
       "    <tr>\n",
       "      <th>4</th>\n",
       "      <td>CA</td>\n",
       "      <td>37.271875</td>\n",
       "      <td>-119.270415</td>\n",
       "      <td>California</td>\n",
       "    </tr>\n",
       "  </tbody>\n",
       "</table>\n",
       "</div>"
      ],
      "text/plain": [
       "  State   Latitude   Longitude        City\n",
       "0    AL  32.601011  -86.680736     Alabama\n",
       "1    AK  61.302501 -158.775020      Alaska\n",
       "2    AZ  34.168219 -111.930907     Arizona\n",
       "3    AR  34.751928  -92.131378    Arkansas\n",
       "4    CA  37.271875 -119.270415  California"
      ]
     },
     "execution_count": 41,
     "metadata": {},
     "output_type": "execute_result"
    }
   ],
   "source": [
    "file=\"Resources/statelatlong.csv\"\n",
    "pd.set_option('display.max_columns', None)\n",
    "df_states = pd.read_csv(file,encoding = 'cp1252')\n",
    "df_states.head()"
   ]
  },
  {
   "cell_type": "code",
   "execution_count": 42,
   "id": "174bc57c",
   "metadata": {
    "scrolled": true
   },
   "outputs": [
    {
     "data": {
      "text/html": [
       "<div>\n",
       "<style scoped>\n",
       "    .dataframe tbody tr th:only-of-type {\n",
       "        vertical-align: middle;\n",
       "    }\n",
       "\n",
       "    .dataframe tbody tr th {\n",
       "        vertical-align: top;\n",
       "    }\n",
       "\n",
       "    .dataframe thead th {\n",
       "        text-align: right;\n",
       "    }\n",
       "</style>\n",
       "<table border=\"1\" class=\"dataframe\">\n",
       "  <thead>\n",
       "    <tr style=\"text-align: right;\">\n",
       "      <th></th>\n",
       "      <th>state</th>\n",
       "      <th>latitude</th>\n",
       "      <th>longitude</th>\n",
       "      <th>area</th>\n",
       "    </tr>\n",
       "  </thead>\n",
       "  <tbody>\n",
       "    <tr>\n",
       "      <th>0</th>\n",
       "      <td>AL</td>\n",
       "      <td>32.601011</td>\n",
       "      <td>-86.680736</td>\n",
       "      <td>Alabama</td>\n",
       "    </tr>\n",
       "    <tr>\n",
       "      <th>1</th>\n",
       "      <td>AK</td>\n",
       "      <td>61.302501</td>\n",
       "      <td>-158.775020</td>\n",
       "      <td>Alaska</td>\n",
       "    </tr>\n",
       "    <tr>\n",
       "      <th>2</th>\n",
       "      <td>AZ</td>\n",
       "      <td>34.168219</td>\n",
       "      <td>-111.930907</td>\n",
       "      <td>Arizona</td>\n",
       "    </tr>\n",
       "    <tr>\n",
       "      <th>3</th>\n",
       "      <td>AR</td>\n",
       "      <td>34.751928</td>\n",
       "      <td>-92.131378</td>\n",
       "      <td>Arkansas</td>\n",
       "    </tr>\n",
       "    <tr>\n",
       "      <th>4</th>\n",
       "      <td>CA</td>\n",
       "      <td>37.271875</td>\n",
       "      <td>-119.270415</td>\n",
       "      <td>California</td>\n",
       "    </tr>\n",
       "  </tbody>\n",
       "</table>\n",
       "</div>"
      ],
      "text/plain": [
       "  state   latitude   longitude        area\n",
       "0    AL  32.601011  -86.680736     Alabama\n",
       "1    AK  61.302501 -158.775020      Alaska\n",
       "2    AZ  34.168219 -111.930907     Arizona\n",
       "3    AR  34.751928  -92.131378    Arkansas\n",
       "4    CA  37.271875 -119.270415  California"
      ]
     },
     "execution_count": 42,
     "metadata": {},
     "output_type": "execute_result"
    }
   ],
   "source": [
    "df_states.rename(columns={\"State\":\"state\",\n",
    "                          \"Latitude\":\"latitude\",\n",
    "                          \"Longitude\":\"longitude\",\n",
    "                          \"City\":\"area\"}, inplace=True)\n",
    "df_states.head()"
   ]
  },
  {
   "cell_type": "code",
   "execution_count": 43,
   "id": "187fa2fc",
   "metadata": {},
   "outputs": [
    {
     "data": {
      "text/html": [
       "<div>\n",
       "<style scoped>\n",
       "    .dataframe tbody tr th:only-of-type {\n",
       "        vertical-align: middle;\n",
       "    }\n",
       "\n",
       "    .dataframe tbody tr th {\n",
       "        vertical-align: top;\n",
       "    }\n",
       "\n",
       "    .dataframe thead th {\n",
       "        text-align: right;\n",
       "    }\n",
       "</style>\n",
       "<table border=\"1\" class=\"dataframe\">\n",
       "  <thead>\n",
       "    <tr style=\"text-align: right;\">\n",
       "      <th></th>\n",
       "      <th>case_number</th>\n",
       "      <th>date</th>\n",
       "      <th>year</th>\n",
       "      <th>type</th>\n",
       "      <th>country</th>\n",
       "      <th>area</th>\n",
       "      <th>location</th>\n",
       "      <th>activity</th>\n",
       "      <th>gender</th>\n",
       "      <th>age</th>\n",
       "      <th>injury</th>\n",
       "      <th>fatal</th>\n",
       "      <th>state</th>\n",
       "      <th>latitude</th>\n",
       "      <th>longitude</th>\n",
       "    </tr>\n",
       "  </thead>\n",
       "  <tbody>\n",
       "    <tr>\n",
       "      <th>0</th>\n",
       "      <td>2018.06.25</td>\n",
       "      <td>2018-06-25</td>\n",
       "      <td>2018.0</td>\n",
       "      <td>Boating</td>\n",
       "      <td>USA</td>\n",
       "      <td>California</td>\n",
       "      <td>Oceanside, San Diego County</td>\n",
       "      <td>Paddling</td>\n",
       "      <td>F</td>\n",
       "      <td>57</td>\n",
       "      <td>No injury to occupant, outrigger canoe and pad...</td>\n",
       "      <td>N</td>\n",
       "      <td>CA</td>\n",
       "      <td>37.271875</td>\n",
       "      <td>-119.270415</td>\n",
       "    </tr>\n",
       "    <tr>\n",
       "      <th>1</th>\n",
       "      <td>2018.06.18</td>\n",
       "      <td>2018-06-18</td>\n",
       "      <td>2018.0</td>\n",
       "      <td>Unprovoked</td>\n",
       "      <td>USA</td>\n",
       "      <td>Georgia</td>\n",
       "      <td>St. Simon Island, Glynn County</td>\n",
       "      <td>Standing</td>\n",
       "      <td>F</td>\n",
       "      <td>11</td>\n",
       "      <td>Minor injury to left thigh</td>\n",
       "      <td>N</td>\n",
       "      <td>GA</td>\n",
       "      <td>32.678125</td>\n",
       "      <td>-83.222976</td>\n",
       "    </tr>\n",
       "    <tr>\n",
       "      <th>2</th>\n",
       "      <td>2018.06.09</td>\n",
       "      <td>2018-06-09</td>\n",
       "      <td>2018.0</td>\n",
       "      <td>Invalid</td>\n",
       "      <td>USA</td>\n",
       "      <td>Hawaii</td>\n",
       "      <td>Habush, Oahu</td>\n",
       "      <td>Surfing</td>\n",
       "      <td>M</td>\n",
       "      <td>48</td>\n",
       "      <td>Injury to left lower leg from surfboard skeg</td>\n",
       "      <td>N</td>\n",
       "      <td>HI</td>\n",
       "      <td>20.460000</td>\n",
       "      <td>-157.505000</td>\n",
       "    </tr>\n",
       "    <tr>\n",
       "      <th>3</th>\n",
       "      <td>2018.05.27</td>\n",
       "      <td>2018-05-27</td>\n",
       "      <td>2018.0</td>\n",
       "      <td>Unprovoked</td>\n",
       "      <td>USA</td>\n",
       "      <td>Florida</td>\n",
       "      <td>Lighhouse Point Park, Ponce Inlet, Volusia County</td>\n",
       "      <td>Fishing</td>\n",
       "      <td>M</td>\n",
       "      <td>52</td>\n",
       "      <td>Minor injury to foot. PROVOKED INCIDENT</td>\n",
       "      <td>N</td>\n",
       "      <td>FL</td>\n",
       "      <td>27.975728</td>\n",
       "      <td>-83.833017</td>\n",
       "    </tr>\n",
       "    <tr>\n",
       "      <th>4</th>\n",
       "      <td>2018.05.26.b</td>\n",
       "      <td>2018-05-26</td>\n",
       "      <td>2018.0</td>\n",
       "      <td>Unprovoked</td>\n",
       "      <td>USA</td>\n",
       "      <td>Florida</td>\n",
       "      <td>Cocoa Beach, Brevard  County</td>\n",
       "      <td>Walking</td>\n",
       "      <td>M</td>\n",
       "      <td>15</td>\n",
       "      <td>Lower left leg bitten</td>\n",
       "      <td>N</td>\n",
       "      <td>FL</td>\n",
       "      <td>27.975728</td>\n",
       "      <td>-83.833017</td>\n",
       "    </tr>\n",
       "  </tbody>\n",
       "</table>\n",
       "</div>"
      ],
      "text/plain": [
       "    case_number       date    year        type country        area  \\\n",
       "0    2018.06.25 2018-06-25  2018.0     Boating     USA  California   \n",
       "1    2018.06.18 2018-06-18  2018.0  Unprovoked     USA     Georgia   \n",
       "2    2018.06.09 2018-06-09  2018.0     Invalid     USA      Hawaii   \n",
       "3    2018.05.27 2018-05-27  2018.0  Unprovoked     USA     Florida   \n",
       "4  2018.05.26.b 2018-05-26  2018.0  Unprovoked     USA     Florida   \n",
       "\n",
       "                                            location  activity gender age  \\\n",
       "0                        Oceanside, San Diego County  Paddling      F  57   \n",
       "1                     St. Simon Island, Glynn County  Standing      F  11   \n",
       "2                                       Habush, Oahu   Surfing      M  48   \n",
       "3  Lighhouse Point Park, Ponce Inlet, Volusia County   Fishing      M  52   \n",
       "4                       Cocoa Beach, Brevard  County   Walking      M  15   \n",
       "\n",
       "                                              injury fatal state   latitude  \\\n",
       "0  No injury to occupant, outrigger canoe and pad...     N    CA  37.271875   \n",
       "1                         Minor injury to left thigh     N    GA  32.678125   \n",
       "2       Injury to left lower leg from surfboard skeg     N    HI  20.460000   \n",
       "3            Minor injury to foot. PROVOKED INCIDENT     N    FL  27.975728   \n",
       "4                              Lower left leg bitten     N    FL  27.975728   \n",
       "\n",
       "    longitude  \n",
       "0 -119.270415  \n",
       "1  -83.222976  \n",
       "2 -157.505000  \n",
       "3  -83.833017  \n",
       "4  -83.833017  "
      ]
     },
     "execution_count": 43,
     "metadata": {},
     "output_type": "execute_result"
    }
   ],
   "source": [
    "df_usa = pd.merge(df_us_3, df_states, how=\"left\", on=\"area\")\n",
    "df_usa.head()"
   ]
  },
  {
   "cell_type": "markdown",
   "id": "656a708c",
   "metadata": {},
   "source": [
    "Using Kaggle dataset for State Latitude and Logitude information, I merged the data with the USA dataframe. This will allow us to plot the data on a map."
   ]
  },
  {
   "cell_type": "code",
   "execution_count": 44,
   "id": "09605042",
   "metadata": {},
   "outputs": [
    {
     "name": "stdout",
     "output_type": "stream",
     "text": [
      "<class 'pandas.core.frame.DataFrame'>\n",
      "Int64Index: 1011 entries, 0 to 1010\n",
      "Data columns (total 15 columns):\n",
      " #   Column       Non-Null Count  Dtype         \n",
      "---  ------       --------------  -----         \n",
      " 0   case_number  1011 non-null   object        \n",
      " 1   date         1009 non-null   datetime64[ns]\n",
      " 2   year         1011 non-null   float64       \n",
      " 3   type         1011 non-null   object        \n",
      " 4   country      1011 non-null   object        \n",
      " 5   area         1011 non-null   object        \n",
      " 6   location     1005 non-null   object        \n",
      " 7   activity     963 non-null    object        \n",
      " 8   gender       985 non-null    object        \n",
      " 9   age          813 non-null    object        \n",
      " 10  injury       1011 non-null   object        \n",
      " 11  fatal        949 non-null    object        \n",
      " 12  state        1002 non-null   object        \n",
      " 13  latitude     1002 non-null   float64       \n",
      " 14  longitude    1002 non-null   float64       \n",
      "dtypes: datetime64[ns](1), float64(3), object(11)\n",
      "memory usage: 126.4+ KB\n"
     ]
    }
   ],
   "source": [
    "df_usa.info()"
   ]
  },
  {
   "cell_type": "code",
   "execution_count": 45,
   "id": "909efd3a",
   "metadata": {},
   "outputs": [
    {
     "data": {
      "text/plain": [
       "0       57.0\n",
       "1       11.0\n",
       "2       48.0\n",
       "3       52.0\n",
       "4       15.0\n",
       "        ... \n",
       "1006    14.0\n",
       "1007    37.0\n",
       "1008    39.0\n",
       "1009    27.0\n",
       "1010     NaN\n",
       "Name: age, Length: 1011, dtype: float64"
      ]
     },
     "execution_count": 45,
     "metadata": {},
     "output_type": "execute_result"
    }
   ],
   "source": [
    "pd.to_numeric(df_usa.age,errors='coerce')"
   ]
  },
  {
   "cell_type": "code",
   "execution_count": 46,
   "id": "e5d8fc00",
   "metadata": {},
   "outputs": [
    {
     "name": "stdout",
     "output_type": "stream",
     "text": [
      "<class 'pandas.core.frame.DataFrame'>\n",
      "Int64Index: 1011 entries, 0 to 1010\n",
      "Data columns (total 16 columns):\n",
      " #   Column       Non-Null Count  Dtype         \n",
      "---  ------       --------------  -----         \n",
      " 0   case_number  1011 non-null   object        \n",
      " 1   date         1009 non-null   datetime64[ns]\n",
      " 2   year         1011 non-null   float64       \n",
      " 3   type         1011 non-null   object        \n",
      " 4   country      1011 non-null   object        \n",
      " 5   area         1011 non-null   object        \n",
      " 6   location     1005 non-null   object        \n",
      " 7   activity     963 non-null    object        \n",
      " 8   gender       985 non-null    object        \n",
      " 9   age          813 non-null    object        \n",
      " 10  injury       1011 non-null   object        \n",
      " 11  fatal        949 non-null    object        \n",
      " 12  state        1002 non-null   object        \n",
      " 13  latitude     1002 non-null   float64       \n",
      " 14  longitude    1002 non-null   float64       \n",
      " 15  age_clean    790 non-null    float64       \n",
      "dtypes: datetime64[ns](1), float64(4), object(11)\n",
      "memory usage: 134.3+ KB\n"
     ]
    }
   ],
   "source": [
    "df_usa[\"age_clean\"]=pd.to_numeric(df_usa.age,errors='coerce')\n",
    "df_usa.info()"
   ]
  },
  {
   "cell_type": "code",
   "execution_count": 47,
   "id": "4307c6e4",
   "metadata": {},
   "outputs": [
    {
     "data": {
      "text/plain": [
       "count    790.000000\n",
       "mean      28.327848\n",
       "std       16.040826\n",
       "min        3.000000\n",
       "25%       16.000000\n",
       "50%       24.000000\n",
       "75%       40.000000\n",
       "max       86.000000\n",
       "Name: age_clean, dtype: float64"
      ]
     },
     "execution_count": 47,
     "metadata": {},
     "output_type": "execute_result"
    }
   ],
   "source": [
    "df_usa.age_clean.describe()"
   ]
  },
  {
   "cell_type": "code",
   "execution_count": 48,
   "id": "8735c9ec",
   "metadata": {},
   "outputs": [
    {
     "data": {
      "text/plain": [
       "gender\n",
       "F      26.574586\n",
       "M      28.872517\n",
       "M      42.000000\n",
       "lli    38.000000\n",
       "Name: age_clean, dtype: float64"
      ]
     },
     "execution_count": 48,
     "metadata": {},
     "output_type": "execute_result"
    }
   ],
   "source": [
    "df_usa.groupby(\"gender\").age_clean.mean()"
   ]
  },
  {
   "cell_type": "code",
   "execution_count": 49,
   "id": "9655dcc8",
   "metadata": {},
   "outputs": [
    {
     "data": {
      "text/plain": [
       "fatal\n",
       "N          27.957534\n",
       "UNKNOWN          NaN\n",
       "Y          41.277778\n",
       "Name: age_clean, dtype: float64"
      ]
     },
     "execution_count": 49,
     "metadata": {},
     "output_type": "execute_result"
    }
   ],
   "source": [
    "df_usa.groupby(\"fatal\").age_clean.mean()"
   ]
  },
  {
   "cell_type": "code",
   "execution_count": 50,
   "id": "9984da60",
   "metadata": {},
   "outputs": [
    {
     "data": {
      "text/plain": [
       "Foot bitten                                   30\n",
       "Left foot bitten                              27\n",
       "Right foot bitten                             18\n",
       "No injury                                     13\n",
       "FATAL                                         12\n",
       "                                              ..\n",
       "Puncture wounds to hand                        1\n",
       "Puncture wounds to calf and hand               1\n",
       "Puncture wound to left ankle                   1\n",
       "Lacerations to leg                             1\n",
       "No injury to occupant; shark bit propeller     1\n",
       "Name: injury, Length: 702, dtype: int64"
      ]
     },
     "execution_count": 50,
     "metadata": {},
     "output_type": "execute_result"
    }
   ],
   "source": [
    "df_usa.injury.value_counts()"
   ]
  },
  {
   "cell_type": "code",
   "execution_count": 51,
   "id": "1a9c4227",
   "metadata": {},
   "outputs": [
    {
     "data": {
      "text/plain": [
       "Right leg bitten                                    2\n",
       "Ankle lacerated                                     2\n",
       "No injury, paddleboard bitten                       2\n",
       "Minor lacerations to right foot                     2\n",
       "Lacerations to left forearm                         2\n",
       "Laceration to toe                                   2\n",
       "Left calf lacerated                                 2\n",
       "Lacerations to arm                                  2\n",
       "Laceration to thigh                                 2\n",
       "Cuts on right foot                                  2\n",
       "Minor injury to ankle                               2\n",
       "Leg injured                                         2\n",
       "Lacerations to right lower leg                      2\n",
       "No injury. Hull bitten, tooth fragment recovered    2\n",
       "Thigh bitten                                        2\n",
       "Lacerations to buttocks & thigh                     2\n",
       "Minor injuries to foot                              2\n",
       "Laceration to forearm                               2\n",
       "No injury, shark bumped surfboard                   2\n",
       "Right hand bitten                                   2\n",
       "Name: injury, dtype: int64"
      ]
     },
     "execution_count": 51,
     "metadata": {},
     "output_type": "execute_result"
    }
   ],
   "source": [
    "df_usa.injury.value_counts()[50:70]"
   ]
  },
  {
   "cell_type": "markdown",
   "id": "4f5474a3",
   "metadata": {},
   "source": [
    "For the Injury type - Parent Categories:\n",
    "\n",
    "bitten/bite(bit)\n",
    "\n",
    "lacerations/lacerated(lacerat)\n",
    "\n",
    "no injury\n",
    "\n",
    "fatal\n",
    "\n",
    "puncture\n",
    "\n",
    "minor injury/injured(injur)\n",
    "\n",
    "other\n"
   ]
  },
  {
   "cell_type": "code",
   "execution_count": 52,
   "id": "b5dfdf35",
   "metadata": {},
   "outputs": [
    {
     "data": {
      "text/plain": [
       "Laceration       351\n",
       "Bite             231\n",
       "No Injury        131\n",
       "Minor Injury     124\n",
       "Puncture          96\n",
       "Severe Injury     47\n",
       "Other             31\n",
       "Name: parent_injury, dtype: int64"
      ]
     },
     "execution_count": 52,
     "metadata": {},
     "output_type": "execute_result"
    }
   ],
   "source": [
    "df_usa[\"parent_injury\"] = None\n",
    "\n",
    "mask = df_usa.injury.str.lower().str.contains(\"lacerat\")\n",
    "df_usa.loc[mask,\"parent_injury\"]= \"Laceration\"\n",
    "\n",
    "\n",
    "mask = df_usa.injury.str.lower().str.contains(\"cut\")\n",
    "df_usa.loc[mask,\"parent_injury\"]= \"Laceration\"\n",
    "\n",
    "\n",
    "mask = df_usa.injury.str.lower().str.contains(\"gash\")\n",
    "df_usa.loc[mask,\"parent_injury\"]= \"Laceration\"\n",
    "\n",
    "\n",
    "mask = df_usa.injury.str.lower().str.contains(\"fatal\")\n",
    "df_usa.loc[mask,\"parent_injury\"]= \"Severe Injury\"\n",
    "\n",
    "\n",
    "mask = df_usa.injury.str.lower().str.contains(\"bit\")\n",
    "df_usa.loc[mask,\"parent_injury\"]= \"Bite\"\n",
    "\n",
    "\n",
    "mask = df_usa.injury.str.lower().str.contains(\"nip\")\n",
    "df_usa.loc[mask,\"parent_injury\"]= \"Bite\"\n",
    "\n",
    "\n",
    "mask = df_usa.injury.str.lower().str.contains(\"puncture\")\n",
    "df_usa.loc[mask,\"parent_injury\"]= \"Puncture\"\n",
    "\n",
    "\n",
    "mask = df_usa.injury.str.lower().str.contains(\"injur\")\n",
    "df_usa.loc[mask,\"parent_injury\"]= \"Minor Injury\"\n",
    "\n",
    "\n",
    "mask = df_usa.injury.str.lower().str.contains(\"abrasion\")\n",
    "df_usa.loc[mask,\"parent_injury\"]= \"Minor Injury\"\n",
    "\n",
    "\n",
    "mask = df_usa.injury.str.lower().str.contains(\"no injury\")\n",
    "df_usa.loc[mask,\"parent_injury\"]= \"No Injury\"\n",
    "\n",
    "\n",
    "mask = df_usa.injury.str.lower().str.contains(\"major\")\n",
    "df_usa.loc[mask,\"parent_injury\"]= \"Severe Injury\"\n",
    "\n",
    "\n",
    "mask = df_usa.injury.str.lower().str.contains(\"severe\")\n",
    "df_usa.loc[mask,\"parent_injury\"]= \"Severe Injury\"\n",
    "\n",
    "\n",
    "df_usa.loc[pd.isnull(df_usa.parent_injury), \"parent_injury\"] = \"Other\"\n",
    "\n",
    "df_usa.parent_injury.value_counts()\n"
   ]
  },
  {
   "cell_type": "code",
   "execution_count": 53,
   "id": "f9524d30",
   "metadata": {},
   "outputs": [
    {
     "data": {
      "text/html": [
       "<div>\n",
       "<style scoped>\n",
       "    .dataframe tbody tr th:only-of-type {\n",
       "        vertical-align: middle;\n",
       "    }\n",
       "\n",
       "    .dataframe tbody tr th {\n",
       "        vertical-align: top;\n",
       "    }\n",
       "\n",
       "    .dataframe thead th {\n",
       "        text-align: right;\n",
       "    }\n",
       "</style>\n",
       "<table border=\"1\" class=\"dataframe\">\n",
       "  <thead>\n",
       "    <tr style=\"text-align: right;\">\n",
       "      <th></th>\n",
       "      <th>case_number</th>\n",
       "      <th>date</th>\n",
       "      <th>year</th>\n",
       "      <th>type</th>\n",
       "      <th>country</th>\n",
       "      <th>area</th>\n",
       "      <th>location</th>\n",
       "      <th>activity</th>\n",
       "      <th>gender</th>\n",
       "      <th>age</th>\n",
       "      <th>injury</th>\n",
       "      <th>fatal</th>\n",
       "      <th>state</th>\n",
       "      <th>latitude</th>\n",
       "      <th>longitude</th>\n",
       "      <th>age_clean</th>\n",
       "      <th>parent_injury</th>\n",
       "    </tr>\n",
       "  </thead>\n",
       "  <tbody>\n",
       "    <tr>\n",
       "      <th>82</th>\n",
       "      <td>2016.10.10</td>\n",
       "      <td>2016-10-10</td>\n",
       "      <td>2016.0</td>\n",
       "      <td>Unprovoked</td>\n",
       "      <td>USA</td>\n",
       "      <td>Oregon</td>\n",
       "      <td>Indian Beach, Ecola State Park, Clatsop County</td>\n",
       "      <td>Surfing</td>\n",
       "      <td>M</td>\n",
       "      <td>29</td>\n",
       "      <td>Wounds to upper thigh and lower leg</td>\n",
       "      <td>N</td>\n",
       "      <td>OR</td>\n",
       "      <td>44.141905</td>\n",
       "      <td>-120.538099</td>\n",
       "      <td>29.0</td>\n",
       "      <td>Other</td>\n",
       "    </tr>\n",
       "    <tr>\n",
       "      <th>97</th>\n",
       "      <td>2016.08.06</td>\n",
       "      <td>2016-08-06</td>\n",
       "      <td>2016.0</td>\n",
       "      <td>Unprovoked</td>\n",
       "      <td>USA</td>\n",
       "      <td>Hawaii</td>\n",
       "      <td>Maui</td>\n",
       "      <td>SUP Foil boarding</td>\n",
       "      <td>M</td>\n",
       "      <td>21</td>\n",
       "      <td>No inury, shark &amp; board collided</td>\n",
       "      <td>N</td>\n",
       "      <td>HI</td>\n",
       "      <td>20.460000</td>\n",
       "      <td>-157.505000</td>\n",
       "      <td>21.0</td>\n",
       "      <td>Other</td>\n",
       "    </tr>\n",
       "    <tr>\n",
       "      <th>124</th>\n",
       "      <td>2016.05.15</td>\n",
       "      <td>2016-05-15</td>\n",
       "      <td>2016.0</td>\n",
       "      <td>Provoked</td>\n",
       "      <td>USA</td>\n",
       "      <td>Florida</td>\n",
       "      <td>Boca Raton, Palm Beach County</td>\n",
       "      <td>Teasing a shark</td>\n",
       "      <td>F</td>\n",
       "      <td>23</td>\n",
       "      <td>Arm grabbed PROVOKED INCIDENT</td>\n",
       "      <td>N</td>\n",
       "      <td>FL</td>\n",
       "      <td>27.975728</td>\n",
       "      <td>-83.833017</td>\n",
       "      <td>23.0</td>\n",
       "      <td>Other</td>\n",
       "    </tr>\n",
       "    <tr>\n",
       "      <th>171</th>\n",
       "      <td>2015.08.22.b</td>\n",
       "      <td>2015-08-22</td>\n",
       "      <td>2015.0</td>\n",
       "      <td>Invalid</td>\n",
       "      <td>USA</td>\n",
       "      <td>Florida</td>\n",
       "      <td>Cocoa Beach, Brevard  County</td>\n",
       "      <td>NaN</td>\n",
       "      <td>M</td>\n",
       "      <td>NaN</td>\n",
       "      <td>Wound to right lower leg</td>\n",
       "      <td>NaN</td>\n",
       "      <td>FL</td>\n",
       "      <td>27.975728</td>\n",
       "      <td>-83.833017</td>\n",
       "      <td>NaN</td>\n",
       "      <td>Other</td>\n",
       "    </tr>\n",
       "    <tr>\n",
       "      <th>191</th>\n",
       "      <td>2015.06.14.b</td>\n",
       "      <td>2015-06-14</td>\n",
       "      <td>2015.0</td>\n",
       "      <td>Unprovoked</td>\n",
       "      <td>USA</td>\n",
       "      <td>North Carolina</td>\n",
       "      <td>Oak Island, Brunswick County</td>\n",
       "      <td>Wading</td>\n",
       "      <td>M</td>\n",
       "      <td>16</td>\n",
       "      <td>Arm amputated below shoulder</td>\n",
       "      <td>N</td>\n",
       "      <td>NC</td>\n",
       "      <td>35.214563</td>\n",
       "      <td>-79.891267</td>\n",
       "      <td>16.0</td>\n",
       "      <td>Other</td>\n",
       "    </tr>\n",
       "    <tr>\n",
       "      <th>231</th>\n",
       "      <td>2014.09.13</td>\n",
       "      <td>2014-09-13</td>\n",
       "      <td>2014.0</td>\n",
       "      <td>Invalid</td>\n",
       "      <td>USA</td>\n",
       "      <td>California</td>\n",
       "      <td>Manresa State Beach, Santa Cruz County</td>\n",
       "      <td>Surfing</td>\n",
       "      <td>M</td>\n",
       "      <td>NaN</td>\n",
       "      <td>A hoax, no shark involvement</td>\n",
       "      <td>NaN</td>\n",
       "      <td>CA</td>\n",
       "      <td>37.271875</td>\n",
       "      <td>-119.270415</td>\n",
       "      <td>NaN</td>\n",
       "      <td>Other</td>\n",
       "    </tr>\n",
       "    <tr>\n",
       "      <th>237</th>\n",
       "      <td>2014.08.29.a</td>\n",
       "      <td>2014-08-29</td>\n",
       "      <td>2014.0</td>\n",
       "      <td>Invalid</td>\n",
       "      <td>USA</td>\n",
       "      <td>Florida</td>\n",
       "      <td>Atlantic Beach, Duval County</td>\n",
       "      <td>NaN</td>\n",
       "      <td>NaN</td>\n",
       "      <td>NaN</td>\n",
       "      <td>Shark involvement not confirmed</td>\n",
       "      <td>NaN</td>\n",
       "      <td>FL</td>\n",
       "      <td>27.975728</td>\n",
       "      <td>-83.833017</td>\n",
       "      <td>NaN</td>\n",
       "      <td>Other</td>\n",
       "    </tr>\n",
       "    <tr>\n",
       "      <th>295</th>\n",
       "      <td>2013.09.08</td>\n",
       "      <td>2013-09-08</td>\n",
       "      <td>2013.0</td>\n",
       "      <td>Unprovoked</td>\n",
       "      <td>USA</td>\n",
       "      <td>South Carolina</td>\n",
       "      <td>St. Helena Island, Beaufort County</td>\n",
       "      <td>NaN</td>\n",
       "      <td>F</td>\n",
       "      <td>NaN</td>\n",
       "      <td>No details</td>\n",
       "      <td>UNKNOWN</td>\n",
       "      <td>SC</td>\n",
       "      <td>33.625050</td>\n",
       "      <td>-80.947038</td>\n",
       "      <td>NaN</td>\n",
       "      <td>Other</td>\n",
       "    </tr>\n",
       "    <tr>\n",
       "      <th>349</th>\n",
       "      <td>2012.10.07</td>\n",
       "      <td>2012-10-10</td>\n",
       "      <td>2012.0</td>\n",
       "      <td>Unprovoked</td>\n",
       "      <td>USA</td>\n",
       "      <td>California</td>\n",
       "      <td>Davenport Landing, Santa Cruz County</td>\n",
       "      <td>Windsurfing</td>\n",
       "      <td>M</td>\n",
       "      <td>42</td>\n",
       "      <td>No ijnury to boardrider, shark struck board br...</td>\n",
       "      <td>N</td>\n",
       "      <td>CA</td>\n",
       "      <td>37.271875</td>\n",
       "      <td>-119.270415</td>\n",
       "      <td>42.0</td>\n",
       "      <td>Other</td>\n",
       "    </tr>\n",
       "    <tr>\n",
       "      <th>366</th>\n",
       "      <td>2012.07.24</td>\n",
       "      <td>2012-07-24</td>\n",
       "      <td>2012.0</td>\n",
       "      <td>Invalid</td>\n",
       "      <td>USA</td>\n",
       "      <td>North Carolina</td>\n",
       "      <td>Ocean Isle, Brunswick County</td>\n",
       "      <td>NaN</td>\n",
       "      <td>M</td>\n",
       "      <td>12</td>\n",
       "      <td>Shark involvement unconfirmed</td>\n",
       "      <td>NaN</td>\n",
       "      <td>NC</td>\n",
       "      <td>35.214563</td>\n",
       "      <td>-79.891267</td>\n",
       "      <td>12.0</td>\n",
       "      <td>Other</td>\n",
       "    </tr>\n",
       "    <tr>\n",
       "      <th>522</th>\n",
       "      <td>2009.04.11</td>\n",
       "      <td>2009-04-11</td>\n",
       "      <td>2009.0</td>\n",
       "      <td>Invalid</td>\n",
       "      <td>USA</td>\n",
       "      <td>Hawaii</td>\n",
       "      <td>Kona</td>\n",
       "      <td>Spearfishing</td>\n",
       "      <td>M</td>\n",
       "      <td>49</td>\n",
       "      <td>Missing</td>\n",
       "      <td>NaN</td>\n",
       "      <td>HI</td>\n",
       "      <td>20.460000</td>\n",
       "      <td>-157.505000</td>\n",
       "      <td>49.0</td>\n",
       "      <td>Other</td>\n",
       "    </tr>\n",
       "    <tr>\n",
       "      <th>527</th>\n",
       "      <td>2009.02.08</td>\n",
       "      <td>2009-02-08</td>\n",
       "      <td>2009.0</td>\n",
       "      <td>Sea Disaster</td>\n",
       "      <td>USA</td>\n",
       "      <td>Puerto Rico</td>\n",
       "      <td>Quebradillas</td>\n",
       "      <td>Air Disaster</td>\n",
       "      <td>M</td>\n",
       "      <td>NaN</td>\n",
       "      <td>It is probable that all 5 passengers died on i...</td>\n",
       "      <td>Y</td>\n",
       "      <td>NaN</td>\n",
       "      <td>NaN</td>\n",
       "      <td>NaN</td>\n",
       "      <td>NaN</td>\n",
       "      <td>Other</td>\n",
       "    </tr>\n",
       "    <tr>\n",
       "      <th>537</th>\n",
       "      <td>2008.09.01</td>\n",
       "      <td>2008-09-01</td>\n",
       "      <td>2008.0</td>\n",
       "      <td>Unprovoked</td>\n",
       "      <td>USA</td>\n",
       "      <td>Florida</td>\n",
       "      <td>New Smyrna Beach, Volusia County</td>\n",
       "      <td>Surfing</td>\n",
       "      <td>M</td>\n",
       "      <td>52</td>\n",
       "      <td>Shark bumped right ankle</td>\n",
       "      <td>N</td>\n",
       "      <td>FL</td>\n",
       "      <td>27.975728</td>\n",
       "      <td>-83.833017</td>\n",
       "      <td>52.0</td>\n",
       "      <td>Other</td>\n",
       "    </tr>\n",
       "    <tr>\n",
       "      <th>539</th>\n",
       "      <td>2008.08.30.b</td>\n",
       "      <td>2008-08-30</td>\n",
       "      <td>2008.0</td>\n",
       "      <td>Invalid</td>\n",
       "      <td>USA</td>\n",
       "      <td>Hawaii</td>\n",
       "      <td>McKenzie Beach Park in Pahoa, Hawai'i</td>\n",
       "      <td>Swimming</td>\n",
       "      <td>M</td>\n",
       "      <td>27</td>\n",
       "      <td>Death was probably due to drowning</td>\n",
       "      <td>NaN</td>\n",
       "      <td>HI</td>\n",
       "      <td>20.460000</td>\n",
       "      <td>-157.505000</td>\n",
       "      <td>27.0</td>\n",
       "      <td>Other</td>\n",
       "    </tr>\n",
       "    <tr>\n",
       "      <th>592</th>\n",
       "      <td>2007.10.07</td>\n",
       "      <td>2007-10-07</td>\n",
       "      <td>2007.0</td>\n",
       "      <td>Unprovoked</td>\n",
       "      <td>USA</td>\n",
       "      <td>California</td>\n",
       "      <td>Venice Pier, Venice, Los Angeles County</td>\n",
       "      <td>Surfing</td>\n",
       "      <td>M</td>\n",
       "      <td>22</td>\n",
       "      <td>4 scratches on left hand</td>\n",
       "      <td>N</td>\n",
       "      <td>CA</td>\n",
       "      <td>37.271875</td>\n",
       "      <td>-119.270415</td>\n",
       "      <td>22.0</td>\n",
       "      <td>Other</td>\n",
       "    </tr>\n",
       "    <tr>\n",
       "      <th>596</th>\n",
       "      <td>2007.09.22.b</td>\n",
       "      <td>2007-09-22</td>\n",
       "      <td>2007.0</td>\n",
       "      <td>Invalid</td>\n",
       "      <td>USA</td>\n",
       "      <td>Florida</td>\n",
       "      <td>Jupiter Inlet</td>\n",
       "      <td>Scuba diving</td>\n",
       "      <td>F</td>\n",
       "      <td>NaN</td>\n",
       "      <td>Shark involvement prior to death unconfirmed</td>\n",
       "      <td>NaN</td>\n",
       "      <td>FL</td>\n",
       "      <td>27.975728</td>\n",
       "      <td>-83.833017</td>\n",
       "      <td>NaN</td>\n",
       "      <td>Other</td>\n",
       "    </tr>\n",
       "    <tr>\n",
       "      <th>665</th>\n",
       "      <td>2006.09.11</td>\n",
       "      <td>2006-09-11</td>\n",
       "      <td>2006.0</td>\n",
       "      <td>Unprovoked</td>\n",
       "      <td>USA</td>\n",
       "      <td>Florida</td>\n",
       "      <td>New Smyrna Beach, Volusia County</td>\n",
       "      <td>Surfing</td>\n",
       "      <td>M</td>\n",
       "      <td>52</td>\n",
       "      <td>Left torso grazed</td>\n",
       "      <td>N</td>\n",
       "      <td>FL</td>\n",
       "      <td>27.975728</td>\n",
       "      <td>-83.833017</td>\n",
       "      <td>52.0</td>\n",
       "      <td>Other</td>\n",
       "    </tr>\n",
       "    <tr>\n",
       "      <th>685</th>\n",
       "      <td>2006.06.26</td>\n",
       "      <td>2006-06-26</td>\n",
       "      <td>2006.0</td>\n",
       "      <td>Provoked</td>\n",
       "      <td>USA</td>\n",
       "      <td>Florida</td>\n",
       "      <td>Fort Myers</td>\n",
       "      <td>Fishing</td>\n",
       "      <td>M</td>\n",
       "      <td>NaN</td>\n",
       "      <td>Non-swimmer pulled off pier&amp; into the water by...</td>\n",
       "      <td>N</td>\n",
       "      <td>FL</td>\n",
       "      <td>27.975728</td>\n",
       "      <td>-83.833017</td>\n",
       "      <td>NaN</td>\n",
       "      <td>Other</td>\n",
       "    </tr>\n",
       "    <tr>\n",
       "      <th>766</th>\n",
       "      <td>2004.09.10</td>\n",
       "      <td>2004-09-10</td>\n",
       "      <td>2004.0</td>\n",
       "      <td>Invalid</td>\n",
       "      <td>USA</td>\n",
       "      <td>Texas</td>\n",
       "      <td>South Padre Island</td>\n",
       "      <td>Surf fishing</td>\n",
       "      <td>M</td>\n",
       "      <td>NaN</td>\n",
       "      <td>Minor scratch on calf</td>\n",
       "      <td>NaN</td>\n",
       "      <td>TX</td>\n",
       "      <td>31.169336</td>\n",
       "      <td>-100.076842</td>\n",
       "      <td>NaN</td>\n",
       "      <td>Other</td>\n",
       "    </tr>\n",
       "    <tr>\n",
       "      <th>788</th>\n",
       "      <td>2004.04.04</td>\n",
       "      <td>2004-04-04</td>\n",
       "      <td>2004.0</td>\n",
       "      <td>Invalid</td>\n",
       "      <td>USA</td>\n",
       "      <td>Hawaii</td>\n",
       "      <td>Velzyland</td>\n",
       "      <td>Surfing</td>\n",
       "      <td>F</td>\n",
       "      <td>22</td>\n",
       "      <td>Disappeared, surfboard washed ashore, marks on...</td>\n",
       "      <td>NaN</td>\n",
       "      <td>HI</td>\n",
       "      <td>20.460000</td>\n",
       "      <td>-157.505000</td>\n",
       "      <td>22.0</td>\n",
       "      <td>Other</td>\n",
       "    </tr>\n",
       "    <tr>\n",
       "      <th>816</th>\n",
       "      <td>2003.09.13.b</td>\n",
       "      <td>2003-09-13</td>\n",
       "      <td>2003.0</td>\n",
       "      <td>Unprovoked</td>\n",
       "      <td>USA</td>\n",
       "      <td>Florida</td>\n",
       "      <td>Daytona Beach, Volusia County</td>\n",
       "      <td>Body boarding</td>\n",
       "      <td>M</td>\n",
       "      <td>18</td>\n",
       "      <td>Left calf avulsion</td>\n",
       "      <td>N</td>\n",
       "      <td>FL</td>\n",
       "      <td>27.975728</td>\n",
       "      <td>-83.833017</td>\n",
       "      <td>18.0</td>\n",
       "      <td>Other</td>\n",
       "    </tr>\n",
       "    <tr>\n",
       "      <th>823</th>\n",
       "      <td>2003.07.15</td>\n",
       "      <td>2003-07-15</td>\n",
       "      <td>2003.0</td>\n",
       "      <td>Unprovoked</td>\n",
       "      <td>USA</td>\n",
       "      <td>Florida</td>\n",
       "      <td>Daytona Beach, Volusia County</td>\n",
       "      <td>Wading</td>\n",
       "      <td>F</td>\n",
       "      <td>15</td>\n",
       "      <td>Heel &amp; sole of left foot</td>\n",
       "      <td>N</td>\n",
       "      <td>FL</td>\n",
       "      <td>27.975728</td>\n",
       "      <td>-83.833017</td>\n",
       "      <td>15.0</td>\n",
       "      <td>Other</td>\n",
       "    </tr>\n",
       "    <tr>\n",
       "      <th>841</th>\n",
       "      <td>2003.04.21.a</td>\n",
       "      <td>2003-04-21</td>\n",
       "      <td>2003.0</td>\n",
       "      <td>Unprovoked</td>\n",
       "      <td>USA</td>\n",
       "      <td>Florida</td>\n",
       "      <td>Shepard Park, Cocoa Beach, Brevard County</td>\n",
       "      <td>Surfing</td>\n",
       "      <td>M</td>\n",
       "      <td>17</td>\n",
       "      <td>Survived</td>\n",
       "      <td>N</td>\n",
       "      <td>FL</td>\n",
       "      <td>27.975728</td>\n",
       "      <td>-83.833017</td>\n",
       "      <td>17.0</td>\n",
       "      <td>Other</td>\n",
       "    </tr>\n",
       "    <tr>\n",
       "      <th>879</th>\n",
       "      <td>2002.07.09.b</td>\n",
       "      <td>2002-07-09</td>\n",
       "      <td>2002.0</td>\n",
       "      <td>Provoked</td>\n",
       "      <td>USA</td>\n",
       "      <td>Maryland</td>\n",
       "      <td>100 miles off Ocean City, Maryland, in 7000' o...</td>\n",
       "      <td>Shark Fishing</td>\n",
       "      <td>M</td>\n",
       "      <td>41</td>\n",
       "      <td>Drowned when caught in line and pulled overboa...</td>\n",
       "      <td>Y</td>\n",
       "      <td>MD</td>\n",
       "      <td>38.806352</td>\n",
       "      <td>-77.268416</td>\n",
       "      <td>41.0</td>\n",
       "      <td>Other</td>\n",
       "    </tr>\n",
       "    <tr>\n",
       "      <th>889</th>\n",
       "      <td>2002.05.22.a</td>\n",
       "      <td>2002-05-22</td>\n",
       "      <td>2002.0</td>\n",
       "      <td>Unprovoked</td>\n",
       "      <td>USA</td>\n",
       "      <td>Florida</td>\n",
       "      <td>Atlantic Avenue, Palm Beach County</td>\n",
       "      <td>Playing in the surf with his 2 dogs</td>\n",
       "      <td>M</td>\n",
       "      <td>35</td>\n",
       "      <td>2-inch wound on dorsum of right foot, 1-inch w...</td>\n",
       "      <td>N</td>\n",
       "      <td>FL</td>\n",
       "      <td>27.975728</td>\n",
       "      <td>-83.833017</td>\n",
       "      <td>35.0</td>\n",
       "      <td>Other</td>\n",
       "    </tr>\n",
       "    <tr>\n",
       "      <th>927</th>\n",
       "      <td>2001.07.26</td>\n",
       "      <td>2001-07-26</td>\n",
       "      <td>2001.0</td>\n",
       "      <td>Unprovoked</td>\n",
       "      <td>USA</td>\n",
       "      <td>South Carolina</td>\n",
       "      <td>Myrtle Beach, Horry County</td>\n",
       "      <td>NaN</td>\n",
       "      <td>F</td>\n",
       "      <td>NaN</td>\n",
       "      <td>Survived</td>\n",
       "      <td>N</td>\n",
       "      <td>SC</td>\n",
       "      <td>33.625050</td>\n",
       "      <td>-80.947038</td>\n",
       "      <td>NaN</td>\n",
       "      <td>Other</td>\n",
       "    </tr>\n",
       "    <tr>\n",
       "      <th>939</th>\n",
       "      <td>2001.05.29</td>\n",
       "      <td>2001-05-29</td>\n",
       "      <td>2001.0</td>\n",
       "      <td>Unprovoked</td>\n",
       "      <td>USA</td>\n",
       "      <td>Texas</td>\n",
       "      <td>Galveston Island</td>\n",
       "      <td>NaN</td>\n",
       "      <td>M</td>\n",
       "      <td>16</td>\n",
       "      <td>Survived</td>\n",
       "      <td>N</td>\n",
       "      <td>TX</td>\n",
       "      <td>31.169336</td>\n",
       "      <td>-100.076842</td>\n",
       "      <td>16.0</td>\n",
       "      <td>Other</td>\n",
       "    </tr>\n",
       "    <tr>\n",
       "      <th>958</th>\n",
       "      <td>2001.01.09</td>\n",
       "      <td>2001-01-09</td>\n",
       "      <td>2001.0</td>\n",
       "      <td>Unprovoked</td>\n",
       "      <td>USA</td>\n",
       "      <td>California</td>\n",
       "      <td>Sunset Cliffs, San Diego</td>\n",
       "      <td>Surfing</td>\n",
       "      <td>M</td>\n",
       "      <td>NaN</td>\n",
       "      <td>Foot bruised, board dinged</td>\n",
       "      <td>N</td>\n",
       "      <td>CA</td>\n",
       "      <td>37.271875</td>\n",
       "      <td>-119.270415</td>\n",
       "      <td>NaN</td>\n",
       "      <td>Other</td>\n",
       "    </tr>\n",
       "    <tr>\n",
       "      <th>984</th>\n",
       "      <td>2000.08.10</td>\n",
       "      <td>2000-08-10</td>\n",
       "      <td>2000.0</td>\n",
       "      <td>Invalid</td>\n",
       "      <td>USA</td>\n",
       "      <td>Florida</td>\n",
       "      <td>Florida Keys</td>\n",
       "      <td>Attempting to illegally enter the USA</td>\n",
       "      <td>M</td>\n",
       "      <td>23 &amp; 20</td>\n",
       "      <td>Shark involvement probably post-mortem</td>\n",
       "      <td>NaN</td>\n",
       "      <td>FL</td>\n",
       "      <td>27.975728</td>\n",
       "      <td>-83.833017</td>\n",
       "      <td>NaN</td>\n",
       "      <td>Other</td>\n",
       "    </tr>\n",
       "    <tr>\n",
       "      <th>986</th>\n",
       "      <td>2000.07.22</td>\n",
       "      <td>2000-07-22</td>\n",
       "      <td>2000.0</td>\n",
       "      <td>Unprovoked</td>\n",
       "      <td>USA</td>\n",
       "      <td>Florida</td>\n",
       "      <td>Big Pine Key, Monroe County</td>\n",
       "      <td>Snorkeling</td>\n",
       "      <td>F</td>\n",
       "      <td>45</td>\n",
       "      <td>Leg pinched</td>\n",
       "      <td>N</td>\n",
       "      <td>FL</td>\n",
       "      <td>27.975728</td>\n",
       "      <td>-83.833017</td>\n",
       "      <td>45.0</td>\n",
       "      <td>Other</td>\n",
       "    </tr>\n",
       "    <tr>\n",
       "      <th>993</th>\n",
       "      <td>2000.07.04.b</td>\n",
       "      <td>2000-07-04</td>\n",
       "      <td>2000.0</td>\n",
       "      <td>Unprovoked</td>\n",
       "      <td>USA</td>\n",
       "      <td>Florida</td>\n",
       "      <td>Daytona Beach, Volusia County</td>\n",
       "      <td>Wading</td>\n",
       "      <td>F</td>\n",
       "      <td>20</td>\n",
       "      <td>Left inner thigh</td>\n",
       "      <td>N</td>\n",
       "      <td>FL</td>\n",
       "      <td>27.975728</td>\n",
       "      <td>-83.833017</td>\n",
       "      <td>20.0</td>\n",
       "      <td>Other</td>\n",
       "    </tr>\n",
       "  </tbody>\n",
       "</table>\n",
       "</div>"
      ],
      "text/plain": [
       "      case_number       date    year          type country            area  \\\n",
       "82     2016.10.10 2016-10-10  2016.0    Unprovoked     USA          Oregon   \n",
       "97     2016.08.06 2016-08-06  2016.0    Unprovoked     USA          Hawaii   \n",
       "124    2016.05.15 2016-05-15  2016.0      Provoked     USA         Florida   \n",
       "171  2015.08.22.b 2015-08-22  2015.0       Invalid     USA         Florida   \n",
       "191  2015.06.14.b 2015-06-14  2015.0    Unprovoked     USA  North Carolina   \n",
       "231    2014.09.13 2014-09-13  2014.0       Invalid     USA      California   \n",
       "237  2014.08.29.a 2014-08-29  2014.0       Invalid     USA         Florida   \n",
       "295    2013.09.08 2013-09-08  2013.0    Unprovoked     USA  South Carolina   \n",
       "349    2012.10.07 2012-10-10  2012.0    Unprovoked     USA      California   \n",
       "366    2012.07.24 2012-07-24  2012.0       Invalid     USA  North Carolina   \n",
       "522    2009.04.11 2009-04-11  2009.0       Invalid     USA          Hawaii   \n",
       "527    2009.02.08 2009-02-08  2009.0  Sea Disaster     USA     Puerto Rico   \n",
       "537    2008.09.01 2008-09-01  2008.0    Unprovoked     USA         Florida   \n",
       "539  2008.08.30.b 2008-08-30  2008.0       Invalid     USA          Hawaii   \n",
       "592    2007.10.07 2007-10-07  2007.0    Unprovoked     USA      California   \n",
       "596  2007.09.22.b 2007-09-22  2007.0       Invalid     USA         Florida   \n",
       "665    2006.09.11 2006-09-11  2006.0    Unprovoked     USA         Florida   \n",
       "685    2006.06.26 2006-06-26  2006.0      Provoked     USA         Florida   \n",
       "766    2004.09.10 2004-09-10  2004.0       Invalid     USA           Texas   \n",
       "788    2004.04.04 2004-04-04  2004.0       Invalid     USA          Hawaii   \n",
       "816  2003.09.13.b 2003-09-13  2003.0    Unprovoked     USA         Florida   \n",
       "823    2003.07.15 2003-07-15  2003.0    Unprovoked     USA         Florida   \n",
       "841  2003.04.21.a 2003-04-21  2003.0    Unprovoked     USA         Florida   \n",
       "879  2002.07.09.b 2002-07-09  2002.0      Provoked     USA        Maryland   \n",
       "889  2002.05.22.a 2002-05-22  2002.0    Unprovoked     USA         Florida   \n",
       "927    2001.07.26 2001-07-26  2001.0    Unprovoked     USA  South Carolina   \n",
       "939    2001.05.29 2001-05-29  2001.0    Unprovoked     USA           Texas   \n",
       "958    2001.01.09 2001-01-09  2001.0    Unprovoked     USA      California   \n",
       "984    2000.08.10 2000-08-10  2000.0       Invalid     USA         Florida   \n",
       "986    2000.07.22 2000-07-22  2000.0    Unprovoked     USA         Florida   \n",
       "993  2000.07.04.b 2000-07-04  2000.0    Unprovoked     USA         Florida   \n",
       "\n",
       "                                              location  \\\n",
       "82      Indian Beach, Ecola State Park, Clatsop County   \n",
       "97                                                Maui   \n",
       "124                      Boca Raton, Palm Beach County   \n",
       "171                       Cocoa Beach, Brevard  County   \n",
       "191                       Oak Island, Brunswick County   \n",
       "231             Manresa State Beach, Santa Cruz County   \n",
       "237                       Atlantic Beach, Duval County   \n",
       "295                 St. Helena Island, Beaufort County   \n",
       "349               Davenport Landing, Santa Cruz County   \n",
       "366                       Ocean Isle, Brunswick County   \n",
       "522                                               Kona   \n",
       "527                                       Quebradillas   \n",
       "537                   New Smyrna Beach, Volusia County   \n",
       "539             McKenzie Beach Park in Pahoa, Hawai'i    \n",
       "592            Venice Pier, Venice, Los Angeles County   \n",
       "596                                      Jupiter Inlet   \n",
       "665                   New Smyrna Beach, Volusia County   \n",
       "685                                         Fort Myers   \n",
       "766                                 South Padre Island   \n",
       "788                                          Velzyland   \n",
       "816                     Daytona Beach, Volusia County    \n",
       "823                      Daytona Beach, Volusia County   \n",
       "841         Shepard Park, Cocoa Beach, Brevard County    \n",
       "879  100 miles off Ocean City, Maryland, in 7000' o...   \n",
       "889                 Atlantic Avenue, Palm Beach County   \n",
       "927                         Myrtle Beach, Horry County   \n",
       "939                                   Galveston Island   \n",
       "958                           Sunset Cliffs, San Diego   \n",
       "984                                       Florida Keys   \n",
       "986                       Big Pine Key, Monroe County    \n",
       "993                      Daytona Beach, Volusia County   \n",
       "\n",
       "                                  activity gender      age  \\\n",
       "82                                 Surfing      M       29   \n",
       "97                       SUP Foil boarding      M       21   \n",
       "124                        Teasing a shark      F       23   \n",
       "171                                    NaN      M      NaN   \n",
       "191                                 Wading      M       16   \n",
       "231                                Surfing      M      NaN   \n",
       "237                                    NaN    NaN      NaN   \n",
       "295                                    NaN      F      NaN   \n",
       "349                            Windsurfing      M       42   \n",
       "366                                    NaN      M       12   \n",
       "522                           Spearfishing      M       49   \n",
       "527                           Air Disaster      M      NaN   \n",
       "537                                Surfing      M       52   \n",
       "539                               Swimming      M       27   \n",
       "592                                Surfing      M       22   \n",
       "596                           Scuba diving      F      NaN   \n",
       "665                                Surfing      M       52   \n",
       "685                                Fishing      M      NaN   \n",
       "766                           Surf fishing      M      NaN   \n",
       "788                                Surfing      F       22   \n",
       "816                          Body boarding      M       18   \n",
       "823                                 Wading      F       15   \n",
       "841                                Surfing      M       17   \n",
       "879                          Shark Fishing      M       41   \n",
       "889    Playing in the surf with his 2 dogs      M       35   \n",
       "927                                    NaN      F      NaN   \n",
       "939                                    NaN      M       16   \n",
       "958                                Surfing      M      NaN   \n",
       "984  Attempting to illegally enter the USA      M  23 & 20   \n",
       "986                             Snorkeling      F       45   \n",
       "993                                 Wading      F       20   \n",
       "\n",
       "                                                injury    fatal state  \\\n",
       "82                 Wounds to upper thigh and lower leg        N    OR   \n",
       "97                    No inury, shark & board collided        N    HI   \n",
       "124                      Arm grabbed PROVOKED INCIDENT        N    FL   \n",
       "171                           Wound to right lower leg      NaN    FL   \n",
       "191                       Arm amputated below shoulder        N    NC   \n",
       "231                       A hoax, no shark involvement      NaN    CA   \n",
       "237                    Shark involvement not confirmed      NaN    FL   \n",
       "295                                         No details  UNKNOWN    SC   \n",
       "349  No ijnury to boardrider, shark struck board br...        N    CA   \n",
       "366                      Shark involvement unconfirmed      NaN    NC   \n",
       "522                                            Missing      NaN    HI   \n",
       "527  It is probable that all 5 passengers died on i...        Y   NaN   \n",
       "537                           Shark bumped right ankle        N    FL   \n",
       "539                 Death was probably due to drowning      NaN    HI   \n",
       "592                           4 scratches on left hand        N    CA   \n",
       "596       Shark involvement prior to death unconfirmed      NaN    FL   \n",
       "665                                  Left torso grazed        N    FL   \n",
       "685  Non-swimmer pulled off pier& into the water by...        N    FL   \n",
       "766                              Minor scratch on calf      NaN    TX   \n",
       "788  Disappeared, surfboard washed ashore, marks on...      NaN    HI   \n",
       "816                                 Left calf avulsion        N    FL   \n",
       "823                           Heel & sole of left foot        N    FL   \n",
       "841                                           Survived        N    FL   \n",
       "879  Drowned when caught in line and pulled overboa...        Y    MD   \n",
       "889  2-inch wound on dorsum of right foot, 1-inch w...        N    FL   \n",
       "927                                           Survived        N    SC   \n",
       "939                                           Survived        N    TX   \n",
       "958                         Foot bruised, board dinged        N    CA   \n",
       "984             Shark involvement probably post-mortem      NaN    FL   \n",
       "986                                        Leg pinched        N    FL   \n",
       "993                                   Left inner thigh        N    FL   \n",
       "\n",
       "      latitude   longitude  age_clean parent_injury  \n",
       "82   44.141905 -120.538099       29.0         Other  \n",
       "97   20.460000 -157.505000       21.0         Other  \n",
       "124  27.975728  -83.833017       23.0         Other  \n",
       "171  27.975728  -83.833017        NaN         Other  \n",
       "191  35.214563  -79.891267       16.0         Other  \n",
       "231  37.271875 -119.270415        NaN         Other  \n",
       "237  27.975728  -83.833017        NaN         Other  \n",
       "295  33.625050  -80.947038        NaN         Other  \n",
       "349  37.271875 -119.270415       42.0         Other  \n",
       "366  35.214563  -79.891267       12.0         Other  \n",
       "522  20.460000 -157.505000       49.0         Other  \n",
       "527        NaN         NaN        NaN         Other  \n",
       "537  27.975728  -83.833017       52.0         Other  \n",
       "539  20.460000 -157.505000       27.0         Other  \n",
       "592  37.271875 -119.270415       22.0         Other  \n",
       "596  27.975728  -83.833017        NaN         Other  \n",
       "665  27.975728  -83.833017       52.0         Other  \n",
       "685  27.975728  -83.833017        NaN         Other  \n",
       "766  31.169336 -100.076842        NaN         Other  \n",
       "788  20.460000 -157.505000       22.0         Other  \n",
       "816  27.975728  -83.833017       18.0         Other  \n",
       "823  27.975728  -83.833017       15.0         Other  \n",
       "841  27.975728  -83.833017       17.0         Other  \n",
       "879  38.806352  -77.268416       41.0         Other  \n",
       "889  27.975728  -83.833017       35.0         Other  \n",
       "927  33.625050  -80.947038        NaN         Other  \n",
       "939  31.169336 -100.076842       16.0         Other  \n",
       "958  37.271875 -119.270415        NaN         Other  \n",
       "984  27.975728  -83.833017        NaN         Other  \n",
       "986  27.975728  -83.833017       45.0         Other  \n",
       "993  27.975728  -83.833017       20.0         Other  "
      ]
     },
     "execution_count": 53,
     "metadata": {},
     "output_type": "execute_result"
    }
   ],
   "source": [
    "df_usa.loc[df_usa.parent_injury == \"Other\"]"
   ]
  },
  {
   "cell_type": "code",
   "execution_count": 54,
   "id": "b78ddf9f",
   "metadata": {},
   "outputs": [
    {
     "data": {
      "text/html": [
       "<div>\n",
       "<style scoped>\n",
       "    .dataframe tbody tr th:only-of-type {\n",
       "        vertical-align: middle;\n",
       "    }\n",
       "\n",
       "    .dataframe tbody tr th {\n",
       "        vertical-align: top;\n",
       "    }\n",
       "\n",
       "    .dataframe thead th {\n",
       "        text-align: right;\n",
       "    }\n",
       "</style>\n",
       "<table border=\"1\" class=\"dataframe\">\n",
       "  <thead>\n",
       "    <tr style=\"text-align: right;\">\n",
       "      <th></th>\n",
       "      <th>case_number</th>\n",
       "      <th>date</th>\n",
       "      <th>year</th>\n",
       "      <th>type</th>\n",
       "      <th>country</th>\n",
       "      <th>area</th>\n",
       "      <th>location</th>\n",
       "      <th>activity</th>\n",
       "      <th>gender</th>\n",
       "      <th>age</th>\n",
       "      <th>injury</th>\n",
       "      <th>fatal</th>\n",
       "      <th>state</th>\n",
       "      <th>latitude</th>\n",
       "      <th>longitude</th>\n",
       "      <th>age_clean</th>\n",
       "      <th>parent_injury</th>\n",
       "      <th>month</th>\n",
       "    </tr>\n",
       "  </thead>\n",
       "  <tbody>\n",
       "    <tr>\n",
       "      <th>0</th>\n",
       "      <td>2018.06.25</td>\n",
       "      <td>2018-06-25</td>\n",
       "      <td>2018.0</td>\n",
       "      <td>Boating</td>\n",
       "      <td>USA</td>\n",
       "      <td>California</td>\n",
       "      <td>Oceanside, San Diego County</td>\n",
       "      <td>Paddling</td>\n",
       "      <td>F</td>\n",
       "      <td>57</td>\n",
       "      <td>No injury to occupant, outrigger canoe and pad...</td>\n",
       "      <td>N</td>\n",
       "      <td>CA</td>\n",
       "      <td>37.271875</td>\n",
       "      <td>-119.270415</td>\n",
       "      <td>57.0</td>\n",
       "      <td>No Injury</td>\n",
       "      <td>6.0</td>\n",
       "    </tr>\n",
       "    <tr>\n",
       "      <th>1</th>\n",
       "      <td>2018.06.18</td>\n",
       "      <td>2018-06-18</td>\n",
       "      <td>2018.0</td>\n",
       "      <td>Unprovoked</td>\n",
       "      <td>USA</td>\n",
       "      <td>Georgia</td>\n",
       "      <td>St. Simon Island, Glynn County</td>\n",
       "      <td>Standing</td>\n",
       "      <td>F</td>\n",
       "      <td>11</td>\n",
       "      <td>Minor injury to left thigh</td>\n",
       "      <td>N</td>\n",
       "      <td>GA</td>\n",
       "      <td>32.678125</td>\n",
       "      <td>-83.222976</td>\n",
       "      <td>11.0</td>\n",
       "      <td>Minor Injury</td>\n",
       "      <td>6.0</td>\n",
       "    </tr>\n",
       "    <tr>\n",
       "      <th>2</th>\n",
       "      <td>2018.06.09</td>\n",
       "      <td>2018-06-09</td>\n",
       "      <td>2018.0</td>\n",
       "      <td>Invalid</td>\n",
       "      <td>USA</td>\n",
       "      <td>Hawaii</td>\n",
       "      <td>Habush, Oahu</td>\n",
       "      <td>Surfing</td>\n",
       "      <td>M</td>\n",
       "      <td>48</td>\n",
       "      <td>Injury to left lower leg from surfboard skeg</td>\n",
       "      <td>N</td>\n",
       "      <td>HI</td>\n",
       "      <td>20.460000</td>\n",
       "      <td>-157.505000</td>\n",
       "      <td>48.0</td>\n",
       "      <td>Minor Injury</td>\n",
       "      <td>6.0</td>\n",
       "    </tr>\n",
       "    <tr>\n",
       "      <th>3</th>\n",
       "      <td>2018.05.27</td>\n",
       "      <td>2018-05-27</td>\n",
       "      <td>2018.0</td>\n",
       "      <td>Unprovoked</td>\n",
       "      <td>USA</td>\n",
       "      <td>Florida</td>\n",
       "      <td>Lighhouse Point Park, Ponce Inlet, Volusia County</td>\n",
       "      <td>Fishing</td>\n",
       "      <td>M</td>\n",
       "      <td>52</td>\n",
       "      <td>Minor injury to foot. PROVOKED INCIDENT</td>\n",
       "      <td>N</td>\n",
       "      <td>FL</td>\n",
       "      <td>27.975728</td>\n",
       "      <td>-83.833017</td>\n",
       "      <td>52.0</td>\n",
       "      <td>Minor Injury</td>\n",
       "      <td>5.0</td>\n",
       "    </tr>\n",
       "    <tr>\n",
       "      <th>4</th>\n",
       "      <td>2018.05.26.b</td>\n",
       "      <td>2018-05-26</td>\n",
       "      <td>2018.0</td>\n",
       "      <td>Unprovoked</td>\n",
       "      <td>USA</td>\n",
       "      <td>Florida</td>\n",
       "      <td>Cocoa Beach, Brevard  County</td>\n",
       "      <td>Walking</td>\n",
       "      <td>M</td>\n",
       "      <td>15</td>\n",
       "      <td>Lower left leg bitten</td>\n",
       "      <td>N</td>\n",
       "      <td>FL</td>\n",
       "      <td>27.975728</td>\n",
       "      <td>-83.833017</td>\n",
       "      <td>15.0</td>\n",
       "      <td>Bite</td>\n",
       "      <td>5.0</td>\n",
       "    </tr>\n",
       "  </tbody>\n",
       "</table>\n",
       "</div>"
      ],
      "text/plain": [
       "    case_number       date    year        type country        area  \\\n",
       "0    2018.06.25 2018-06-25  2018.0     Boating     USA  California   \n",
       "1    2018.06.18 2018-06-18  2018.0  Unprovoked     USA     Georgia   \n",
       "2    2018.06.09 2018-06-09  2018.0     Invalid     USA      Hawaii   \n",
       "3    2018.05.27 2018-05-27  2018.0  Unprovoked     USA     Florida   \n",
       "4  2018.05.26.b 2018-05-26  2018.0  Unprovoked     USA     Florida   \n",
       "\n",
       "                                            location  activity gender age  \\\n",
       "0                        Oceanside, San Diego County  Paddling      F  57   \n",
       "1                     St. Simon Island, Glynn County  Standing      F  11   \n",
       "2                                       Habush, Oahu   Surfing      M  48   \n",
       "3  Lighhouse Point Park, Ponce Inlet, Volusia County   Fishing      M  52   \n",
       "4                       Cocoa Beach, Brevard  County   Walking      M  15   \n",
       "\n",
       "                                              injury fatal state   latitude  \\\n",
       "0  No injury to occupant, outrigger canoe and pad...     N    CA  37.271875   \n",
       "1                         Minor injury to left thigh     N    GA  32.678125   \n",
       "2       Injury to left lower leg from surfboard skeg     N    HI  20.460000   \n",
       "3            Minor injury to foot. PROVOKED INCIDENT     N    FL  27.975728   \n",
       "4                              Lower left leg bitten     N    FL  27.975728   \n",
       "\n",
       "    longitude  age_clean parent_injury  month  \n",
       "0 -119.270415       57.0     No Injury    6.0  \n",
       "1  -83.222976       11.0  Minor Injury    6.0  \n",
       "2 -157.505000       48.0  Minor Injury    6.0  \n",
       "3  -83.833017       52.0  Minor Injury    5.0  \n",
       "4  -83.833017       15.0          Bite    5.0  "
      ]
     },
     "execution_count": 54,
     "metadata": {},
     "output_type": "execute_result"
    }
   ],
   "source": [
    "df_usa[\"month\"] = df_usa.date.dt.month\n",
    "df_usa.head()"
   ]
  },
  {
   "cell_type": "code",
   "execution_count": 55,
   "id": "2f5e9772",
   "metadata": {},
   "outputs": [
    {
     "data": {
      "text/plain": [
       "9.0     148\n",
       "7.0     146\n",
       "8.0     131\n",
       "6.0     121\n",
       "10.0    104\n",
       "4.0      98\n",
       "5.0      89\n",
       "3.0      52\n",
       "11.0     51\n",
       "12.0     25\n",
       "1.0      25\n",
       "2.0      19\n",
       "Name: month, dtype: int64"
      ]
     },
     "execution_count": 55,
     "metadata": {},
     "output_type": "execute_result"
    }
   ],
   "source": [
    "df_usa.month.value_counts()"
   ]
  },
  {
   "cell_type": "code",
   "execution_count": 56,
   "id": "314c1163",
   "metadata": {},
   "outputs": [
    {
     "data": {
      "text/plain": [
       "month  parent_injury\n",
       "9.0    Laceration       53\n",
       "7.0    Laceration       52\n",
       "8.0    Laceration       45\n",
       "6.0    Laceration       42\n",
       "4.0    Laceration       39\n",
       "7.0    Bite             38\n",
       "10.0   Laceration       37\n",
       "5.0    Laceration       32\n",
       "8.0    Bite             29\n",
       "9.0    Bite             27\n",
       "4.0    Bite             26\n",
       "10.0   Bite             23\n",
       "5.0    Bite             23\n",
       "7.0    Minor Injury     22\n",
       "6.0    Bite             22\n",
       "       Minor Injury     21\n",
       "7.0    No Injury        20\n",
       "10.0   No Injury        19\n",
       "9.0    Minor Injury     18\n",
       "8.0    Minor Injury     17\n",
       "dtype: int64"
      ]
     },
     "execution_count": 56,
     "metadata": {},
     "output_type": "execute_result"
    }
   ],
   "source": [
    "df_usa.groupby([\"month\",\"parent_injury\"]).size().sort_values(ascending=False).head(20)"
   ]
  },
  {
   "cell_type": "code",
   "execution_count": 57,
   "id": "e0247f14",
   "metadata": {},
   "outputs": [
    {
     "data": {
      "text/plain": [
       "Index(['M', 'F', 'M ', 'lli'], dtype='object')"
      ]
     },
     "execution_count": 57,
     "metadata": {},
     "output_type": "execute_result"
    }
   ],
   "source": [
    "df_usa[\"gender\"].value_counts().index"
   ]
  },
  {
   "cell_type": "code",
   "execution_count": 58,
   "id": "519183f4",
   "metadata": {},
   "outputs": [
    {
     "data": {
      "text/plain": [
       "M    347\n",
       "F    112\n",
       "Name: gender, dtype: int64"
      ]
     },
     "execution_count": 58,
     "metadata": {},
     "output_type": "execute_result"
    }
   ],
   "source": [
    "df_usa['gender'] = df_usa['gender'].replace('lli','M', regex=True)\n",
    "df_usa['gender'] = df_us_3['gender'].str.strip()\n",
    "df_usa[\"gender\"].value_counts()"
   ]
  },
  {
   "cell_type": "code",
   "execution_count": 59,
   "id": "5075fc94",
   "metadata": {},
   "outputs": [
    {
     "data": {
      "text/plain": [
       "gender  parent_injury\n",
       "M       Laceration       116\n",
       "        Bite              78\n",
       "        Minor Injury      49\n",
       "        No Injury         44\n",
       "        Puncture          36\n",
       "F       Laceration        34\n",
       "        Bite              25\n",
       "        No Injury         18\n",
       "M       Severe Injury     16\n",
       "F       Puncture          15\n",
       "        Minor Injury      14\n",
       "M       Other              8\n",
       "F       Other              3\n",
       "        Severe Injury      3\n",
       "dtype: int64"
      ]
     },
     "execution_count": 59,
     "metadata": {},
     "output_type": "execute_result"
    }
   ],
   "source": [
    "df_usa.groupby([\"gender\",\"parent_injury\"]).size().sort_values(ascending=False).head(20)"
   ]
  },
  {
   "cell_type": "markdown",
   "id": "a655a207",
   "metadata": {},
   "source": [
    "chi squared - percent of males injuries should = females\n",
    "i.e. 30% males lacerations = 30% females lacerations"
   ]
  },
  {
   "cell_type": "code",
   "execution_count": 60,
   "id": "4261b7e3",
   "metadata": {},
   "outputs": [
    {
     "data": {
      "text/html": [
       "<div>\n",
       "<style scoped>\n",
       "    .dataframe tbody tr th:only-of-type {\n",
       "        vertical-align: middle;\n",
       "    }\n",
       "\n",
       "    .dataframe tbody tr th {\n",
       "        vertical-align: top;\n",
       "    }\n",
       "\n",
       "    .dataframe thead th {\n",
       "        text-align: right;\n",
       "    }\n",
       "</style>\n",
       "<table border=\"1\" class=\"dataframe\">\n",
       "  <thead>\n",
       "    <tr style=\"text-align: right;\">\n",
       "      <th></th>\n",
       "      <th>activity</th>\n",
       "      <th>parent_activity</th>\n",
       "    </tr>\n",
       "  </thead>\n",
       "  <tbody>\n",
       "    <tr>\n",
       "      <th>0</th>\n",
       "      <td>Surfing</td>\n",
       "      <td>on_water</td>\n",
       "    </tr>\n",
       "    <tr>\n",
       "      <th>1</th>\n",
       "      <td>Swimming</td>\n",
       "      <td>in_water</td>\n",
       "    </tr>\n",
       "    <tr>\n",
       "      <th>2</th>\n",
       "      <td>Wading</td>\n",
       "      <td>in_water</td>\n",
       "    </tr>\n",
       "    <tr>\n",
       "      <th>3</th>\n",
       "      <td>Fishing</td>\n",
       "      <td>fishing</td>\n",
       "    </tr>\n",
       "    <tr>\n",
       "      <th>4</th>\n",
       "      <td>Standing</td>\n",
       "      <td>other</td>\n",
       "    </tr>\n",
       "  </tbody>\n",
       "</table>\n",
       "</div>"
      ],
      "text/plain": [
       "   activity parent_activity\n",
       "0   Surfing        on_water\n",
       "1  Swimming        in_water\n",
       "2    Wading        in_water\n",
       "3   Fishing         fishing\n",
       "4  Standing           other"
      ]
     },
     "execution_count": 60,
     "metadata": {},
     "output_type": "execute_result"
    }
   ],
   "source": [
    "activities=pd.read_csv(\"Resources/activities.csv\")\n",
    "\n",
    "activities.drop(\"Count\",axis=1,inplace=True)\n",
    "activities.rename(columns={\"Activity\": \"activity\"}, inplace=True)\n",
    "activities.head()"
   ]
  },
  {
   "cell_type": "code",
   "execution_count": 61,
   "id": "35995e3b",
   "metadata": {},
   "outputs": [
    {
     "data": {
      "text/html": [
       "<div>\n",
       "<style scoped>\n",
       "    .dataframe tbody tr th:only-of-type {\n",
       "        vertical-align: middle;\n",
       "    }\n",
       "\n",
       "    .dataframe tbody tr th {\n",
       "        vertical-align: top;\n",
       "    }\n",
       "\n",
       "    .dataframe thead th {\n",
       "        text-align: right;\n",
       "    }\n",
       "</style>\n",
       "<table border=\"1\" class=\"dataframe\">\n",
       "  <thead>\n",
       "    <tr style=\"text-align: right;\">\n",
       "      <th></th>\n",
       "      <th>case_number</th>\n",
       "      <th>date</th>\n",
       "      <th>year</th>\n",
       "      <th>type</th>\n",
       "      <th>country</th>\n",
       "      <th>area</th>\n",
       "      <th>location</th>\n",
       "      <th>activity</th>\n",
       "      <th>gender</th>\n",
       "      <th>age</th>\n",
       "      <th>injury</th>\n",
       "      <th>fatal</th>\n",
       "      <th>state</th>\n",
       "      <th>latitude</th>\n",
       "      <th>longitude</th>\n",
       "      <th>age_clean</th>\n",
       "      <th>parent_injury</th>\n",
       "      <th>month</th>\n",
       "      <th>parent_activity</th>\n",
       "    </tr>\n",
       "  </thead>\n",
       "  <tbody>\n",
       "    <tr>\n",
       "      <th>0</th>\n",
       "      <td>2018.06.25</td>\n",
       "      <td>2018-06-25</td>\n",
       "      <td>2018.0</td>\n",
       "      <td>Boating</td>\n",
       "      <td>USA</td>\n",
       "      <td>California</td>\n",
       "      <td>Oceanside, San Diego County</td>\n",
       "      <td>Paddling</td>\n",
       "      <td>F</td>\n",
       "      <td>57</td>\n",
       "      <td>No injury to occupant, outrigger canoe and pad...</td>\n",
       "      <td>N</td>\n",
       "      <td>CA</td>\n",
       "      <td>37.271875</td>\n",
       "      <td>-119.270415</td>\n",
       "      <td>57.0</td>\n",
       "      <td>No Injury</td>\n",
       "      <td>6.0</td>\n",
       "      <td>in_water</td>\n",
       "    </tr>\n",
       "    <tr>\n",
       "      <th>1</th>\n",
       "      <td>2018.06.18</td>\n",
       "      <td>2018-06-18</td>\n",
       "      <td>2018.0</td>\n",
       "      <td>Unprovoked</td>\n",
       "      <td>USA</td>\n",
       "      <td>Georgia</td>\n",
       "      <td>St. Simon Island, Glynn County</td>\n",
       "      <td>Standing</td>\n",
       "      <td>F</td>\n",
       "      <td>11</td>\n",
       "      <td>Minor injury to left thigh</td>\n",
       "      <td>N</td>\n",
       "      <td>GA</td>\n",
       "      <td>32.678125</td>\n",
       "      <td>-83.222976</td>\n",
       "      <td>11.0</td>\n",
       "      <td>Minor Injury</td>\n",
       "      <td>6.0</td>\n",
       "      <td>other</td>\n",
       "    </tr>\n",
       "    <tr>\n",
       "      <th>2</th>\n",
       "      <td>2018.06.09</td>\n",
       "      <td>2018-06-09</td>\n",
       "      <td>2018.0</td>\n",
       "      <td>Invalid</td>\n",
       "      <td>USA</td>\n",
       "      <td>Hawaii</td>\n",
       "      <td>Habush, Oahu</td>\n",
       "      <td>Surfing</td>\n",
       "      <td>M</td>\n",
       "      <td>48</td>\n",
       "      <td>Injury to left lower leg from surfboard skeg</td>\n",
       "      <td>N</td>\n",
       "      <td>HI</td>\n",
       "      <td>20.460000</td>\n",
       "      <td>-157.505000</td>\n",
       "      <td>48.0</td>\n",
       "      <td>Minor Injury</td>\n",
       "      <td>6.0</td>\n",
       "      <td>on_water</td>\n",
       "    </tr>\n",
       "    <tr>\n",
       "      <th>3</th>\n",
       "      <td>2018.05.27</td>\n",
       "      <td>2018-05-27</td>\n",
       "      <td>2018.0</td>\n",
       "      <td>Unprovoked</td>\n",
       "      <td>USA</td>\n",
       "      <td>Florida</td>\n",
       "      <td>Lighhouse Point Park, Ponce Inlet, Volusia County</td>\n",
       "      <td>Fishing</td>\n",
       "      <td>NaN</td>\n",
       "      <td>52</td>\n",
       "      <td>Minor injury to foot. PROVOKED INCIDENT</td>\n",
       "      <td>N</td>\n",
       "      <td>FL</td>\n",
       "      <td>27.975728</td>\n",
       "      <td>-83.833017</td>\n",
       "      <td>52.0</td>\n",
       "      <td>Minor Injury</td>\n",
       "      <td>5.0</td>\n",
       "      <td>fishing</td>\n",
       "    </tr>\n",
       "    <tr>\n",
       "      <th>4</th>\n",
       "      <td>2018.05.26.b</td>\n",
       "      <td>2018-05-26</td>\n",
       "      <td>2018.0</td>\n",
       "      <td>Unprovoked</td>\n",
       "      <td>USA</td>\n",
       "      <td>Florida</td>\n",
       "      <td>Cocoa Beach, Brevard  County</td>\n",
       "      <td>Walking</td>\n",
       "      <td>NaN</td>\n",
       "      <td>15</td>\n",
       "      <td>Lower left leg bitten</td>\n",
       "      <td>N</td>\n",
       "      <td>FL</td>\n",
       "      <td>27.975728</td>\n",
       "      <td>-83.833017</td>\n",
       "      <td>15.0</td>\n",
       "      <td>Bite</td>\n",
       "      <td>5.0</td>\n",
       "      <td>other</td>\n",
       "    </tr>\n",
       "  </tbody>\n",
       "</table>\n",
       "</div>"
      ],
      "text/plain": [
       "    case_number       date    year        type country        area  \\\n",
       "0    2018.06.25 2018-06-25  2018.0     Boating     USA  California   \n",
       "1    2018.06.18 2018-06-18  2018.0  Unprovoked     USA     Georgia   \n",
       "2    2018.06.09 2018-06-09  2018.0     Invalid     USA      Hawaii   \n",
       "3    2018.05.27 2018-05-27  2018.0  Unprovoked     USA     Florida   \n",
       "4  2018.05.26.b 2018-05-26  2018.0  Unprovoked     USA     Florida   \n",
       "\n",
       "                                            location  activity gender age  \\\n",
       "0                        Oceanside, San Diego County  Paddling      F  57   \n",
       "1                     St. Simon Island, Glynn County  Standing      F  11   \n",
       "2                                       Habush, Oahu   Surfing      M  48   \n",
       "3  Lighhouse Point Park, Ponce Inlet, Volusia County   Fishing    NaN  52   \n",
       "4                       Cocoa Beach, Brevard  County   Walking    NaN  15   \n",
       "\n",
       "                                              injury fatal state   latitude  \\\n",
       "0  No injury to occupant, outrigger canoe and pad...     N    CA  37.271875   \n",
       "1                         Minor injury to left thigh     N    GA  32.678125   \n",
       "2       Injury to left lower leg from surfboard skeg     N    HI  20.460000   \n",
       "3            Minor injury to foot. PROVOKED INCIDENT     N    FL  27.975728   \n",
       "4                              Lower left leg bitten     N    FL  27.975728   \n",
       "\n",
       "    longitude  age_clean parent_injury  month parent_activity  \n",
       "0 -119.270415       57.0     No Injury    6.0        in_water  \n",
       "1  -83.222976       11.0  Minor Injury    6.0           other  \n",
       "2 -157.505000       48.0  Minor Injury    6.0        on_water  \n",
       "3  -83.833017       52.0  Minor Injury    5.0         fishing  \n",
       "4  -83.833017       15.0          Bite    5.0           other  "
      ]
     },
     "execution_count": 61,
     "metadata": {},
     "output_type": "execute_result"
    }
   ],
   "source": [
    "df_usa=pd.merge(df_usa,activities,on=\"activity\",how=\"left\")\n",
    "\n",
    "df_usa.head()"
   ]
  },
  {
   "cell_type": "code",
   "execution_count": 62,
   "id": "6b215236",
   "metadata": {},
   "outputs": [
    {
     "data": {
      "text/plain": [
       "on_water    494\n",
       "in_water    310\n",
       "fishing      95\n",
       "other        46\n",
       "science      18\n",
       "Name: parent_activity, dtype: int64"
      ]
     },
     "execution_count": 62,
     "metadata": {},
     "output_type": "execute_result"
    }
   ],
   "source": [
    "df_usa.parent_activity.value_counts()"
   ]
  },
  {
   "cell_type": "code",
   "execution_count": 63,
   "id": "0b540e16",
   "metadata": {},
   "outputs": [
    {
     "data": {
      "text/html": [
       "<div>\n",
       "<style scoped>\n",
       "    .dataframe tbody tr th:only-of-type {\n",
       "        vertical-align: middle;\n",
       "    }\n",
       "\n",
       "    .dataframe tbody tr th {\n",
       "        vertical-align: top;\n",
       "    }\n",
       "\n",
       "    .dataframe thead th {\n",
       "        text-align: right;\n",
       "    }\n",
       "</style>\n",
       "<table border=\"1\" class=\"dataframe\">\n",
       "  <thead>\n",
       "    <tr style=\"text-align: right;\">\n",
       "      <th></th>\n",
       "      <th>parent_activity</th>\n",
       "      <th>area</th>\n",
       "      <th>size</th>\n",
       "    </tr>\n",
       "  </thead>\n",
       "  <tbody>\n",
       "    <tr>\n",
       "      <th>32</th>\n",
       "      <td>on_water</td>\n",
       "      <td>Florida</td>\n",
       "      <td>275</td>\n",
       "    </tr>\n",
       "    <tr>\n",
       "      <th>14</th>\n",
       "      <td>in_water</td>\n",
       "      <td>Florida</td>\n",
       "      <td>154</td>\n",
       "    </tr>\n",
       "    <tr>\n",
       "      <th>31</th>\n",
       "      <td>on_water</td>\n",
       "      <td>California</td>\n",
       "      <td>76</td>\n",
       "    </tr>\n",
       "    <tr>\n",
       "      <th>34</th>\n",
       "      <td>on_water</td>\n",
       "      <td>Hawaii</td>\n",
       "      <td>70</td>\n",
       "    </tr>\n",
       "    <tr>\n",
       "      <th>17</th>\n",
       "      <td>in_water</td>\n",
       "      <td>Hawaii</td>\n",
       "      <td>45</td>\n",
       "    </tr>\n",
       "    <tr>\n",
       "      <th>...</th>\n",
       "      <td>...</td>\n",
       "      <td>...</td>\n",
       "      <td>...</td>\n",
       "    </tr>\n",
       "    <tr>\n",
       "      <th>24</th>\n",
       "      <td>in_water</td>\n",
       "      <td>Palmyra Atoll</td>\n",
       "      <td>1</td>\n",
       "    </tr>\n",
       "    <tr>\n",
       "      <th>25</th>\n",
       "      <td>in_water</td>\n",
       "      <td>Puerto Rico</td>\n",
       "      <td>1</td>\n",
       "    </tr>\n",
       "    <tr>\n",
       "      <th>27</th>\n",
       "      <td>in_water</td>\n",
       "      <td>South Carolina</td>\n",
       "      <td>1</td>\n",
       "    </tr>\n",
       "    <tr>\n",
       "      <th>29</th>\n",
       "      <td>in_water</td>\n",
       "      <td>US Virgin Islands</td>\n",
       "      <td>1</td>\n",
       "    </tr>\n",
       "    <tr>\n",
       "      <th>60</th>\n",
       "      <td>science</td>\n",
       "      <td>Virginia</td>\n",
       "      <td>1</td>\n",
       "    </tr>\n",
       "  </tbody>\n",
       "</table>\n",
       "<p>61 rows × 3 columns</p>\n",
       "</div>"
      ],
      "text/plain": [
       "   parent_activity               area  size\n",
       "32        on_water            Florida   275\n",
       "14        in_water            Florida   154\n",
       "31        on_water         California    76\n",
       "34        on_water             Hawaii    70\n",
       "17        in_water             Hawaii    45\n",
       "..             ...                ...   ...\n",
       "24        in_water      Palmyra Atoll     1\n",
       "25        in_water        Puerto Rico     1\n",
       "27        in_water    South Carolina      1\n",
       "29        in_water  US Virgin Islands     1\n",
       "60         science           Virginia     1\n",
       "\n",
       "[61 rows x 3 columns]"
      ]
     },
     "execution_count": 63,
     "metadata": {},
     "output_type": "execute_result"
    }
   ],
   "source": [
    "df_usa.groupby(['parent_activity','area'],as_index=False).size().sort_values(by='size',ascending=False)"
   ]
  },
  {
   "cell_type": "code",
   "execution_count": 64,
   "id": "6822b802",
   "metadata": {},
   "outputs": [
    {
     "data": {
      "image/png": "[encoded data removed]",
      "text/plain": [
       "<Figure size 720x504 with 1 Axes>"
      ]
     },
     "metadata": {},
     "output_type": "display_data"
    }
   ],
   "source": [
    "\n",
    "plt.figure(facecolor=\"#05486c\",figsize =(10, 7))\n",
    "ax = plt.axes()\n",
    "ax.set_facecolor(\"#f7f0de\")\n",
    "df_usa['area'].value_counts().head(7).sort_values(ascending=True).plot(kind='barh',color=\"#e91d25\",width =.9)\n",
    "\n",
    "\n",
    "plt.xlabel(\"No. of Reported Shark Attacks\", fontsize=16,color=\"#f7f0de\")\n",
    "#plt.xticks(rotation=0)\n",
    "plt.title(\"2000 - 2018 No. of Reported Shark Attacks Top 7 US States\", fontsize=20, color=\"#f7f0de\")\n",
    "ax.set_axisbelow(True)\n",
    "ax.grid(axis='x',linestyle='dashed',color='#8fa7c0',linewidth=1)\n",
    "ax.tick_params( labelcolor='#f7f0de')\n",
    "\n",
    "plt.show()"
   ]
  },
  {
   "cell_type": "code",
   "execution_count": 66,
   "id": "751ffded",
   "metadata": {},
   "outputs": [
    {
     "data": {
      "application/vnd.plotly.v1+json": {
       "config": {
        "plotlyServerURL": "https://plot.ly"
       },
       "data": [
        {
         "coloraxis": "coloraxis",
         "geo": "geo",
         "hovertemplate": "<b>%{hovertext}</b><br><br>state=%{location}<br>size=%{z}<extra></extra>",
         "hovertext": [
          "FL",
          "HI",
          "CA",
          "SC",
          "NC",
          "TX",
          "OR"
         ],
         "locationmode": "USA-states",
         "locations": [
          "FL",
          "HI",
          "CA",
          "SC",
          "NC",
          "TX",
          "OR"
         ],
         "name": "",
         "type": "choropleth",
         "z": [
          537,
          127,
          113,
          79,
          60,
          31,
          14
         ]
        },
        {
         "locationmode": "USA-states",
         "locations": [
          "FL",
          "HI",
          "CA",
          "SC",
          "NC",
          "TX",
          "OR"
         ],
         "mode": "text",
         "text": [
          "FL",
          "HI",
          "CA",
          "SC",
          "NC",
          "TX",
          "OR"
         ],
         "type": "scattergeo"
        }
       ],
       "layout": {
        "coloraxis": {
         "colorbar": {
          "title": {
           "text": "size"
          }
         },
         "colorscale": [
          [
           0,
           "rgb(247,251,255)"
          ],
          [
           0.125,
           "rgb(222,235,247)"
          ],
          [
           0.25,
           "rgb(198,219,239)"
          ],
          [
           0.375,
           "rgb(158,202,225)"
          ],
          [
           0.5,
           "rgb(107,174,214)"
          ],
          [
           0.625,
           "rgb(66,146,198)"
          ],
          [
           0.75,
           "rgb(33,113,181)"
          ],
          [
           0.875,
           "rgb(8,81,156)"
          ],
          [
           1,
           "rgb(8,48,107)"
          ]
         ]
        },
        "geo": {
         "center": {},
         "domain": {
          "x": [
           0,
           1
          ],
          "y": [
           0,
           1
          ]
         },
         "scope": "usa"
        },
        "legend": {
         "tracegroupgap": 0
        },
        "margin": {
         "t": 60
        },
        "template": {
         "data": {
          "bar": [
           {
            "error_x": {
             "color": "#2a3f5f"
            },
            "error_y": {
             "color": "#2a3f5f"
            },
            "marker": {
             "line": {
              "color": "#E5ECF6",
              "width": 0.5
             },
             "pattern": {
              "fillmode": "overlay",
              "size": 10,
              "solidity": 0.2
             }
            },
            "type": "bar"
           }
          ],
          "barpolar": [
           {
            "marker": {
             "line": {
              "color": "#E5ECF6",
              "width": 0.5
             },
             "pattern": {
              "fillmode": "overlay",
              "size": 10,
              "solidity": 0.2
             }
            },
            "type": "barpolar"
           }
          ],
          "carpet": [
           {
            "aaxis": {
             "endlinecolor": "#2a3f5f",
             "gridcolor": "white",
             "linecolor": "white",
             "minorgridcolor": "white",
             "startlinecolor": "#2a3f5f"
            },
            "baxis": {
             "endlinecolor": "#2a3f5f",
             "gridcolor": "white",
             "linecolor": "white",
             "minorgridcolor": "white",
             "startlinecolor": "#2a3f5f"
            },
            "type": "carpet"
           }
          ],
          "choropleth": [
           {
            "colorbar": {
             "outlinewidth": 0,
             "ticks": ""
            },
            "type": "choropleth"
           }
          ],
          "contour": [
           {
            "colorbar": {
             "outlinewidth": 0,
             "ticks": ""
            },
            "colorscale": [
             [
              0,
              "#0d0887"
             ],
             [
              0.1111111111111111,
              "#46039f"
             ],
             [
              0.2222222222222222,
              "#7201a8"
             ],
             [
              0.3333333333333333,
              "#9c179e"
             ],
             [
              0.4444444444444444,
              "#bd3786"
             ],
             [
              0.5555555555555556,
              "#d8576b"
             ],
             [
              0.6666666666666666,
              "#ed7953"
             ],
             [
              0.7777777777777778,
              "#fb9f3a"
             ],
             [
              0.8888888888888888,
              "#fdca26"
             ],
             [
              1,
              "#f0f921"
             ]
            ],
            "type": "contour"
           }
          ],
          "contourcarpet": [
           {
            "colorbar": {
             "outlinewidth": 0,
             "ticks": ""
            },
            "type": "contourcarpet"
           }
          ],
          "heatmap": [
           {
            "colorbar": {
             "outlinewidth": 0,
             "ticks": ""
            },
            "colorscale": [
             [
              0,
              "#0d0887"
             ],
             [
              0.1111111111111111,
              "#46039f"
             ],
             [
              0.2222222222222222,
              "#7201a8"
             ],
             [
              0.3333333333333333,
              "#9c179e"
             ],
             [
              0.4444444444444444,
              "#bd3786"
             ],
             [
              0.5555555555555556,
              "#d8576b"
             ],
             [
              0.6666666666666666,
              "#ed7953"
             ],
             [
              0.7777777777777778,
              "#fb9f3a"
             ],
             [
              0.8888888888888888,
              "#fdca26"
             ],
             [
              1,
              "#f0f921"
             ]
            ],
            "type": "heatmap"
           }
          ],
          "heatmapgl": [
           {
            "colorbar": {
             "outlinewidth": 0,
             "ticks": ""
            },
            "colorscale": [
             [
              0,
              "#0d0887"
             ],
             [
              0.1111111111111111,
              "#46039f"
             ],
             [
              0.2222222222222222,
              "#7201a8"
             ],
             [
              0.3333333333333333,
              "#9c179e"
             ],
             [
              0.4444444444444444,
              "#bd3786"
             ],
             [
              0.5555555555555556,
              "#d8576b"
             ],
             [
              0.6666666666666666,
              "#ed7953"
             ],
             [
              0.7777777777777778,
              "#fb9f3a"
             ],
             [
              0.8888888888888888,
              "#fdca26"
             ],
             [
              1,
              "#f0f921"
             ]
            ],
            "type": "heatmapgl"
           }
          ],
          "histogram": [
           {
            "marker": {
             "pattern": {
              "fillmode": "overlay",
              "size": 10,
              "solidity": 0.2
             }
            },
            "type": "histogram"
           }
          ],
          "histogram2d": [
           {
            "colorbar": {
             "outlinewidth": 0,
             "ticks": ""
            },
            "colorscale": [
             [
              0,
              "#0d0887"
             ],
             [
              0.1111111111111111,
              "#46039f"
             ],
             [
              0.2222222222222222,
              "#7201a8"
             ],
             [
              0.3333333333333333,
              "#9c179e"
             ],
             [
              0.4444444444444444,
              "#bd3786"
             ],
             [
              0.5555555555555556,
              "#d8576b"
             ],
             [
              0.6666666666666666,
              "#ed7953"
             ],
             [
              0.7777777777777778,
              "#fb9f3a"
             ],
             [
              0.8888888888888888,
              "#fdca26"
             ],
             [
              1,
              "#f0f921"
             ]
            ],
            "type": "histogram2d"
           }
          ],
          "histogram2dcontour": [
           {
            "colorbar": {
             "outlinewidth": 0,
             "ticks": ""
            },
            "colorscale": [
             [
              0,
              "#0d0887"
             ],
             [
              0.1111111111111111,
              "#46039f"
             ],
             [
              0.2222222222222222,
              "#7201a8"
             ],
             [
              0.3333333333333333,
              "#9c179e"
             ],
             [
              0.4444444444444444,
              "#bd3786"
             ],
             [
              0.5555555555555556,
              "#d8576b"
             ],
             [
              0.6666666666666666,
              "#ed7953"
             ],
             [
              0.7777777777777778,
              "#fb9f3a"
             ],
             [
              0.8888888888888888,
              "#fdca26"
             ],
             [
              1,
              "#f0f921"
             ]
            ],
            "type": "histogram2dcontour"
           }
          ],
          "mesh3d": [
           {
            "colorbar": {
             "outlinewidth": 0,
             "ticks": ""
            },
            "type": "mesh3d"
           }
          ],
          "parcoords": [
           {
            "line": {
             "colorbar": {
              "outlinewidth": 0,
              "ticks": ""
             }
            },
            "type": "parcoords"
           }
          ],
          "pie": [
           {
            "automargin": true,
            "type": "pie"
           }
          ],
          "scatter": [
           {
            "fillpattern": {
             "fillmode": "overlay",
             "size": 10,
             "solidity": 0.2
            },
            "type": "scatter"
           }
          ],
          "scatter3d": [
           {
            "line": {
             "colorbar": {
              "outlinewidth": 0,
              "ticks": ""
             }
            },
            "marker": {
             "colorbar": {
              "outlinewidth": 0,
              "ticks": ""
             }
            },
            "type": "scatter3d"
           }
          ],
          "scattercarpet": [
           {
            "marker": {
             "colorbar": {
              "outlinewidth": 0,
              "ticks": ""
             }
            },
            "type": "scattercarpet"
           }
          ],
          "scattergeo": [
           {
            "marker": {
             "colorbar": {
              "outlinewidth": 0,
              "ticks": ""
             }
            },
            "type": "scattergeo"
           }
          ],
          "scattergl": [
           {
            "marker": {
             "colorbar": {
              "outlinewidth": 0,
              "ticks": ""
             }
            },
            "type": "scattergl"
           }
          ],
          "scattermapbox": [
           {
            "marker": {
             "colorbar": {
              "outlinewidth": 0,
              "ticks": ""
             }
            },
            "type": "scattermapbox"
           }
          ],
          "scatterpolar": [
           {
            "marker": {
             "colorbar": {
              "outlinewidth": 0,
              "ticks": ""
             }
            },
            "type": "scatterpolar"
           }
          ],
          "scatterpolargl": [
           {
            "marker": {
             "colorbar": {
              "outlinewidth": 0,
              "ticks": ""
             }
            },
            "type": "scatterpolargl"
           }
          ],
          "scatterternary": [
           {
            "marker": {
             "colorbar": {
              "outlinewidth": 0,
              "ticks": ""
             }
            },
            "type": "scatterternary"
           }
          ],
          "surface": [
           {
            "colorbar": {
             "outlinewidth": 0,
             "ticks": ""
            },
            "colorscale": [
             [
              0,
              "#0d0887"
             ],
             [
              0.1111111111111111,
              "#46039f"
             ],
             [
              0.2222222222222222,
              "#7201a8"
             ],
             [
              0.3333333333333333,
              "#9c179e"
             ],
             [
              0.4444444444444444,
              "#bd3786"
             ],
             [
              0.5555555555555556,
              "#d8576b"
             ],
             [
              0.6666666666666666,
              "#ed7953"
             ],
             [
              0.7777777777777778,
              "#fb9f3a"
             ],
             [
              0.8888888888888888,
              "#fdca26"
             ],
             [
              1,
              "#f0f921"
             ]
            ],
            "type": "surface"
           }
          ],
          "table": [
           {
            "cells": {
             "fill": {
              "color": "#EBF0F8"
             },
             "line": {
              "color": "white"
             }
            },
            "header": {
             "fill": {
              "color": "#C8D4E3"
             },
             "line": {
              "color": "white"
             }
            },
            "type": "table"
           }
          ]
         },
         "layout": {
          "annotationdefaults": {
           "arrowcolor": "#2a3f5f",
           "arrowhead": 0,
           "arrowwidth": 1
          },
          "autotypenumbers": "strict",
          "coloraxis": {
           "colorbar": {
            "outlinewidth": 0,
            "ticks": ""
           }
          },
          "colorscale": {
           "diverging": [
            [
             0,
             "#8e0152"
            ],
            [
             0.1,
             "#c51b7d"
            ],
            [
             0.2,
             "#de77ae"
            ],
            [
             0.3,
             "#f1b6da"
            ],
            [
             0.4,
             "#fde0ef"
            ],
            [
             0.5,
             "#f7f7f7"
            ],
            [
             0.6,
             "#e6f5d0"
            ],
            [
             0.7,
             "#b8e186"
            ],
            [
             0.8,
             "#7fbc41"
            ],
            [
             0.9,
             "#4d9221"
            ],
            [
             1,
             "#276419"
            ]
           ],
           "sequential": [
            [
             0,
             "#0d0887"
            ],
            [
             0.1111111111111111,
             "#46039f"
            ],
            [
             0.2222222222222222,
             "#7201a8"
            ],
            [
             0.3333333333333333,
             "#9c179e"
            ],
            [
             0.4444444444444444,
             "#bd3786"
            ],
            [
             0.5555555555555556,
             "#d8576b"
            ],
            [
             0.6666666666666666,
             "#ed7953"
            ],
            [
             0.7777777777777778,
             "#fb9f3a"
            ],
            [
             0.8888888888888888,
             "#fdca26"
            ],
            [
             1,
             "#f0f921"
            ]
           ],
           "sequentialminus": [
            [
             0,
             "#0d0887"
            ],
            [
             0.1111111111111111,
             "#46039f"
            ],
            [
             0.2222222222222222,
             "#7201a8"
            ],
            [
             0.3333333333333333,
             "#9c179e"
            ],
            [
             0.4444444444444444,
             "#bd3786"
            ],
            [
             0.5555555555555556,
             "#d8576b"
            ],
            [
             0.6666666666666666,
             "#ed7953"
            ],
            [
             0.7777777777777778,
             "#fb9f3a"
            ],
            [
             0.8888888888888888,
             "#fdca26"
            ],
            [
             1,
             "#f0f921"
            ]
           ]
          },
          "colorway": [
           "#636efa",
           "#EF553B",
           "#00cc96",
           "#ab63fa",
           "#FFA15A",
           "#19d3f3",
           "#FF6692",
           "#B6E880",
           "#FF97FF",
           "#FECB52"
          ],
          "font": {
           "color": "#2a3f5f"
          },
          "geo": {
           "bgcolor": "white",
           "lakecolor": "white",
           "landcolor": "#E5ECF6",
           "showlakes": true,
           "showland": true,
           "subunitcolor": "white"
          },
          "hoverlabel": {
           "align": "left"
          },
          "hovermode": "closest",
          "mapbox": {
           "style": "light"
          },
          "paper_bgcolor": "white",
          "plot_bgcolor": "#E5ECF6",
          "polar": {
           "angularaxis": {
            "gridcolor": "white",
            "linecolor": "white",
            "ticks": ""
           },
           "bgcolor": "#E5ECF6",
           "radialaxis": {
            "gridcolor": "white",
            "linecolor": "white",
            "ticks": ""
           }
          },
          "scene": {
           "xaxis": {
            "backgroundcolor": "#E5ECF6",
            "gridcolor": "white",
            "gridwidth": 2,
            "linecolor": "white",
            "showbackground": true,
            "ticks": "",
            "zerolinecolor": "white"
           },
           "yaxis": {
            "backgroundcolor": "#E5ECF6",
            "gridcolor": "white",
            "gridwidth": 2,
            "linecolor": "white",
            "showbackground": true,
            "ticks": "",
            "zerolinecolor": "white"
           },
           "zaxis": {
            "backgroundcolor": "#E5ECF6",
            "gridcolor": "white",
            "gridwidth": 2,
            "linecolor": "white",
            "showbackground": true,
            "ticks": "",
            "zerolinecolor": "white"
           }
          },
          "shapedefaults": {
           "line": {
            "color": "#2a3f5f"
           }
          },
          "ternary": {
           "aaxis": {
            "gridcolor": "white",
            "linecolor": "white",
            "ticks": ""
           },
           "baxis": {
            "gridcolor": "white",
            "linecolor": "white",
            "ticks": ""
           },
           "bgcolor": "#E5ECF6",
           "caxis": {
            "gridcolor": "white",
            "linecolor": "white",
            "ticks": ""
           }
          },
          "title": {
           "x": 0.05
          },
          "xaxis": {
           "automargin": true,
           "gridcolor": "white",
           "linecolor": "white",
           "ticks": "",
           "title": {
            "standoff": 15
           },
           "zerolinecolor": "white",
           "zerolinewidth": 2
          },
          "yaxis": {
           "automargin": true,
           "gridcolor": "white",
           "linecolor": "white",
           "ticks": "",
           "title": {
            "standoff": 15
           },
           "zerolinecolor": "white",
           "zerolinewidth": 2
          }
         }
        }
       }
      },
      "text/html": [
       "<div>                            <div id=\"05c52b4f-590a-44db-9fb2-12994e895eee\" class=\"plotly-graph-div\" style=\"height:525px; width:100%;\"></div>            <script type=\"text/javascript\">                require([\"plotly\"], function(Plotly) {                    window.PLOTLYENV=window.PLOTLYENV || {};                                    if (document.getElementById(\"05c52b4f-590a-44db-9fb2-12994e895eee\")) {                    Plotly.newPlot(                        \"05c52b4f-590a-44db-9fb2-12994e895eee\",                        [{\"coloraxis\":\"coloraxis\",\"geo\":\"geo\",\"hovertemplate\":\"<b>%{hovertext}</b><br><br>state=%{location}<br>size=%{z}<extra></extra>\",\"hovertext\":[\"FL\",\"HI\",\"CA\",\"SC\",\"NC\",\"TX\",\"OR\"],\"locationmode\":\"USA-states\",\"locations\":[\"FL\",\"HI\",\"CA\",\"SC\",\"NC\",\"TX\",\"OR\"],\"name\":\"\",\"z\":[537,127,113,79,60,31,14],\"type\":\"choropleth\"},{\"locationmode\":\"USA-states\",\"locations\":[\"FL\",\"HI\",\"CA\",\"SC\",\"NC\",\"TX\",\"OR\"],\"mode\":\"text\",\"text\":[\"FL\",\"HI\",\"CA\",\"SC\",\"NC\",\"TX\",\"OR\"],\"type\":\"scattergeo\"}],                        {\"template\":{\"data\":{\"histogram2dcontour\":[{\"type\":\"histogram2dcontour\",\"colorbar\":{\"outlinewidth\":0,\"ticks\":\"\"},\"colorscale\":[[0.0,\"#0d0887\"],[0.1111111111111111,\"#46039f\"],[0.2222222222222222,\"#7201a8\"],[0.3333333333333333,\"#9c179e\"],[0.4444444444444444,\"#bd3786\"],[0.5555555555555556,\"#d8576b\"],[0.6666666666666666,\"#ed7953\"],[0.7777777777777778,\"#fb9f3a\"],[0.8888888888888888,\"#fdca26\"],[1.0,\"#f0f921\"]]}],\"choropleth\":[{\"type\":\"choropleth\",\"colorbar\":{\"outlinewidth\":0,\"ticks\":\"\"}}],\"histogram2d\":[{\"type\":\"histogram2d\",\"colorbar\":{\"outlinewidth\":0,\"ticks\":\"\"},\"colorscale\":[[0.0,\"#0d0887\"],[0.1111111111111111,\"#46039f\"],[0.2222222222222222,\"#7201a8\"],[0.3333333333333333,\"#9c179e\"],[0.4444444444444444,\"#bd3786\"],[0.5555555555555556,\"#d8576b\"],[0.6666666666666666,\"#ed7953\"],[0.7777777777777778,\"#fb9f3a\"],[0.8888888888888888,\"#fdca26\"],[1.0,\"#f0f921\"]]}],\"heatmap\":[{\"type\":\"heatmap\",\"colorbar\":{\"outlinewidth\":0,\"ticks\":\"\"},\"colorscale\":[[0.0,\"#0d0887\"],[0.1111111111111111,\"#46039f\"],[0.2222222222222222,\"#7201a8\"],[0.3333333333333333,\"#9c179e\"],[0.4444444444444444,\"#bd3786\"],[0.5555555555555556,\"#d8576b\"],[0.6666666666666666,\"#ed7953\"],[0.7777777777777778,\"#fb9f3a\"],[0.8888888888888888,\"#fdca26\"],[1.0,\"#f0f921\"]]}],\"heatmapgl\":[{\"type\":\"heatmapgl\",\"colorbar\":{\"outlinewidth\":0,\"ticks\":\"\"},\"colorscale\":[[0.0,\"#0d0887\"],[0.1111111111111111,\"#46039f\"],[0.2222222222222222,\"#7201a8\"],[0.3333333333333333,\"#9c179e\"],[0.4444444444444444,\"#bd3786\"],[0.5555555555555556,\"#d8576b\"],[0.6666666666666666,\"#ed7953\"],[0.7777777777777778,\"#fb9f3a\"],[0.8888888888888888,\"#fdca26\"],[1.0,\"#f0f921\"]]}],\"contourcarpet\":[{\"type\":\"contourcarpet\",\"colorbar\":{\"outlinewidth\":0,\"ticks\":\"\"}}],\"contour\":[{\"type\":\"contour\",\"colorbar\":{\"outlinewidth\":0,\"ticks\":\"\"},\"colorscale\":[[0.0,\"#0d0887\"],[0.1111111111111111,\"#46039f\"],[0.2222222222222222,\"#7201a8\"],[0.3333333333333333,\"#9c179e\"],[0.4444444444444444,\"#bd3786\"],[0.5555555555555556,\"#d8576b\"],[0.6666666666666666,\"#ed7953\"],[0.7777777777777778,\"#fb9f3a\"],[0.8888888888888888,\"#fdca26\"],[1.0,\"#f0f921\"]]}],\"surface\":[{\"type\":\"surface\",\"colorbar\":{\"outlinewidth\":0,\"ticks\":\"\"},\"colorscale\":[[0.0,\"#0d0887\"],[0.1111111111111111,\"#46039f\"],[0.2222222222222222,\"#7201a8\"],[0.3333333333333333,\"#9c179e\"],[0.4444444444444444,\"#bd3786\"],[0.5555555555555556,\"#d8576b\"],[0.6666666666666666,\"#ed7953\"],[0.7777777777777778,\"#fb9f3a\"],[0.8888888888888888,\"#fdca26\"],[1.0,\"#f0f921\"]]}],\"mesh3d\":[{\"type\":\"mesh3d\",\"colorbar\":{\"outlinewidth\":0,\"ticks\":\"\"}}],\"scatter\":[{\"fillpattern\":{\"fillmode\":\"overlay\",\"size\":10,\"solidity\":0.2},\"type\":\"scatter\"}],\"parcoords\":[{\"type\":\"parcoords\",\"line\":{\"colorbar\":{\"outlinewidth\":0,\"ticks\":\"\"}}}],\"scatterpolargl\":[{\"type\":\"scatterpolargl\",\"marker\":{\"colorbar\":{\"outlinewidth\":0,\"ticks\":\"\"}}}],\"bar\":[{\"error_x\":{\"color\":\"#2a3f5f\"},\"error_y\":{\"color\":\"#2a3f5f\"},\"marker\":{\"line\":{\"color\":\"#E5ECF6\",\"width\":0.5},\"pattern\":{\"fillmode\":\"overlay\",\"size\":10,\"solidity\":0.2}},\"type\":\"bar\"}],\"scattergeo\":[{\"type\":\"scattergeo\",\"marker\":{\"colorbar\":{\"outlinewidth\":0,\"ticks\":\"\"}}}],\"scatterpolar\":[{\"type\":\"scatterpolar\",\"marker\":{\"colorbar\":{\"outlinewidth\":0,\"ticks\":\"\"}}}],\"histogram\":[{\"marker\":{\"pattern\":{\"fillmode\":\"overlay\",\"size\":10,\"solidity\":0.2}},\"type\":\"histogram\"}],\"scattergl\":[{\"type\":\"scattergl\",\"marker\":{\"colorbar\":{\"outlinewidth\":0,\"ticks\":\"\"}}}],\"scatter3d\":[{\"type\":\"scatter3d\",\"line\":{\"colorbar\":{\"outlinewidth\":0,\"ticks\":\"\"}},\"marker\":{\"colorbar\":{\"outlinewidth\":0,\"ticks\":\"\"}}}],\"scattermapbox\":[{\"type\":\"scattermapbox\",\"marker\":{\"colorbar\":{\"outlinewidth\":0,\"ticks\":\"\"}}}],\"scatterternary\":[{\"type\":\"scatterternary\",\"marker\":{\"colorbar\":{\"outlinewidth\":0,\"ticks\":\"\"}}}],\"scattercarpet\":[{\"type\":\"scattercarpet\",\"marker\":{\"colorbar\":{\"outlinewidth\":0,\"ticks\":\"\"}}}],\"carpet\":[{\"aaxis\":{\"endlinecolor\":\"#2a3f5f\",\"gridcolor\":\"white\",\"linecolor\":\"white\",\"minorgridcolor\":\"white\",\"startlinecolor\":\"#2a3f5f\"},\"baxis\":{\"endlinecolor\":\"#2a3f5f\",\"gridcolor\":\"white\",\"linecolor\":\"white\",\"minorgridcolor\":\"white\",\"startlinecolor\":\"#2a3f5f\"},\"type\":\"carpet\"}],\"table\":[{\"cells\":{\"fill\":{\"color\":\"#EBF0F8\"},\"line\":{\"color\":\"white\"}},\"header\":{\"fill\":{\"color\":\"#C8D4E3\"},\"line\":{\"color\":\"white\"}},\"type\":\"table\"}],\"barpolar\":[{\"marker\":{\"line\":{\"color\":\"#E5ECF6\",\"width\":0.5},\"pattern\":{\"fillmode\":\"overlay\",\"size\":10,\"solidity\":0.2}},\"type\":\"barpolar\"}],\"pie\":[{\"automargin\":true,\"type\":\"pie\"}]},\"layout\":{\"autotypenumbers\":\"strict\",\"colorway\":[\"#636efa\",\"#EF553B\",\"#00cc96\",\"#ab63fa\",\"#FFA15A\",\"#19d3f3\",\"#FF6692\",\"#B6E880\",\"#FF97FF\",\"#FECB52\"],\"font\":{\"color\":\"#2a3f5f\"},\"hovermode\":\"closest\",\"hoverlabel\":{\"align\":\"left\"},\"paper_bgcolor\":\"white\",\"plot_bgcolor\":\"#E5ECF6\",\"polar\":{\"bgcolor\":\"#E5ECF6\",\"angularaxis\":{\"gridcolor\":\"white\",\"linecolor\":\"white\",\"ticks\":\"\"},\"radialaxis\":{\"gridcolor\":\"white\",\"linecolor\":\"white\",\"ticks\":\"\"}},\"ternary\":{\"bgcolor\":\"#E5ECF6\",\"aaxis\":{\"gridcolor\":\"white\",\"linecolor\":\"white\",\"ticks\":\"\"},\"baxis\":{\"gridcolor\":\"white\",\"linecolor\":\"white\",\"ticks\":\"\"},\"caxis\":{\"gridcolor\":\"white\",\"linecolor\":\"white\",\"ticks\":\"\"}},\"coloraxis\":{\"colorbar\":{\"outlinewidth\":0,\"ticks\":\"\"}},\"colorscale\":{\"sequential\":[[0.0,\"#0d0887\"],[0.1111111111111111,\"#46039f\"],[0.2222222222222222,\"#7201a8\"],[0.3333333333333333,\"#9c179e\"],[0.4444444444444444,\"#bd3786\"],[0.5555555555555556,\"#d8576b\"],[0.6666666666666666,\"#ed7953\"],[0.7777777777777778,\"#fb9f3a\"],[0.8888888888888888,\"#fdca26\"],[1.0,\"#f0f921\"]],\"sequentialminus\":[[0.0,\"#0d0887\"],[0.1111111111111111,\"#46039f\"],[0.2222222222222222,\"#7201a8\"],[0.3333333333333333,\"#9c179e\"],[0.4444444444444444,\"#bd3786\"],[0.5555555555555556,\"#d8576b\"],[0.6666666666666666,\"#ed7953\"],[0.7777777777777778,\"#fb9f3a\"],[0.8888888888888888,\"#fdca26\"],[1.0,\"#f0f921\"]],\"diverging\":[[0,\"#8e0152\"],[0.1,\"#c51b7d\"],[0.2,\"#de77ae\"],[0.3,\"#f1b6da\"],[0.4,\"#fde0ef\"],[0.5,\"#f7f7f7\"],[0.6,\"#e6f5d0\"],[0.7,\"#b8e186\"],[0.8,\"#7fbc41\"],[0.9,\"#4d9221\"],[1,\"#276419\"]]},\"xaxis\":{\"gridcolor\":\"white\",\"linecolor\":\"white\",\"ticks\":\"\",\"title\":{\"standoff\":15},\"zerolinecolor\":\"white\",\"automargin\":true,\"zerolinewidth\":2},\"yaxis\":{\"gridcolor\":\"white\",\"linecolor\":\"white\",\"ticks\":\"\",\"title\":{\"standoff\":15},\"zerolinecolor\":\"white\",\"automargin\":true,\"zerolinewidth\":2},\"scene\":{\"xaxis\":{\"backgroundcolor\":\"#E5ECF6\",\"gridcolor\":\"white\",\"linecolor\":\"white\",\"showbackground\":true,\"ticks\":\"\",\"zerolinecolor\":\"white\",\"gridwidth\":2},\"yaxis\":{\"backgroundcolor\":\"#E5ECF6\",\"gridcolor\":\"white\",\"linecolor\":\"white\",\"showbackground\":true,\"ticks\":\"\",\"zerolinecolor\":\"white\",\"gridwidth\":2},\"zaxis\":{\"backgroundcolor\":\"#E5ECF6\",\"gridcolor\":\"white\",\"linecolor\":\"white\",\"showbackground\":true,\"ticks\":\"\",\"zerolinecolor\":\"white\",\"gridwidth\":2}},\"shapedefaults\":{\"line\":{\"color\":\"#2a3f5f\"}},\"annotationdefaults\":{\"arrowcolor\":\"#2a3f5f\",\"arrowhead\":0,\"arrowwidth\":1},\"geo\":{\"bgcolor\":\"white\",\"landcolor\":\"#E5ECF6\",\"subunitcolor\":\"white\",\"showland\":true,\"showlakes\":true,\"lakecolor\":\"white\"},\"title\":{\"x\":0.05},\"mapbox\":{\"style\":\"light\"}}},\"geo\":{\"domain\":{\"x\":[0.0,1.0],\"y\":[0.0,1.0]},\"center\":{},\"scope\":\"usa\"},\"coloraxis\":{\"colorbar\":{\"title\":{\"text\":\"size\"}},\"colorscale\":[[0.0,\"rgb(247,251,255)\"],[0.125,\"rgb(222,235,247)\"],[0.25,\"rgb(198,219,239)\"],[0.375,\"rgb(158,202,225)\"],[0.5,\"rgb(107,174,214)\"],[0.625,\"rgb(66,146,198)\"],[0.75,\"rgb(33,113,181)\"],[0.875,\"rgb(8,81,156)\"],[1.0,\"rgb(8,48,107)\"]]},\"legend\":{\"tracegroupgap\":0},\"margin\":{\"t\":60}},                        {\"responsive\": true}                    ).then(function(){\n",
       "                            \n",
       "var gd = document.getElementById('05c52b4f-590a-44db-9fb2-12994e895eee');\n",
       "var x = new MutationObserver(function (mutations, observer) {{\n",
       "        var display = window.getComputedStyle(gd).display;\n",
       "        if (!display || display === 'none') {{\n",
       "            console.log([gd, 'removed!']);\n",
       "            Plotly.purge(gd);\n",
       "            observer.disconnect();\n",
       "        }}\n",
       "}});\n",
       "\n",
       "// Listen for the removal of the full notebook cells\n",
       "var notebookContainer = gd.closest('#notebook-container');\n",
       "if (notebookContainer) {{\n",
       "    x.observe(notebookContainer, {childList: true});\n",
       "}}\n",
       "\n",
       "// Listen for the clearing of the current output cell\n",
       "var outputEl = gd.closest('.output');\n",
       "if (outputEl) {{\n",
       "    x.observe(outputEl, {childList: true});\n",
       "}}\n",
       "\n",
       "                        })                };                });            </script>        </div>"
      ]
     },
     "metadata": {},
     "output_type": "display_data"
    }
   ],
   "source": [
    "sa_2 = df_usa.groupby(['state'],as_index=False).size()\n",
    "sa_2 = sa_2.sort_values(by=['size'], ascending=False).head(7)\n",
    "\n",
    "fig = px.choropleth(sa_2,\n",
    "                    locations='state',\n",
    "                    color='size',\n",
    "                    color_continuous_scale='blues',\n",
    "                    hover_name='state',\n",
    "                    locationmode='USA-states',\n",
    "                    labels={'Top 7 US States Reported Shark Attacks 2000-2018'},\n",
    "                    scope='usa')\n",
    "fig.add_scattergeo(\n",
    "    locations=sa_2['state'],\n",
    "    locationmode='USA-states',\n",
    "    text=sa_2['state'],\n",
    "    mode='text')   \n",
    "    \n",
    "    \n",
    "fig.show()"
   ]
  },
  {
   "cell_type": "code",
   "execution_count": 67,
   "id": "b61a54f6",
   "metadata": {},
   "outputs": [
    {
     "data": {
      "text/plain": [
       "state  year  \n",
       "FL     2003.0    45\n",
       "       2007.0    39\n",
       "       2001.0    38\n",
       "       2008.0    37\n",
       "       2000.0    35\n",
       "                 ..\n",
       "NC     2003.0     1\n",
       "ME     2010.0     1\n",
       "MD     2014.0     1\n",
       "       2002.0     1\n",
       "WA     2017.0     1\n",
       "Length: 153, dtype: int64"
      ]
     },
     "execution_count": 67,
     "metadata": {},
     "output_type": "execute_result"
    }
   ],
   "source": [
    "df_usa.groupby([\"state\", \"year\"]).size().sort_values(ascending=False)           "
   ]
  },
  {
   "cell_type": "code",
   "execution_count": 68,
   "id": "b88b8f50",
   "metadata": {},
   "outputs": [],
   "source": [
    "import seaborn as sns \n",
    "sta = df_usa.groupby(['year']).size().head()\n",
    "\n",
    "\n"
   ]
  },
  {
   "cell_type": "code",
   "execution_count": 69,
   "id": "02f10f6a",
   "metadata": {},
   "outputs": [],
   "source": [
    "df_usa['year']= df_usa['year'].astype(float)"
   ]
  },
  {
   "cell_type": "code",
   "execution_count": null,
   "id": "d1f7be9f",
   "metadata": {},
   "outputs": [],
   "source": []
  },
  {
   "cell_type": "code",
   "execution_count": 70,
   "id": "85c31677",
   "metadata": {},
   "outputs": [
    {
     "data": {
      "text/html": [
       "<div>\n",
       "<style scoped>\n",
       "    .dataframe tbody tr th:only-of-type {\n",
       "        vertical-align: middle;\n",
       "    }\n",
       "\n",
       "    .dataframe tbody tr th {\n",
       "        vertical-align: top;\n",
       "    }\n",
       "\n",
       "    .dataframe thead th {\n",
       "        text-align: right;\n",
       "    }\n",
       "</style>\n",
       "<table border=\"1\" class=\"dataframe\">\n",
       "  <thead>\n",
       "    <tr style=\"text-align: right;\">\n",
       "      <th></th>\n",
       "      <th>case_number</th>\n",
       "      <th>date</th>\n",
       "      <th>year</th>\n",
       "      <th>type</th>\n",
       "      <th>country</th>\n",
       "      <th>area</th>\n",
       "      <th>location</th>\n",
       "      <th>activity</th>\n",
       "      <th>gender</th>\n",
       "      <th>age</th>\n",
       "      <th>injury</th>\n",
       "      <th>fatal</th>\n",
       "      <th>state</th>\n",
       "      <th>latitude</th>\n",
       "      <th>longitude</th>\n",
       "      <th>age_clean</th>\n",
       "      <th>parent_injury</th>\n",
       "      <th>month</th>\n",
       "      <th>parent_activity</th>\n",
       "    </tr>\n",
       "  </thead>\n",
       "  <tbody>\n",
       "    <tr>\n",
       "      <th>0</th>\n",
       "      <td>2018.06.25</td>\n",
       "      <td>2018-06-25</td>\n",
       "      <td>2018.0</td>\n",
       "      <td>Boating</td>\n",
       "      <td>USA</td>\n",
       "      <td>California</td>\n",
       "      <td>Oceanside, San Diego County</td>\n",
       "      <td>Paddling</td>\n",
       "      <td>F</td>\n",
       "      <td>57</td>\n",
       "      <td>No injury to occupant, outrigger canoe and pad...</td>\n",
       "      <td>N</td>\n",
       "      <td>CA</td>\n",
       "      <td>37.271875</td>\n",
       "      <td>-119.270415</td>\n",
       "      <td>57.0</td>\n",
       "      <td>No Injury</td>\n",
       "      <td>6.0</td>\n",
       "      <td>in_water</td>\n",
       "    </tr>\n",
       "    <tr>\n",
       "      <th>1</th>\n",
       "      <td>2018.06.18</td>\n",
       "      <td>2018-06-18</td>\n",
       "      <td>2018.0</td>\n",
       "      <td>Unprovoked</td>\n",
       "      <td>USA</td>\n",
       "      <td>Georgia</td>\n",
       "      <td>St. Simon Island, Glynn County</td>\n",
       "      <td>Standing</td>\n",
       "      <td>F</td>\n",
       "      <td>11</td>\n",
       "      <td>Minor injury to left thigh</td>\n",
       "      <td>N</td>\n",
       "      <td>GA</td>\n",
       "      <td>32.678125</td>\n",
       "      <td>-83.222976</td>\n",
       "      <td>11.0</td>\n",
       "      <td>Minor Injury</td>\n",
       "      <td>6.0</td>\n",
       "      <td>other</td>\n",
       "    </tr>\n",
       "    <tr>\n",
       "      <th>2</th>\n",
       "      <td>2018.06.09</td>\n",
       "      <td>2018-06-09</td>\n",
       "      <td>2018.0</td>\n",
       "      <td>Invalid</td>\n",
       "      <td>USA</td>\n",
       "      <td>Hawaii</td>\n",
       "      <td>Habush, Oahu</td>\n",
       "      <td>Surfing</td>\n",
       "      <td>M</td>\n",
       "      <td>48</td>\n",
       "      <td>Injury to left lower leg from surfboard skeg</td>\n",
       "      <td>N</td>\n",
       "      <td>HI</td>\n",
       "      <td>20.460000</td>\n",
       "      <td>-157.505000</td>\n",
       "      <td>48.0</td>\n",
       "      <td>Minor Injury</td>\n",
       "      <td>6.0</td>\n",
       "      <td>on_water</td>\n",
       "    </tr>\n",
       "    <tr>\n",
       "      <th>3</th>\n",
       "      <td>2018.05.27</td>\n",
       "      <td>2018-05-27</td>\n",
       "      <td>2018.0</td>\n",
       "      <td>Unprovoked</td>\n",
       "      <td>USA</td>\n",
       "      <td>Florida</td>\n",
       "      <td>Lighhouse Point Park, Ponce Inlet, Volusia County</td>\n",
       "      <td>Fishing</td>\n",
       "      <td>NaN</td>\n",
       "      <td>52</td>\n",
       "      <td>Minor injury to foot. PROVOKED INCIDENT</td>\n",
       "      <td>N</td>\n",
       "      <td>FL</td>\n",
       "      <td>27.975728</td>\n",
       "      <td>-83.833017</td>\n",
       "      <td>52.0</td>\n",
       "      <td>Minor Injury</td>\n",
       "      <td>5.0</td>\n",
       "      <td>fishing</td>\n",
       "    </tr>\n",
       "    <tr>\n",
       "      <th>4</th>\n",
       "      <td>2018.05.26.b</td>\n",
       "      <td>2018-05-26</td>\n",
       "      <td>2018.0</td>\n",
       "      <td>Unprovoked</td>\n",
       "      <td>USA</td>\n",
       "      <td>Florida</td>\n",
       "      <td>Cocoa Beach, Brevard  County</td>\n",
       "      <td>Walking</td>\n",
       "      <td>NaN</td>\n",
       "      <td>15</td>\n",
       "      <td>Lower left leg bitten</td>\n",
       "      <td>N</td>\n",
       "      <td>FL</td>\n",
       "      <td>27.975728</td>\n",
       "      <td>-83.833017</td>\n",
       "      <td>15.0</td>\n",
       "      <td>Bite</td>\n",
       "      <td>5.0</td>\n",
       "      <td>other</td>\n",
       "    </tr>\n",
       "  </tbody>\n",
       "</table>\n",
       "</div>"
      ],
      "text/plain": [
       "    case_number       date    year        type country        area  \\\n",
       "0    2018.06.25 2018-06-25  2018.0     Boating     USA  California   \n",
       "1    2018.06.18 2018-06-18  2018.0  Unprovoked     USA     Georgia   \n",
       "2    2018.06.09 2018-06-09  2018.0     Invalid     USA      Hawaii   \n",
       "3    2018.05.27 2018-05-27  2018.0  Unprovoked     USA     Florida   \n",
       "4  2018.05.26.b 2018-05-26  2018.0  Unprovoked     USA     Florida   \n",
       "\n",
       "                                            location  activity gender age  \\\n",
       "0                        Oceanside, San Diego County  Paddling      F  57   \n",
       "1                     St. Simon Island, Glynn County  Standing      F  11   \n",
       "2                                       Habush, Oahu   Surfing      M  48   \n",
       "3  Lighhouse Point Park, Ponce Inlet, Volusia County   Fishing    NaN  52   \n",
       "4                       Cocoa Beach, Brevard  County   Walking    NaN  15   \n",
       "\n",
       "                                              injury fatal state   latitude  \\\n",
       "0  No injury to occupant, outrigger canoe and pad...     N    CA  37.271875   \n",
       "1                         Minor injury to left thigh     N    GA  32.678125   \n",
       "2       Injury to left lower leg from surfboard skeg     N    HI  20.460000   \n",
       "3            Minor injury to foot. PROVOKED INCIDENT     N    FL  27.975728   \n",
       "4                              Lower left leg bitten     N    FL  27.975728   \n",
       "\n",
       "    longitude  age_clean parent_injury  month parent_activity  \n",
       "0 -119.270415       57.0     No Injury    6.0        in_water  \n",
       "1  -83.222976       11.0  Minor Injury    6.0           other  \n",
       "2 -157.505000       48.0  Minor Injury    6.0        on_water  \n",
       "3  -83.833017       52.0  Minor Injury    5.0         fishing  \n",
       "4  -83.833017       15.0          Bite    5.0           other  "
      ]
     },
     "execution_count": 70,
     "metadata": {},
     "output_type": "execute_result"
    }
   ],
   "source": [
    "df_usa.head()"
   ]
  },
  {
   "cell_type": "code",
   "execution_count": 71,
   "id": "d81aea4b",
   "metadata": {},
   "outputs": [
    {
     "name": "stdout",
     "output_type": "stream",
     "text": [
      "<class 'pandas.core.frame.DataFrame'>\n",
      "Int64Index: 1011 entries, 0 to 1010\n",
      "Data columns (total 19 columns):\n",
      " #   Column           Non-Null Count  Dtype         \n",
      "---  ------           --------------  -----         \n",
      " 0   case_number      1011 non-null   object        \n",
      " 1   date             1009 non-null   datetime64[ns]\n",
      " 2   year             1011 non-null   float64       \n",
      " 3   type             1011 non-null   object        \n",
      " 4   country          1011 non-null   object        \n",
      " 5   area             1011 non-null   object        \n",
      " 6   location         1005 non-null   object        \n",
      " 7   activity         963 non-null    object        \n",
      " 8   gender           459 non-null    object        \n",
      " 9   age              813 non-null    object        \n",
      " 10  injury           1011 non-null   object        \n",
      " 11  fatal            949 non-null    object        \n",
      " 12  state            1002 non-null   object        \n",
      " 13  latitude         1002 non-null   float64       \n",
      " 14  longitude        1002 non-null   float64       \n",
      " 15  age_clean        790 non-null    float64       \n",
      " 16  parent_injury    1011 non-null   object        \n",
      " 17  month            1009 non-null   float64       \n",
      " 18  parent_activity  963 non-null    object        \n",
      "dtypes: datetime64[ns](1), float64(5), object(13)\n",
      "memory usage: 158.0+ KB\n"
     ]
    }
   ],
   "source": [
    "df_usa.info()"
   ]
  },
  {
   "cell_type": "code",
   "execution_count": 72,
   "id": "d9a38309",
   "metadata": {},
   "outputs": [
    {
     "data": {
      "text/html": [
       "<div>\n",
       "<style scoped>\n",
       "    .dataframe tbody tr th:only-of-type {\n",
       "        vertical-align: middle;\n",
       "    }\n",
       "\n",
       "    .dataframe tbody tr th {\n",
       "        vertical-align: top;\n",
       "    }\n",
       "\n",
       "    .dataframe thead th {\n",
       "        text-align: right;\n",
       "    }\n",
       "</style>\n",
       "<table border=\"1\" class=\"dataframe\">\n",
       "  <thead>\n",
       "    <tr style=\"text-align: right;\">\n",
       "      <th></th>\n",
       "      <th>year</th>\n",
       "      <th>month</th>\n",
       "      <th>case_number</th>\n",
       "    </tr>\n",
       "  </thead>\n",
       "  <tbody>\n",
       "    <tr>\n",
       "      <th>0</th>\n",
       "      <td>2000.0</td>\n",
       "      <td>3.0</td>\n",
       "      <td>1</td>\n",
       "    </tr>\n",
       "    <tr>\n",
       "      <th>1</th>\n",
       "      <td>2000.0</td>\n",
       "      <td>6.0</td>\n",
       "      <td>3</td>\n",
       "    </tr>\n",
       "    <tr>\n",
       "      <th>2</th>\n",
       "      <td>2000.0</td>\n",
       "      <td>7.0</td>\n",
       "      <td>4</td>\n",
       "    </tr>\n",
       "    <tr>\n",
       "      <th>3</th>\n",
       "      <td>2000.0</td>\n",
       "      <td>8.0</td>\n",
       "      <td>4</td>\n",
       "    </tr>\n",
       "    <tr>\n",
       "      <th>4</th>\n",
       "      <td>2000.0</td>\n",
       "      <td>9.0</td>\n",
       "      <td>2</td>\n",
       "    </tr>\n",
       "  </tbody>\n",
       "</table>\n",
       "</div>"
      ],
      "text/plain": [
       "     year  month  case_number\n",
       "0  2000.0    3.0            1\n",
       "1  2000.0    6.0            3\n",
       "2  2000.0    7.0            4\n",
       "3  2000.0    8.0            4\n",
       "4  2000.0    9.0            2"
      ]
     },
     "execution_count": 72,
     "metadata": {},
     "output_type": "execute_result"
    }
   ],
   "source": [
    "state = \"FL\"\n",
    "df=df_usa.loc[df_usa.state != state,[\"case_number\",\"year\",\"month\"]].dropna().reset_index(drop=True)\n",
    "df=df.groupby([\"year\", \"month\"],as_index=False).case_number.count()\n",
    "df.head()"
   ]
  },
  {
   "cell_type": "code",
   "execution_count": 73,
   "id": "0da1c126",
   "metadata": {},
   "outputs": [],
   "source": [
    "import seaborn as sns\n",
    "from scipy import stats as st\n",
    "\n",
    "# linear modelling\n",
    "import statsmodels.api as sm\n",
    "from scipy.stats import linregress\n",
    "from sklearn.linear_model import LinearRegression\n",
    "from sklearn.ensemble import RandomForestRegressor "
   ]
  },
  {
   "cell_type": "code",
   "execution_count": 74,
   "id": "e6153e7f",
   "metadata": {},
   "outputs": [
    {
     "data": {
      "image/png": "[encoded data removed]",
      "text/plain": [
       "<Figure size 1440x864 with 1 Axes>"
      ]
     },
     "metadata": {
      "needs_background": "light"
     },
     "output_type": "display_data"
    }
   ],
   "source": [
    "#plt.figure(figsize=(20,12))\n",
    "#sns.set(style=\"whitegrid\")\n",
    "fig, ax = plt.subplots(figsize=(20,12))\n",
    "sns.violinplot(data=df, x=\"month\", y=\"case_number\", color=\"#8fa7c0\")\n",
    "sns.set(rc={'axes.facecolor':'#f7f0de', 'figure.facecolor':'#f7f0de'})\n",
    "\n",
    "\n",
    "plt.show()"
   ]
  },
  {
   "cell_type": "code",
   "execution_count": 75,
   "id": "dbd55f8b",
   "metadata": {},
   "outputs": [
    {
     "data": {
      "image/png": "[encoded data removed]",
      "text/plain": [
       "<Figure size 1440x864 with 1 Axes>"
      ]
     },
     "metadata": {},
     "output_type": "display_data"
    }
   ],
   "source": [
    "fig, ax = plt.subplots(figsize=(20,12))\n",
    "sns.violinplot(data=df, x=\"year\", y=\"case_number\", color=\"#e91d25\")\n",
    "sns.set(rc={'axes.facecolor':'#f7f0de', 'figure.facecolor':'#f7f0de'})\n",
    "plt.show()"
   ]
  },
  {
   "cell_type": "code",
   "execution_count": 76,
   "id": "f90ec04c",
   "metadata": {},
   "outputs": [],
   "source": [
    "def checkShapeOfData(df, col):\n",
    "    # make histogram plot\n",
    "    plt.figure(figsize=(10,6))\n",
    "    sns.histplot(data=df, x=col, kde=True)\n",
    "    plt.title(f\"HistPlot of {col}\")\n",
    "    plt.show()\n",
    "    print()\n",
    "    \n",
    "    # boxplots\n",
    "    plt.figure(figsize=(10,6))\n",
    "    sns.boxplot(y=col, data=df)\n",
    "    plt.title(f\"Boxplot of {col}\")\n",
    "    plt.show()\n",
    "    print()\n",
    "    \n",
    "    # If the data is in a dataframe, we use pandas to give quartile calculations\n",
    "    quartiles = df[col].quantile([.25,.5,.75])\n",
    "    lowerq = quartiles[0.25]\n",
    "    upperq = quartiles[0.75]\n",
    "    iqr = upperq-lowerq\n",
    "    \n",
    "    lower_bound = lowerq - (1.5*iqr)\n",
    "    upper_bound = upperq + (1.5*iqr)\n",
    "    print(f\"Values below {lower_bound} could be outliers.\")\n",
    "    print(f\"Values above {upper_bound} could be outliers.\")\n",
    "    \n",
    "    # normaltest\n",
    "    print()\n",
    "    print(\"Normal test:\")\n",
    "    num = int(len(df)*0.1)\n",
    "#     print(st.normaltest(df[col].sample(num)))"
   ]
  },
  {
   "cell_type": "code",
   "execution_count": 77,
   "id": "3e1cc22f",
   "metadata": {},
   "outputs": [
    {
     "data": {
      "image/png": "[encoded data removed]",
      "text/plain": [
       "<Figure size 720x432 with 1 Axes>"
      ]
     },
     "metadata": {},
     "output_type": "display_data"
    },
    {
     "name": "stdout",
     "output_type": "stream",
     "text": [
      "\n"
     ]
    },
    {
     "data": {
      "image/png": "[encoded data removed]",
      "text/plain": [
       "<Figure size 720x432 with 1 Axes>"
      ]
     },
     "metadata": {},
     "output_type": "display_data"
    },
    {
     "name": "stdout",
     "output_type": "stream",
     "text": [
      "\n",
      "Values below 1991.5 could be outliers.\n",
      "Values above 2027.5 could be outliers.\n",
      "\n",
      "Normal test:\n"
     ]
    },
    {
     "data": {
      "image/png": "[encoded data removed]",
      "text/plain": [
       "<Figure size 720x432 with 1 Axes>"
      ]
     },
     "metadata": {},
     "output_type": "display_data"
    },
    {
     "name": "stdout",
     "output_type": "stream",
     "text": [
      "\n"
     ]
    },
    {
     "data": {
      "image/png": "[encoded data removed]",
      "text/plain": [
       "<Figure size 720x432 with 1 Axes>"
      ]
     },
     "metadata": {},
     "output_type": "display_data"
    },
    {
     "name": "stdout",
     "output_type": "stream",
     "text": [
      "\n",
      "Values below -2.5 could be outliers.\n",
      "Values above 17.5 could be outliers.\n",
      "\n",
      "Normal test:\n"
     ]
    },
    {
     "data": {
      "image/png": "[encoded data removed]",
      "text/plain": [
       "<Figure size 720x432 with 1 Axes>"
      ]
     },
     "metadata": {},
     "output_type": "display_data"
    },
    {
     "name": "stdout",
     "output_type": "stream",
     "text": [
      "\n"
     ]
    },
    {
     "data": {
      "image/png": "[encoded data removed]",
      "text/plain": [
       "<Figure size 720x432 with 1 Axes>"
      ]
     },
     "metadata": {},
     "output_type": "display_data"
    },
    {
     "name": "stdout",
     "output_type": "stream",
     "text": [
      "\n",
      "Values below -3.5 could be outliers.\n",
      "Values above 8.5 could be outliers.\n",
      "\n",
      "Normal test:\n"
     ]
    }
   ],
   "source": [
    " cols = df.describe().columns\n",
    "for col in cols:\n",
    "    checkShapeOfData(df, col)"
   ]
  },
  {
   "cell_type": "code",
   "execution_count": 78,
   "id": "46d61ce9",
   "metadata": {},
   "outputs": [
    {
     "data": {
      "text/html": [
       "<div>\n",
       "<style scoped>\n",
       "    .dataframe tbody tr th:only-of-type {\n",
       "        vertical-align: middle;\n",
       "    }\n",
       "\n",
       "    .dataframe tbody tr th {\n",
       "        vertical-align: top;\n",
       "    }\n",
       "\n",
       "    .dataframe thead th {\n",
       "        text-align: right;\n",
       "    }\n",
       "</style>\n",
       "<table border=\"1\" class=\"dataframe\">\n",
       "  <thead>\n",
       "    <tr style=\"text-align: right;\">\n",
       "      <th></th>\n",
       "      <th>year</th>\n",
       "      <th>month</th>\n",
       "      <th>case_number</th>\n",
       "    </tr>\n",
       "  </thead>\n",
       "  <tbody>\n",
       "    <tr>\n",
       "      <th>year</th>\n",
       "      <td>1.000000</td>\n",
       "      <td>-0.010418</td>\n",
       "      <td>0.161638</td>\n",
       "    </tr>\n",
       "    <tr>\n",
       "      <th>month</th>\n",
       "      <td>-0.010418</td>\n",
       "      <td>1.000000</td>\n",
       "      <td>0.123094</td>\n",
       "    </tr>\n",
       "    <tr>\n",
       "      <th>case_number</th>\n",
       "      <td>0.161638</td>\n",
       "      <td>0.123094</td>\n",
       "      <td>1.000000</td>\n",
       "    </tr>\n",
       "  </tbody>\n",
       "</table>\n",
       "</div>"
      ],
      "text/plain": [
       "                 year     month  case_number\n",
       "year         1.000000 -0.010418     0.161638\n",
       "month       -0.010418  1.000000     0.123094\n",
       "case_number  0.161638  0.123094     1.000000"
      ]
     },
     "execution_count": 78,
     "metadata": {},
     "output_type": "execute_result"
    }
   ],
   "source": [
    "df.corr()"
   ]
  },
  {
   "cell_type": "code",
   "execution_count": 79,
   "id": "ee9b8fcb",
   "metadata": {},
   "outputs": [
    {
     "data": {
      "image/png": "[encoded data removed]",
      "text/plain": [
       "<Figure size 720x432 with 2 Axes>"
      ]
     },
     "metadata": {},
     "output_type": "display_data"
    }
   ],
   "source": [
    " corrs = df.corr()\n",
    "\n",
    "plt.figure(figsize=(10,6))\n",
    "sns.heatmap(corrs)\n",
    "sns.color_palette(\"light:b\", as_cmap=True)\n",
    "plt.show()"
   ]
  },
  {
   "cell_type": "code",
   "execution_count": 80,
   "id": "bc9c82cb",
   "metadata": {},
   "outputs": [],
   "source": [
    "feature = df[[\"year\",\"month\"]]\n",
    "target = df[\"case_number\"]"
   ]
  },
  {
   "cell_type": "code",
   "execution_count": 81,
   "id": "910be282",
   "metadata": {},
   "outputs": [
    {
     "data": {
      "text/html": [
       "<table class=\"simpletable\">\n",
       "<caption>OLS Regression Results</caption>\n",
       "<tr>\n",
       "  <th>Dep. Variable:</th>       <td>case_number</td>   <th>  R-squared:         </th> <td>   0.042</td>\n",
       "</tr>\n",
       "<tr>\n",
       "  <th>Model:</th>                   <td>OLS</td>       <th>  Adj. R-squared:    </th> <td>   0.030</td>\n",
       "</tr>\n",
       "<tr>\n",
       "  <th>Method:</th>             <td>Least Squares</td>  <th>  F-statistic:       </th> <td>   3.590</td>\n",
       "</tr>\n",
       "<tr>\n",
       "  <th>Date:</th>             <td>Mon, 21 Nov 2022</td> <th>  Prob (F-statistic):</th>  <td>0.0298</td> \n",
       "</tr>\n",
       "<tr>\n",
       "  <th>Time:</th>                 <td>20:52:44</td>     <th>  Log-Likelihood:    </th> <td> -351.16</td>\n",
       "</tr>\n",
       "<tr>\n",
       "  <th>No. Observations:</th>      <td>   168</td>      <th>  AIC:               </th> <td>   708.3</td>\n",
       "</tr>\n",
       "<tr>\n",
       "  <th>Df Residuals:</th>          <td>   165</td>      <th>  BIC:               </th> <td>   717.7</td>\n",
       "</tr>\n",
       "<tr>\n",
       "  <th>Df Model:</th>              <td>     2</td>      <th>                     </th>     <td> </td>   \n",
       "</tr>\n",
       "<tr>\n",
       "  <th>Covariance Type:</th>      <td>nonrobust</td>    <th>                     </th>     <td> </td>   \n",
       "</tr>\n",
       "</table>\n",
       "<table class=\"simpletable\">\n",
       "<tr>\n",
       "    <td></td>       <th>coef</th>     <th>std err</th>      <th>t</th>      <th>P>|t|</th>  <th>[0.025</th>    <th>0.975]</th>  \n",
       "</tr>\n",
       "<tr>\n",
       "  <th>const</th> <td> -121.5698</td> <td>   57.920</td> <td>   -2.099</td> <td> 0.037</td> <td> -235.930</td> <td>   -7.209</td>\n",
       "</tr>\n",
       "<tr>\n",
       "  <th>year</th>  <td>    0.0616</td> <td>    0.029</td> <td>    2.138</td> <td> 0.034</td> <td>    0.005</td> <td>    0.119</td>\n",
       "</tr>\n",
       "<tr>\n",
       "  <th>month</th> <td>    0.0806</td> <td>    0.049</td> <td>    1.637</td> <td> 0.103</td> <td>   -0.017</td> <td>    0.178</td>\n",
       "</tr>\n",
       "</table>\n",
       "<table class=\"simpletable\">\n",
       "<tr>\n",
       "  <th>Omnibus:</th>       <td>28.185</td> <th>  Durbin-Watson:     </th> <td>   1.542</td>\n",
       "</tr>\n",
       "<tr>\n",
       "  <th>Prob(Omnibus):</th> <td> 0.000</td> <th>  Jarque-Bera (JB):  </th> <td>  36.338</td>\n",
       "</tr>\n",
       "<tr>\n",
       "  <th>Skew:</th>          <td> 1.082</td> <th>  Prob(JB):          </th> <td>1.29e-08</td>\n",
       "</tr>\n",
       "<tr>\n",
       "  <th>Kurtosis:</th>      <td> 3.710</td> <th>  Cond. No.          </th> <td>7.64e+05</td>\n",
       "</tr>\n",
       "</table><br/><br/>Notes:<br/>[1] Standard Errors assume that the covariance matrix of the errors is correctly specified.<br/>[2] The condition number is large, 7.64e+05. This might indicate that there are<br/>strong multicollinearity or other numerical problems."
      ],
      "text/plain": [
       "<class 'statsmodels.iolib.summary.Summary'>\n",
       "\"\"\"\n",
       "                            OLS Regression Results                            \n",
       "==============================================================================\n",
       "Dep. Variable:            case_number   R-squared:                       0.042\n",
       "Model:                            OLS   Adj. R-squared:                  0.030\n",
       "Method:                 Least Squares   F-statistic:                     3.590\n",
       "Date:                Mon, 21 Nov 2022   Prob (F-statistic):             0.0298\n",
       "Time:                        20:52:44   Log-Likelihood:                -351.16\n",
       "No. Observations:                 168   AIC:                             708.3\n",
       "Df Residuals:                     165   BIC:                             717.7\n",
       "Df Model:                           2                                         \n",
       "Covariance Type:            nonrobust                                         \n",
       "==============================================================================\n",
       "                 coef    std err          t      P>|t|      [0.025      0.975]\n",
       "------------------------------------------------------------------------------\n",
       "const       -121.5698     57.920     -2.099      0.037    -235.930      -7.209\n",
       "year           0.0616      0.029      2.138      0.034       0.005       0.119\n",
       "month          0.0806      0.049      1.637      0.103      -0.017       0.178\n",
       "==============================================================================\n",
       "Omnibus:                       28.185   Durbin-Watson:                   1.542\n",
       "Prob(Omnibus):                  0.000   Jarque-Bera (JB):               36.338\n",
       "Skew:                           1.082   Prob(JB):                     1.29e-08\n",
       "Kurtosis:                       3.710   Cond. No.                     7.64e+05\n",
       "==============================================================================\n",
       "\n",
       "Notes:\n",
       "[1] Standard Errors assume that the covariance matrix of the errors is correctly specified.\n",
       "[2] The condition number is large, 7.64e+05. This might indicate that there are\n",
       "strong multicollinearity or other numerical problems.\n",
       "\"\"\""
      ]
     },
     "execution_count": 81,
     "metadata": {},
     "output_type": "execute_result"
    }
   ],
   "source": [
    " # STATSMODELS\n",
    "X = sm.add_constant(feature)\n",
    "Y = target\n",
    "\n",
    "model = sm.OLS(Y,X)\n",
    "results = model.fit()\n",
    "results.summary()"
   ]
  },
  {
   "cell_type": "code",
   "execution_count": 82,
   "id": "e30c641d",
   "metadata": {},
   "outputs": [],
   "source": [
    "x = np.array(feature[\"year\"])\n",
    "x = x.reshape(-1, 1)"
   ]
  },
  {
   "cell_type": "code",
   "execution_count": 83,
   "id": "cfac6434",
   "metadata": {},
   "outputs": [
    {
     "name": "stdout",
     "output_type": "stream",
     "text": [
      "[0.06113642]\n",
      "-120.01522987521554\n",
      "0.026126975584496392\n"
     ]
    }
   ],
   "source": [
    "# SCIKIT_LEARN\n",
    "\n",
    "reg = LinearRegression()\n",
    "reg.fit((x), np.array(target))\n",
    "print(reg.coef_)\n",
    "print(reg.intercept_)\n",
    "print(reg.score(x, np.array(target)))"
   ]
  },
  {
   "cell_type": "code",
   "execution_count": 84,
   "id": "bbe37c35",
   "metadata": {},
   "outputs": [
    {
     "data": {
      "text/plain": [
       "array([[2000.],\n",
       "       [2000.],\n",
       "       [2000.],\n",
       "       [2000.],\n",
       "       [2000.],\n",
       "       [2000.],\n",
       "       [2000.],\n",
       "       [2001.],\n",
       "       [2001.],\n",
       "       [2001.],\n",
       "       [2001.],\n",
       "       [2001.],\n",
       "       [2001.],\n",
       "       [2001.],\n",
       "       [2001.],\n",
       "       [2001.],\n",
       "       [2002.],\n",
       "       [2002.],\n",
       "       [2002.],\n",
       "       [2002.],\n",
       "       [2002.],\n",
       "       [2002.],\n",
       "       [2002.],\n",
       "       [2002.],\n",
       "       [2002.],\n",
       "       [2003.],\n",
       "       [2003.],\n",
       "       [2003.],\n",
       "       [2003.],\n",
       "       [2003.],\n",
       "       [2004.],\n",
       "       [2004.],\n",
       "       [2004.],\n",
       "       [2004.],\n",
       "       [2004.],\n",
       "       [2004.],\n",
       "       [2004.],\n",
       "       [2004.],\n",
       "       [2004.],\n",
       "       [2005.],\n",
       "       [2005.],\n",
       "       [2005.],\n",
       "       [2005.],\n",
       "       [2005.],\n",
       "       [2005.],\n",
       "       [2005.],\n",
       "       [2005.],\n",
       "       [2005.],\n",
       "       [2005.],\n",
       "       [2005.],\n",
       "       [2006.],\n",
       "       [2006.],\n",
       "       [2006.],\n",
       "       [2006.],\n",
       "       [2006.],\n",
       "       [2006.],\n",
       "       [2006.],\n",
       "       [2006.],\n",
       "       [2006.],\n",
       "       [2006.],\n",
       "       [2006.],\n",
       "       [2007.],\n",
       "       [2007.],\n",
       "       [2007.],\n",
       "       [2007.],\n",
       "       [2007.],\n",
       "       [2007.],\n",
       "       [2007.],\n",
       "       [2007.],\n",
       "       [2008.],\n",
       "       [2008.],\n",
       "       [2008.],\n",
       "       [2008.],\n",
       "       [2008.],\n",
       "       [2008.],\n",
       "       [2008.],\n",
       "       [2008.],\n",
       "       [2009.],\n",
       "       [2009.],\n",
       "       [2009.],\n",
       "       [2009.],\n",
       "       [2009.],\n",
       "       [2009.],\n",
       "       [2009.],\n",
       "       [2009.],\n",
       "       [2009.],\n",
       "       [2009.],\n",
       "       [2010.],\n",
       "       [2010.],\n",
       "       [2010.],\n",
       "       [2010.],\n",
       "       [2010.],\n",
       "       [2010.],\n",
       "       [2010.],\n",
       "       [2010.],\n",
       "       [2011.],\n",
       "       [2011.],\n",
       "       [2011.],\n",
       "       [2011.],\n",
       "       [2011.],\n",
       "       [2011.],\n",
       "       [2011.],\n",
       "       [2011.],\n",
       "       [2011.],\n",
       "       [2012.],\n",
       "       [2012.],\n",
       "       [2012.],\n",
       "       [2012.],\n",
       "       [2012.],\n",
       "       [2012.],\n",
       "       [2012.],\n",
       "       [2012.],\n",
       "       [2012.],\n",
       "       [2013.],\n",
       "       [2013.],\n",
       "       [2013.],\n",
       "       [2013.],\n",
       "       [2013.],\n",
       "       [2013.],\n",
       "       [2013.],\n",
       "       [2013.],\n",
       "       [2013.],\n",
       "       [2013.],\n",
       "       [2013.],\n",
       "       [2014.],\n",
       "       [2014.],\n",
       "       [2014.],\n",
       "       [2014.],\n",
       "       [2014.],\n",
       "       [2014.],\n",
       "       [2014.],\n",
       "       [2014.],\n",
       "       [2014.],\n",
       "       [2015.],\n",
       "       [2015.],\n",
       "       [2015.],\n",
       "       [2015.],\n",
       "       [2015.],\n",
       "       [2015.],\n",
       "       [2015.],\n",
       "       [2015.],\n",
       "       [2015.],\n",
       "       [2015.],\n",
       "       [2015.],\n",
       "       [2016.],\n",
       "       [2016.],\n",
       "       [2016.],\n",
       "       [2016.],\n",
       "       [2016.],\n",
       "       [2016.],\n",
       "       [2016.],\n",
       "       [2016.],\n",
       "       [2016.],\n",
       "       [2017.],\n",
       "       [2017.],\n",
       "       [2017.],\n",
       "       [2017.],\n",
       "       [2017.],\n",
       "       [2017.],\n",
       "       [2017.],\n",
       "       [2017.],\n",
       "       [2017.],\n",
       "       [2017.],\n",
       "       [2017.],\n",
       "       [2018.],\n",
       "       [2018.],\n",
       "       [2018.],\n",
       "       [2018.]])"
      ]
     },
     "execution_count": 84,
     "metadata": {},
     "output_type": "execute_result"
    }
   ],
   "source": [
    "x"
   ]
  },
  {
   "cell_type": "code",
   "execution_count": 85,
   "id": "386559ac",
   "metadata": {},
   "outputs": [
    {
     "data": {
      "text/plain": [
       "array([2.25760638, 2.25760638, 2.25760638, 2.25760638, 2.25760638,\n",
       "       2.25760638, 2.25760638, 2.31874279, 2.31874279, 2.31874279,\n",
       "       2.31874279, 2.31874279, 2.31874279, 2.31874279, 2.31874279,\n",
       "       2.31874279, 2.37987921, 2.37987921, 2.37987921, 2.37987921,\n",
       "       2.37987921, 2.37987921, 2.37987921, 2.37987921, 2.37987921,\n",
       "       2.44101563, 2.44101563, 2.44101563, 2.44101563, 2.44101563,\n",
       "       2.50215205, 2.50215205, 2.50215205, 2.50215205, 2.50215205,\n",
       "       2.50215205, 2.50215205, 2.50215205, 2.50215205, 2.56328847,\n",
       "       2.56328847, 2.56328847, 2.56328847, 2.56328847, 2.56328847,\n",
       "       2.56328847, 2.56328847, 2.56328847, 2.56328847, 2.56328847,\n",
       "       2.62442488, 2.62442488, 2.62442488, 2.62442488, 2.62442488,\n",
       "       2.62442488, 2.62442488, 2.62442488, 2.62442488, 2.62442488,\n",
       "       2.62442488, 2.6855613 , 2.6855613 , 2.6855613 , 2.6855613 ,\n",
       "       2.6855613 , 2.6855613 , 2.6855613 , 2.6855613 , 2.74669772,\n",
       "       2.74669772, 2.74669772, 2.74669772, 2.74669772, 2.74669772,\n",
       "       2.74669772, 2.74669772, 2.80783414, 2.80783414, 2.80783414,\n",
       "       2.80783414, 2.80783414, 2.80783414, 2.80783414, 2.80783414,\n",
       "       2.80783414, 2.80783414, 2.86897056, 2.86897056, 2.86897056,\n",
       "       2.86897056, 2.86897056, 2.86897056, 2.86897056, 2.86897056,\n",
       "       2.93010697, 2.93010697, 2.93010697, 2.93010697, 2.93010697,\n",
       "       2.93010697, 2.93010697, 2.93010697, 2.93010697, 2.99124339,\n",
       "       2.99124339, 2.99124339, 2.99124339, 2.99124339, 2.99124339,\n",
       "       2.99124339, 2.99124339, 2.99124339, 3.05237981, 3.05237981,\n",
       "       3.05237981, 3.05237981, 3.05237981, 3.05237981, 3.05237981,\n",
       "       3.05237981, 3.05237981, 3.05237981, 3.05237981, 3.11351623,\n",
       "       3.11351623, 3.11351623, 3.11351623, 3.11351623, 3.11351623,\n",
       "       3.11351623, 3.11351623, 3.11351623, 3.17465265, 3.17465265,\n",
       "       3.17465265, 3.17465265, 3.17465265, 3.17465265, 3.17465265,\n",
       "       3.17465265, 3.17465265, 3.17465265, 3.17465265, 3.23578907,\n",
       "       3.23578907, 3.23578907, 3.23578907, 3.23578907, 3.23578907,\n",
       "       3.23578907, 3.23578907, 3.23578907, 3.29692548, 3.29692548,\n",
       "       3.29692548, 3.29692548, 3.29692548, 3.29692548, 3.29692548,\n",
       "       3.29692548, 3.29692548, 3.29692548, 3.29692548, 3.3580619 ,\n",
       "       3.3580619 , 3.3580619 , 3.3580619 ])"
      ]
     },
     "execution_count": 85,
     "metadata": {},
     "output_type": "execute_result"
    }
   ],
   "source": [
    "reg.predict(x)"
   ]
  },
  {
   "cell_type": "code",
   "execution_count": 86,
   "id": "12accf95",
   "metadata": {
    "scrolled": true
   },
   "outputs": [
    {
     "data": {
      "image/png": "[encoded data removed]",
      "text/plain": [
       "<Figure size 432x288 with 1 Axes>"
      ]
     },
     "metadata": {},
     "output_type": "display_data"
    }
   ],
   "source": [
    "plt.scatter(x,target)\n",
    "plt.plot(x,reg.predict(x),color=\"red\", linewidth=3)\n",
    "#plt.xlabel(\"Actual\")\n",
    "#plt.ylabel(\"Predicted\")\n",
    "#plt.xlim([2000, 2018])\n",
    "plt.show()"
   ]
  },
  {
   "cell_type": "code",
   "execution_count": 87,
   "id": "4df84138",
   "metadata": {},
   "outputs": [
    {
     "data": {
      "text/plain": [
       "array([4.09169892])"
      ]
     },
     "execution_count": 87,
     "metadata": {},
     "output_type": "execute_result"
    }
   ],
   "source": [
    "predict = [2030]\n",
    "\n",
    "predict = np.array(predict)\n",
    "predict = predict.reshape(1, -1)\n",
    "reg.predict(predict)"
   ]
  },
  {
   "cell_type": "code",
   "execution_count": null,
   "id": "64c5ffe0",
   "metadata": {},
   "outputs": [],
   "source": []
  },
  {
   "cell_type": "code",
   "execution_count": null,
   "id": "70609791",
   "metadata": {},
   "outputs": [],
   "source": []
  },
  {
   "cell_type": "code",
   "execution_count": 88,
   "id": "934c11e0",
   "metadata": {},
   "outputs": [
    {
     "ename": "ValueError",
     "evalue": "X has 2 features, but LinearRegression is expecting 1 features as input.",
     "output_type": "error",
     "traceback": [
      "\u001b[1;31m---------------------------------------------------------------------------\u001b[0m",
      "\u001b[1;31mValueError\u001b[0m                                Traceback (most recent call last)",
      "Input \u001b[1;32mIn [88]\u001b[0m, in \u001b[0;36m<cell line: 1>\u001b[1;34m()\u001b[0m\n\u001b[1;32m----> 1\u001b[0m plt\u001b[38;5;241m.\u001b[39mscatter(target, \u001b[43mreg\u001b[49m\u001b[38;5;241;43m.\u001b[39;49m\u001b[43mpredict\u001b[49m\u001b[43m(\u001b[49m\u001b[43mnp\u001b[49m\u001b[38;5;241;43m.\u001b[39;49m\u001b[43marray\u001b[49m\u001b[43m(\u001b[49m\u001b[43mfeature\u001b[49m\u001b[43m)\u001b[49m\u001b[43m)\u001b[49m)\n\u001b[0;32m      2\u001b[0m plt\u001b[38;5;241m.\u001b[39mplot(target, target)\n\u001b[0;32m      3\u001b[0m plt\u001b[38;5;241m.\u001b[39mxlabel(\u001b[38;5;124m\"\u001b[39m\u001b[38;5;124mActual\u001b[39m\u001b[38;5;124m\"\u001b[39m)\n",
      "File \u001b[1;32m~\\Anaconda3\\lib\\site-packages\\sklearn\\linear_model\\_base.py:386\u001b[0m, in \u001b[0;36mLinearModel.predict\u001b[1;34m(self, X)\u001b[0m\n\u001b[0;32m    372\u001b[0m \u001b[38;5;28;01mdef\u001b[39;00m \u001b[38;5;21mpredict\u001b[39m(\u001b[38;5;28mself\u001b[39m, X):\n\u001b[0;32m    373\u001b[0m     \u001b[38;5;124;03m\"\"\"\u001b[39;00m\n\u001b[0;32m    374\u001b[0m \u001b[38;5;124;03m    Predict using the linear model.\u001b[39;00m\n\u001b[0;32m    375\u001b[0m \n\u001b[1;32m   (...)\u001b[0m\n\u001b[0;32m    384\u001b[0m \u001b[38;5;124;03m        Returns predicted values.\u001b[39;00m\n\u001b[0;32m    385\u001b[0m \u001b[38;5;124;03m    \"\"\"\u001b[39;00m\n\u001b[1;32m--> 386\u001b[0m     \u001b[38;5;28;01mreturn\u001b[39;00m \u001b[38;5;28;43mself\u001b[39;49m\u001b[38;5;241;43m.\u001b[39;49m\u001b[43m_decision_function\u001b[49m\u001b[43m(\u001b[49m\u001b[43mX\u001b[49m\u001b[43m)\u001b[49m\n",
      "File \u001b[1;32m~\\Anaconda3\\lib\\site-packages\\sklearn\\linear_model\\_base.py:369\u001b[0m, in \u001b[0;36mLinearModel._decision_function\u001b[1;34m(self, X)\u001b[0m\n\u001b[0;32m    366\u001b[0m \u001b[38;5;28;01mdef\u001b[39;00m \u001b[38;5;21m_decision_function\u001b[39m(\u001b[38;5;28mself\u001b[39m, X):\n\u001b[0;32m    367\u001b[0m     check_is_fitted(\u001b[38;5;28mself\u001b[39m)\n\u001b[1;32m--> 369\u001b[0m     X \u001b[38;5;241m=\u001b[39m \u001b[38;5;28;43mself\u001b[39;49m\u001b[38;5;241;43m.\u001b[39;49m\u001b[43m_validate_data\u001b[49m\u001b[43m(\u001b[49m\u001b[43mX\u001b[49m\u001b[43m,\u001b[49m\u001b[43m \u001b[49m\u001b[43maccept_sparse\u001b[49m\u001b[38;5;241;43m=\u001b[39;49m\u001b[43m[\u001b[49m\u001b[38;5;124;43m\"\u001b[39;49m\u001b[38;5;124;43mcsr\u001b[39;49m\u001b[38;5;124;43m\"\u001b[39;49m\u001b[43m,\u001b[49m\u001b[43m \u001b[49m\u001b[38;5;124;43m\"\u001b[39;49m\u001b[38;5;124;43mcsc\u001b[39;49m\u001b[38;5;124;43m\"\u001b[39;49m\u001b[43m,\u001b[49m\u001b[43m \u001b[49m\u001b[38;5;124;43m\"\u001b[39;49m\u001b[38;5;124;43mcoo\u001b[39;49m\u001b[38;5;124;43m\"\u001b[39;49m\u001b[43m]\u001b[49m\u001b[43m,\u001b[49m\u001b[43m \u001b[49m\u001b[43mreset\u001b[49m\u001b[38;5;241;43m=\u001b[39;49m\u001b[38;5;28;43;01mFalse\u001b[39;49;00m\u001b[43m)\u001b[49m\n\u001b[0;32m    370\u001b[0m     \u001b[38;5;28;01mreturn\u001b[39;00m safe_sparse_dot(X, \u001b[38;5;28mself\u001b[39m\u001b[38;5;241m.\u001b[39mcoef_\u001b[38;5;241m.\u001b[39mT, dense_output\u001b[38;5;241m=\u001b[39m\u001b[38;5;28;01mTrue\u001b[39;00m) \u001b[38;5;241m+\u001b[39m \u001b[38;5;28mself\u001b[39m\u001b[38;5;241m.\u001b[39mintercept_\n",
      "File \u001b[1;32m~\\Anaconda3\\lib\\site-packages\\sklearn\\base.py:600\u001b[0m, in \u001b[0;36mBaseEstimator._validate_data\u001b[1;34m(self, X, y, reset, validate_separately, **check_params)\u001b[0m\n\u001b[0;32m    597\u001b[0m     out \u001b[38;5;241m=\u001b[39m X, y\n\u001b[0;32m    599\u001b[0m \u001b[38;5;28;01mif\u001b[39;00m \u001b[38;5;129;01mnot\u001b[39;00m no_val_X \u001b[38;5;129;01mand\u001b[39;00m check_params\u001b[38;5;241m.\u001b[39mget(\u001b[38;5;124m\"\u001b[39m\u001b[38;5;124mensure_2d\u001b[39m\u001b[38;5;124m\"\u001b[39m, \u001b[38;5;28;01mTrue\u001b[39;00m):\n\u001b[1;32m--> 600\u001b[0m     \u001b[38;5;28;43mself\u001b[39;49m\u001b[38;5;241;43m.\u001b[39;49m\u001b[43m_check_n_features\u001b[49m\u001b[43m(\u001b[49m\u001b[43mX\u001b[49m\u001b[43m,\u001b[49m\u001b[43m \u001b[49m\u001b[43mreset\u001b[49m\u001b[38;5;241;43m=\u001b[39;49m\u001b[43mreset\u001b[49m\u001b[43m)\u001b[49m\n\u001b[0;32m    602\u001b[0m \u001b[38;5;28;01mreturn\u001b[39;00m out\n",
      "File \u001b[1;32m~\\Anaconda3\\lib\\site-packages\\sklearn\\base.py:400\u001b[0m, in \u001b[0;36mBaseEstimator._check_n_features\u001b[1;34m(self, X, reset)\u001b[0m\n\u001b[0;32m    397\u001b[0m     \u001b[38;5;28;01mreturn\u001b[39;00m\n\u001b[0;32m    399\u001b[0m \u001b[38;5;28;01mif\u001b[39;00m n_features \u001b[38;5;241m!=\u001b[39m \u001b[38;5;28mself\u001b[39m\u001b[38;5;241m.\u001b[39mn_features_in_:\n\u001b[1;32m--> 400\u001b[0m     \u001b[38;5;28;01mraise\u001b[39;00m \u001b[38;5;167;01mValueError\u001b[39;00m(\n\u001b[0;32m    401\u001b[0m         \u001b[38;5;124mf\u001b[39m\u001b[38;5;124m\"\u001b[39m\u001b[38;5;124mX has \u001b[39m\u001b[38;5;132;01m{\u001b[39;00mn_features\u001b[38;5;132;01m}\u001b[39;00m\u001b[38;5;124m features, but \u001b[39m\u001b[38;5;132;01m{\u001b[39;00m\u001b[38;5;28mself\u001b[39m\u001b[38;5;241m.\u001b[39m\u001b[38;5;18m__class__\u001b[39m\u001b[38;5;241m.\u001b[39m\u001b[38;5;18m__name__\u001b[39m\u001b[38;5;132;01m}\u001b[39;00m\u001b[38;5;124m \u001b[39m\u001b[38;5;124m\"\u001b[39m\n\u001b[0;32m    402\u001b[0m         \u001b[38;5;124mf\u001b[39m\u001b[38;5;124m\"\u001b[39m\u001b[38;5;124mis expecting \u001b[39m\u001b[38;5;132;01m{\u001b[39;00m\u001b[38;5;28mself\u001b[39m\u001b[38;5;241m.\u001b[39mn_features_in_\u001b[38;5;132;01m}\u001b[39;00m\u001b[38;5;124m features as input.\u001b[39m\u001b[38;5;124m\"\u001b[39m\n\u001b[0;32m    403\u001b[0m     )\n",
      "\u001b[1;31mValueError\u001b[0m: X has 2 features, but LinearRegression is expecting 1 features as input."
     ]
    }
   ],
   "source": [
    "plt.scatter(target, reg.predict(np.array(feature)))\n",
    "plt.plot(target, target)\n",
    "plt.xlabel(\"Actual\")\n",
    "plt.ylabel(\"Predicted\")\n",
    "plt.show()"
   ]
  },
  {
   "cell_type": "code",
   "execution_count": null,
   "id": "b69b8c9e",
   "metadata": {},
   "outputs": [],
   "source": [
    " rf = RandomForestRegressor()\n",
    "rf.fit(np.array(feature), np.array(target))\n",
    "print(rf.score(np.array(feature), np.array(target)))"
   ]
  },
  {
   "cell_type": "code",
   "execution_count": 89,
   "id": "fe041b4c",
   "metadata": {},
   "outputs": [
    {
     "ename": "NameError",
     "evalue": "name 'rf' is not defined",
     "output_type": "error",
     "traceback": [
      "\u001b[1;31m---------------------------------------------------------------------------\u001b[0m",
      "\u001b[1;31mNameError\u001b[0m                                 Traceback (most recent call last)",
      "Input \u001b[1;32mIn [89]\u001b[0m, in \u001b[0;36m<cell line: 1>\u001b[1;34m()\u001b[0m\n\u001b[1;32m----> 1\u001b[0m plt\u001b[38;5;241m.\u001b[39mscatter(target, \u001b[43mrf\u001b[49m\u001b[38;5;241m.\u001b[39mpredict(np\u001b[38;5;241m.\u001b[39marray(feature)))\n\u001b[0;32m      2\u001b[0m plt\u001b[38;5;241m.\u001b[39mplot(target, target)\n\u001b[0;32m      3\u001b[0m plt\u001b[38;5;241m.\u001b[39mxlabel(\u001b[38;5;124m\"\u001b[39m\u001b[38;5;124mActual\u001b[39m\u001b[38;5;124m\"\u001b[39m)\n",
      "\u001b[1;31mNameError\u001b[0m: name 'rf' is not defined"
     ]
    }
   ],
   "source": [
    "plt.scatter(target, rf.predict(np.array(feature)))\n",
    "plt.plot(target, target)\n",
    "plt.xlabel(\"Actual\")\n",
    "plt.ylabel(\"Predicted\")\n",
    "plt.show()"
   ]
  },
  {
   "cell_type": "code",
   "execution_count": 90,
   "id": "a0085088",
   "metadata": {},
   "outputs": [
    {
     "data": {
      "text/plain": [
       "year     2000.0\n",
       "month       3.0\n",
       "Name: 0, dtype: float64"
      ]
     },
     "execution_count": 90,
     "metadata": {},
     "output_type": "execute_result"
    }
   ],
   "source": [
    "data = feature.iloc[0]\n",
    "data"
   ]
  },
  {
   "cell_type": "code",
   "execution_count": 91,
   "id": "a8b464e6",
   "metadata": {},
   "outputs": [
    {
     "ename": "NameError",
     "evalue": "name 'rf' is not defined",
     "output_type": "error",
     "traceback": [
      "\u001b[1;31m---------------------------------------------------------------------------\u001b[0m",
      "\u001b[1;31mNameError\u001b[0m                                 Traceback (most recent call last)",
      "Input \u001b[1;32mIn [91]\u001b[0m, in \u001b[0;36m<cell line: 3>\u001b[1;34m()\u001b[0m\n\u001b[0;32m      1\u001b[0m data[\u001b[38;5;124m\"\u001b[39m\u001b[38;5;124myear\u001b[39m\u001b[38;5;124m\"\u001b[39m] \u001b[38;5;241m=\u001b[39m \u001b[38;5;241m2017\u001b[39m\n\u001b[0;32m      2\u001b[0m data[\u001b[38;5;124m\"\u001b[39m\u001b[38;5;124mmonth\u001b[39m\u001b[38;5;124m\"\u001b[39m] \u001b[38;5;241m=\u001b[39m \u001b[38;5;241m9\u001b[39m\n\u001b[1;32m----> 3\u001b[0m \u001b[43mrf\u001b[49m\u001b[38;5;241m.\u001b[39mpredict([data])\n",
      "\u001b[1;31mNameError\u001b[0m: name 'rf' is not defined"
     ]
    }
   ],
   "source": [
    "data[\"year\"] = 2017\n",
    "data[\"month\"] = 9\n",
    "rf.predict([data])"
   ]
  },
  {
   "cell_type": "code",
   "execution_count": 92,
   "id": "49c085cf",
   "metadata": {},
   "outputs": [
    {
     "ename": "ValueError",
     "evalue": "X has 2 features, but LinearRegression is expecting 1 features as input.",
     "output_type": "error",
     "traceback": [
      "\u001b[1;31m---------------------------------------------------------------------------\u001b[0m",
      "\u001b[1;31mValueError\u001b[0m                                Traceback (most recent call last)",
      "Input \u001b[1;32mIn [92]\u001b[0m, in \u001b[0;36m<cell line: 1>\u001b[1;34m()\u001b[0m\n\u001b[1;32m----> 1\u001b[0m \u001b[43mreg\u001b[49m\u001b[38;5;241;43m.\u001b[39;49m\u001b[43mpredict\u001b[49m\u001b[43m(\u001b[49m\u001b[43m[\u001b[49m\u001b[43mdata\u001b[49m\u001b[43m]\u001b[49m\u001b[43m)\u001b[49m\n",
      "File \u001b[1;32m~\\Anaconda3\\lib\\site-packages\\sklearn\\linear_model\\_base.py:386\u001b[0m, in \u001b[0;36mLinearModel.predict\u001b[1;34m(self, X)\u001b[0m\n\u001b[0;32m    372\u001b[0m \u001b[38;5;28;01mdef\u001b[39;00m \u001b[38;5;21mpredict\u001b[39m(\u001b[38;5;28mself\u001b[39m, X):\n\u001b[0;32m    373\u001b[0m     \u001b[38;5;124;03m\"\"\"\u001b[39;00m\n\u001b[0;32m    374\u001b[0m \u001b[38;5;124;03m    Predict using the linear model.\u001b[39;00m\n\u001b[0;32m    375\u001b[0m \n\u001b[1;32m   (...)\u001b[0m\n\u001b[0;32m    384\u001b[0m \u001b[38;5;124;03m        Returns predicted values.\u001b[39;00m\n\u001b[0;32m    385\u001b[0m \u001b[38;5;124;03m    \"\"\"\u001b[39;00m\n\u001b[1;32m--> 386\u001b[0m     \u001b[38;5;28;01mreturn\u001b[39;00m \u001b[38;5;28;43mself\u001b[39;49m\u001b[38;5;241;43m.\u001b[39;49m\u001b[43m_decision_function\u001b[49m\u001b[43m(\u001b[49m\u001b[43mX\u001b[49m\u001b[43m)\u001b[49m\n",
      "File \u001b[1;32m~\\Anaconda3\\lib\\site-packages\\sklearn\\linear_model\\_base.py:369\u001b[0m, in \u001b[0;36mLinearModel._decision_function\u001b[1;34m(self, X)\u001b[0m\n\u001b[0;32m    366\u001b[0m \u001b[38;5;28;01mdef\u001b[39;00m \u001b[38;5;21m_decision_function\u001b[39m(\u001b[38;5;28mself\u001b[39m, X):\n\u001b[0;32m    367\u001b[0m     check_is_fitted(\u001b[38;5;28mself\u001b[39m)\n\u001b[1;32m--> 369\u001b[0m     X \u001b[38;5;241m=\u001b[39m \u001b[38;5;28;43mself\u001b[39;49m\u001b[38;5;241;43m.\u001b[39;49m\u001b[43m_validate_data\u001b[49m\u001b[43m(\u001b[49m\u001b[43mX\u001b[49m\u001b[43m,\u001b[49m\u001b[43m \u001b[49m\u001b[43maccept_sparse\u001b[49m\u001b[38;5;241;43m=\u001b[39;49m\u001b[43m[\u001b[49m\u001b[38;5;124;43m\"\u001b[39;49m\u001b[38;5;124;43mcsr\u001b[39;49m\u001b[38;5;124;43m\"\u001b[39;49m\u001b[43m,\u001b[49m\u001b[43m \u001b[49m\u001b[38;5;124;43m\"\u001b[39;49m\u001b[38;5;124;43mcsc\u001b[39;49m\u001b[38;5;124;43m\"\u001b[39;49m\u001b[43m,\u001b[49m\u001b[43m \u001b[49m\u001b[38;5;124;43m\"\u001b[39;49m\u001b[38;5;124;43mcoo\u001b[39;49m\u001b[38;5;124;43m\"\u001b[39;49m\u001b[43m]\u001b[49m\u001b[43m,\u001b[49m\u001b[43m \u001b[49m\u001b[43mreset\u001b[49m\u001b[38;5;241;43m=\u001b[39;49m\u001b[38;5;28;43;01mFalse\u001b[39;49;00m\u001b[43m)\u001b[49m\n\u001b[0;32m    370\u001b[0m     \u001b[38;5;28;01mreturn\u001b[39;00m safe_sparse_dot(X, \u001b[38;5;28mself\u001b[39m\u001b[38;5;241m.\u001b[39mcoef_\u001b[38;5;241m.\u001b[39mT, dense_output\u001b[38;5;241m=\u001b[39m\u001b[38;5;28;01mTrue\u001b[39;00m) \u001b[38;5;241m+\u001b[39m \u001b[38;5;28mself\u001b[39m\u001b[38;5;241m.\u001b[39mintercept_\n",
      "File \u001b[1;32m~\\Anaconda3\\lib\\site-packages\\sklearn\\base.py:600\u001b[0m, in \u001b[0;36mBaseEstimator._validate_data\u001b[1;34m(self, X, y, reset, validate_separately, **check_params)\u001b[0m\n\u001b[0;32m    597\u001b[0m     out \u001b[38;5;241m=\u001b[39m X, y\n\u001b[0;32m    599\u001b[0m \u001b[38;5;28;01mif\u001b[39;00m \u001b[38;5;129;01mnot\u001b[39;00m no_val_X \u001b[38;5;129;01mand\u001b[39;00m check_params\u001b[38;5;241m.\u001b[39mget(\u001b[38;5;124m\"\u001b[39m\u001b[38;5;124mensure_2d\u001b[39m\u001b[38;5;124m\"\u001b[39m, \u001b[38;5;28;01mTrue\u001b[39;00m):\n\u001b[1;32m--> 600\u001b[0m     \u001b[38;5;28;43mself\u001b[39;49m\u001b[38;5;241;43m.\u001b[39;49m\u001b[43m_check_n_features\u001b[49m\u001b[43m(\u001b[49m\u001b[43mX\u001b[49m\u001b[43m,\u001b[49m\u001b[43m \u001b[49m\u001b[43mreset\u001b[49m\u001b[38;5;241;43m=\u001b[39;49m\u001b[43mreset\u001b[49m\u001b[43m)\u001b[49m\n\u001b[0;32m    602\u001b[0m \u001b[38;5;28;01mreturn\u001b[39;00m out\n",
      "File \u001b[1;32m~\\Anaconda3\\lib\\site-packages\\sklearn\\base.py:400\u001b[0m, in \u001b[0;36mBaseEstimator._check_n_features\u001b[1;34m(self, X, reset)\u001b[0m\n\u001b[0;32m    397\u001b[0m     \u001b[38;5;28;01mreturn\u001b[39;00m\n\u001b[0;32m    399\u001b[0m \u001b[38;5;28;01mif\u001b[39;00m n_features \u001b[38;5;241m!=\u001b[39m \u001b[38;5;28mself\u001b[39m\u001b[38;5;241m.\u001b[39mn_features_in_:\n\u001b[1;32m--> 400\u001b[0m     \u001b[38;5;28;01mraise\u001b[39;00m \u001b[38;5;167;01mValueError\u001b[39;00m(\n\u001b[0;32m    401\u001b[0m         \u001b[38;5;124mf\u001b[39m\u001b[38;5;124m\"\u001b[39m\u001b[38;5;124mX has \u001b[39m\u001b[38;5;132;01m{\u001b[39;00mn_features\u001b[38;5;132;01m}\u001b[39;00m\u001b[38;5;124m features, but \u001b[39m\u001b[38;5;132;01m{\u001b[39;00m\u001b[38;5;28mself\u001b[39m\u001b[38;5;241m.\u001b[39m\u001b[38;5;18m__class__\u001b[39m\u001b[38;5;241m.\u001b[39m\u001b[38;5;18m__name__\u001b[39m\u001b[38;5;132;01m}\u001b[39;00m\u001b[38;5;124m \u001b[39m\u001b[38;5;124m\"\u001b[39m\n\u001b[0;32m    402\u001b[0m         \u001b[38;5;124mf\u001b[39m\u001b[38;5;124m\"\u001b[39m\u001b[38;5;124mis expecting \u001b[39m\u001b[38;5;132;01m{\u001b[39;00m\u001b[38;5;28mself\u001b[39m\u001b[38;5;241m.\u001b[39mn_features_in_\u001b[38;5;132;01m}\u001b[39;00m\u001b[38;5;124m features as input.\u001b[39m\u001b[38;5;124m\"\u001b[39m\n\u001b[0;32m    403\u001b[0m     )\n",
      "\u001b[1;31mValueError\u001b[0m: X has 2 features, but LinearRegression is expecting 1 features as input."
     ]
    }
   ],
   "source": [
    "reg.predict([data])"
   ]
  },
  {
   "cell_type": "code",
   "execution_count": 93,
   "id": "e5735a8c",
   "metadata": {},
   "outputs": [
    {
     "ename": "TypeError",
     "evalue": "'int' object is not callable",
     "output_type": "error",
     "traceback": [
      "\u001b[1;31m---------------------------------------------------------------------------\u001b[0m",
      "\u001b[1;31mTypeError\u001b[0m                                 Traceback (most recent call last)",
      "Input \u001b[1;32mIn [93]\u001b[0m, in \u001b[0;36m<cell line: 1>\u001b[1;34m()\u001b[0m\n\u001b[1;32m----> 1\u001b[0m aba \u001b[38;5;241m=\u001b[39m \u001b[43mdf_usa\u001b[49m\u001b[38;5;241;43m.\u001b[39;49m\u001b[43mmonth\u001b[49m\u001b[38;5;241;43m.\u001b[39;49m\u001b[43msize\u001b[49m\u001b[43m(\u001b[49m\u001b[43m)\u001b[49m\n\u001b[0;32m      3\u001b[0m plt\u001b[38;5;241m.\u001b[39mfigure(figsize\u001b[38;5;241m=\u001b[39m(\u001b[38;5;241m10\u001b[39m,\u001b[38;5;241m5\u001b[39m))\n\u001b[0;32m      4\u001b[0m plt\u001b[38;5;241m.\u001b[39mscatter( df_usa\u001b[38;5;241m.\u001b[39mmonth, aba , label\u001b[38;5;241m=\u001b[39m\u001b[38;5;124m\"\u001b[39m\u001b[38;5;124m%\u001b[39m\u001b[38;5;124m Registered\u001b[39m\u001b[38;5;124m\"\u001b[39m, color\u001b[38;5;241m=\u001b[39m\u001b[38;5;124m\"\u001b[39m\u001b[38;5;124m#EC6B56\u001b[39m\u001b[38;5;124m\"\u001b[39m)\n",
      "\u001b[1;31mTypeError\u001b[0m: 'int' object is not callable"
     ]
    }
   ],
   "source": [
    "aba = df_usa.month.size()\n",
    "\n",
    "plt.figure(figsize=(10,5))\n",
    "plt.scatter( df_usa.month, aba , label=\"% Registered\", color=\"#EC6B56\")\n",
    "plt.xlabel(\"Income\")\n",
    "plt.ylabel(\"% Regestered Users\")\n",
    "plt.title(\"% Registered User vs Income in 2015\")\n",
    "plt.legend()\n",
    "plt.savefig(\"Scatter Percent of Registered Users by Median Household Income \")\n",
    "#plt.grid(alpha=0.)\n",
    "\n",
    "plt.show()"
   ]
  },
  {
   "cell_type": "code",
   "execution_count": 94,
   "id": "309e27ea",
   "metadata": {},
   "outputs": [
    {
     "data": {
      "text/html": [
       "<div>\n",
       "<style scoped>\n",
       "    .dataframe tbody tr th:only-of-type {\n",
       "        vertical-align: middle;\n",
       "    }\n",
       "\n",
       "    .dataframe tbody tr th {\n",
       "        vertical-align: top;\n",
       "    }\n",
       "\n",
       "    .dataframe thead th {\n",
       "        text-align: right;\n",
       "    }\n",
       "</style>\n",
       "<table border=\"1\" class=\"dataframe\">\n",
       "  <thead>\n",
       "    <tr style=\"text-align: right;\">\n",
       "      <th></th>\n",
       "      <th>case_number</th>\n",
       "      <th>date</th>\n",
       "      <th>year</th>\n",
       "      <th>type</th>\n",
       "      <th>country</th>\n",
       "      <th>area</th>\n",
       "      <th>location</th>\n",
       "      <th>activity</th>\n",
       "      <th>gender</th>\n",
       "      <th>age</th>\n",
       "      <th>injury</th>\n",
       "      <th>fatal</th>\n",
       "      <th>state</th>\n",
       "      <th>latitude</th>\n",
       "      <th>longitude</th>\n",
       "      <th>age_clean</th>\n",
       "      <th>parent_injury</th>\n",
       "      <th>month</th>\n",
       "      <th>parent_activity</th>\n",
       "      <th>age_group</th>\n",
       "    </tr>\n",
       "  </thead>\n",
       "  <tbody>\n",
       "    <tr>\n",
       "      <th>0</th>\n",
       "      <td>2018.06.25</td>\n",
       "      <td>2018-06-25</td>\n",
       "      <td>2018.0</td>\n",
       "      <td>Boating</td>\n",
       "      <td>USA</td>\n",
       "      <td>California</td>\n",
       "      <td>Oceanside, San Diego County</td>\n",
       "      <td>Paddling</td>\n",
       "      <td>F</td>\n",
       "      <td>57</td>\n",
       "      <td>No injury to occupant, outrigger canoe and pad...</td>\n",
       "      <td>N</td>\n",
       "      <td>CA</td>\n",
       "      <td>37.271875</td>\n",
       "      <td>-119.270415</td>\n",
       "      <td>57.0</td>\n",
       "      <td>No Injury</td>\n",
       "      <td>6.0</td>\n",
       "      <td>in_water</td>\n",
       "      <td>50-59</td>\n",
       "    </tr>\n",
       "    <tr>\n",
       "      <th>1</th>\n",
       "      <td>2018.06.18</td>\n",
       "      <td>2018-06-18</td>\n",
       "      <td>2018.0</td>\n",
       "      <td>Unprovoked</td>\n",
       "      <td>USA</td>\n",
       "      <td>Georgia</td>\n",
       "      <td>St. Simon Island, Glynn County</td>\n",
       "      <td>Standing</td>\n",
       "      <td>F</td>\n",
       "      <td>11</td>\n",
       "      <td>Minor injury to left thigh</td>\n",
       "      <td>N</td>\n",
       "      <td>GA</td>\n",
       "      <td>32.678125</td>\n",
       "      <td>-83.222976</td>\n",
       "      <td>11.0</td>\n",
       "      <td>Minor Injury</td>\n",
       "      <td>6.0</td>\n",
       "      <td>other</td>\n",
       "      <td>0-19</td>\n",
       "    </tr>\n",
       "    <tr>\n",
       "      <th>2</th>\n",
       "      <td>2018.06.09</td>\n",
       "      <td>2018-06-09</td>\n",
       "      <td>2018.0</td>\n",
       "      <td>Invalid</td>\n",
       "      <td>USA</td>\n",
       "      <td>Hawaii</td>\n",
       "      <td>Habush, Oahu</td>\n",
       "      <td>Surfing</td>\n",
       "      <td>M</td>\n",
       "      <td>48</td>\n",
       "      <td>Injury to left lower leg from surfboard skeg</td>\n",
       "      <td>N</td>\n",
       "      <td>HI</td>\n",
       "      <td>20.460000</td>\n",
       "      <td>-157.505000</td>\n",
       "      <td>48.0</td>\n",
       "      <td>Minor Injury</td>\n",
       "      <td>6.0</td>\n",
       "      <td>on_water</td>\n",
       "      <td>40-49</td>\n",
       "    </tr>\n",
       "    <tr>\n",
       "      <th>3</th>\n",
       "      <td>2018.05.27</td>\n",
       "      <td>2018-05-27</td>\n",
       "      <td>2018.0</td>\n",
       "      <td>Unprovoked</td>\n",
       "      <td>USA</td>\n",
       "      <td>Florida</td>\n",
       "      <td>Lighhouse Point Park, Ponce Inlet, Volusia County</td>\n",
       "      <td>Fishing</td>\n",
       "      <td>NaN</td>\n",
       "      <td>52</td>\n",
       "      <td>Minor injury to foot. PROVOKED INCIDENT</td>\n",
       "      <td>N</td>\n",
       "      <td>FL</td>\n",
       "      <td>27.975728</td>\n",
       "      <td>-83.833017</td>\n",
       "      <td>52.0</td>\n",
       "      <td>Minor Injury</td>\n",
       "      <td>5.0</td>\n",
       "      <td>fishing</td>\n",
       "      <td>50-59</td>\n",
       "    </tr>\n",
       "    <tr>\n",
       "      <th>4</th>\n",
       "      <td>2018.05.26.b</td>\n",
       "      <td>2018-05-26</td>\n",
       "      <td>2018.0</td>\n",
       "      <td>Unprovoked</td>\n",
       "      <td>USA</td>\n",
       "      <td>Florida</td>\n",
       "      <td>Cocoa Beach, Brevard  County</td>\n",
       "      <td>Walking</td>\n",
       "      <td>NaN</td>\n",
       "      <td>15</td>\n",
       "      <td>Lower left leg bitten</td>\n",
       "      <td>N</td>\n",
       "      <td>FL</td>\n",
       "      <td>27.975728</td>\n",
       "      <td>-83.833017</td>\n",
       "      <td>15.0</td>\n",
       "      <td>Bite</td>\n",
       "      <td>5.0</td>\n",
       "      <td>other</td>\n",
       "      <td>0-19</td>\n",
       "    </tr>\n",
       "    <tr>\n",
       "      <th>...</th>\n",
       "      <td>...</td>\n",
       "      <td>...</td>\n",
       "      <td>...</td>\n",
       "      <td>...</td>\n",
       "      <td>...</td>\n",
       "      <td>...</td>\n",
       "      <td>...</td>\n",
       "      <td>...</td>\n",
       "      <td>...</td>\n",
       "      <td>...</td>\n",
       "      <td>...</td>\n",
       "      <td>...</td>\n",
       "      <td>...</td>\n",
       "      <td>...</td>\n",
       "      <td>...</td>\n",
       "      <td>...</td>\n",
       "      <td>...</td>\n",
       "      <td>...</td>\n",
       "      <td>...</td>\n",
       "      <td>...</td>\n",
       "    </tr>\n",
       "    <tr>\n",
       "      <th>1006</th>\n",
       "      <td>2000.03.26</td>\n",
       "      <td>2000-03-26</td>\n",
       "      <td>2000.0</td>\n",
       "      <td>Unprovoked</td>\n",
       "      <td>USA</td>\n",
       "      <td>Florida</td>\n",
       "      <td>Juno Beach, Palm Beach County</td>\n",
       "      <td>Boogie boarding</td>\n",
       "      <td>M</td>\n",
       "      <td>14</td>\n",
       "      <td>Right knee lacerated</td>\n",
       "      <td>N</td>\n",
       "      <td>FL</td>\n",
       "      <td>27.975728</td>\n",
       "      <td>-83.833017</td>\n",
       "      <td>14.0</td>\n",
       "      <td>Laceration</td>\n",
       "      <td>3.0</td>\n",
       "      <td>on_water</td>\n",
       "      <td>0-19</td>\n",
       "    </tr>\n",
       "    <tr>\n",
       "      <th>1007</th>\n",
       "      <td>2000.03.24</td>\n",
       "      <td>2000-03-24</td>\n",
       "      <td>2000.0</td>\n",
       "      <td>Unprovoked</td>\n",
       "      <td>USA</td>\n",
       "      <td>Florida</td>\n",
       "      <td>Floridana Beach, Brevard County</td>\n",
       "      <td>Surfing</td>\n",
       "      <td>M</td>\n",
       "      <td>37</td>\n",
       "      <td>Left hand bitten</td>\n",
       "      <td>N</td>\n",
       "      <td>FL</td>\n",
       "      <td>27.975728</td>\n",
       "      <td>-83.833017</td>\n",
       "      <td>37.0</td>\n",
       "      <td>Bite</td>\n",
       "      <td>3.0</td>\n",
       "      <td>on_water</td>\n",
       "      <td>30-39</td>\n",
       "    </tr>\n",
       "    <tr>\n",
       "      <th>1008</th>\n",
       "      <td>2000.03.00</td>\n",
       "      <td>2000-03-01</td>\n",
       "      <td>2000.0</td>\n",
       "      <td>Unprovoked</td>\n",
       "      <td>USA</td>\n",
       "      <td>Louisiana</td>\n",
       "      <td>Midnight Lump (38 miles offshore)</td>\n",
       "      <td>Spearfishing</td>\n",
       "      <td>M</td>\n",
       "      <td>39</td>\n",
       "      <td>No injury to diver, speargun damaged</td>\n",
       "      <td>N</td>\n",
       "      <td>LA</td>\n",
       "      <td>30.973377</td>\n",
       "      <td>-91.429910</td>\n",
       "      <td>39.0</td>\n",
       "      <td>No Injury</td>\n",
       "      <td>3.0</td>\n",
       "      <td>fishing</td>\n",
       "      <td>30-39</td>\n",
       "    </tr>\n",
       "    <tr>\n",
       "      <th>1009</th>\n",
       "      <td>2000.02.21</td>\n",
       "      <td>2000-02-21</td>\n",
       "      <td>2000.0</td>\n",
       "      <td>Unprovoked</td>\n",
       "      <td>USA</td>\n",
       "      <td>Florida</td>\n",
       "      <td>Riviera Beach, Palm Beach County</td>\n",
       "      <td>NaN</td>\n",
       "      <td>F</td>\n",
       "      <td>27</td>\n",
       "      <td>Right calf bitten</td>\n",
       "      <td>N</td>\n",
       "      <td>FL</td>\n",
       "      <td>27.975728</td>\n",
       "      <td>-83.833017</td>\n",
       "      <td>27.0</td>\n",
       "      <td>Bite</td>\n",
       "      <td>2.0</td>\n",
       "      <td>NaN</td>\n",
       "      <td>20-29</td>\n",
       "    </tr>\n",
       "    <tr>\n",
       "      <th>1010</th>\n",
       "      <td>2000.00.00</td>\n",
       "      <td>2000-01-01</td>\n",
       "      <td>2000.0</td>\n",
       "      <td>Boat</td>\n",
       "      <td>USA</td>\n",
       "      <td>Florida</td>\n",
       "      <td>Boca Grande, Lee County</td>\n",
       "      <td>Fishing for tarpon</td>\n",
       "      <td>M</td>\n",
       "      <td>NaN</td>\n",
       "      <td>No injury to occupant; shark bit propeller</td>\n",
       "      <td>N</td>\n",
       "      <td>FL</td>\n",
       "      <td>27.975728</td>\n",
       "      <td>-83.833017</td>\n",
       "      <td>NaN</td>\n",
       "      <td>No Injury</td>\n",
       "      <td>1.0</td>\n",
       "      <td>fishing</td>\n",
       "      <td>NaN</td>\n",
       "    </tr>\n",
       "  </tbody>\n",
       "</table>\n",
       "<p>1011 rows × 20 columns</p>\n",
       "</div>"
      ],
      "text/plain": [
       "       case_number       date    year        type country        area  \\\n",
       "0       2018.06.25 2018-06-25  2018.0     Boating     USA  California   \n",
       "1       2018.06.18 2018-06-18  2018.0  Unprovoked     USA     Georgia   \n",
       "2       2018.06.09 2018-06-09  2018.0     Invalid     USA      Hawaii   \n",
       "3       2018.05.27 2018-05-27  2018.0  Unprovoked     USA     Florida   \n",
       "4     2018.05.26.b 2018-05-26  2018.0  Unprovoked     USA     Florida   \n",
       "...            ...        ...     ...         ...     ...         ...   \n",
       "1006    2000.03.26 2000-03-26  2000.0  Unprovoked     USA     Florida   \n",
       "1007    2000.03.24 2000-03-24  2000.0  Unprovoked     USA     Florida   \n",
       "1008    2000.03.00 2000-03-01  2000.0  Unprovoked     USA   Louisiana   \n",
       "1009    2000.02.21 2000-02-21  2000.0  Unprovoked     USA     Florida   \n",
       "1010    2000.00.00 2000-01-01  2000.0        Boat     USA     Florida   \n",
       "\n",
       "                                               location            activity  \\\n",
       "0                           Oceanside, San Diego County            Paddling   \n",
       "1                        St. Simon Island, Glynn County            Standing   \n",
       "2                                          Habush, Oahu             Surfing   \n",
       "3     Lighhouse Point Park, Ponce Inlet, Volusia County             Fishing   \n",
       "4                          Cocoa Beach, Brevard  County             Walking   \n",
       "...                                                 ...                 ...   \n",
       "1006                      Juno Beach, Palm Beach County     Boogie boarding   \n",
       "1007                    Floridana Beach, Brevard County             Surfing   \n",
       "1008                  Midnight Lump (38 miles offshore)        Spearfishing   \n",
       "1009                   Riviera Beach, Palm Beach County                 NaN   \n",
       "1010                            Boca Grande, Lee County  Fishing for tarpon   \n",
       "\n",
       "     gender  age                                             injury fatal  \\\n",
       "0         F   57  No injury to occupant, outrigger canoe and pad...     N   \n",
       "1         F   11                         Minor injury to left thigh     N   \n",
       "2         M   48       Injury to left lower leg from surfboard skeg     N   \n",
       "3       NaN   52            Minor injury to foot. PROVOKED INCIDENT     N   \n",
       "4       NaN   15                              Lower left leg bitten     N   \n",
       "...     ...  ...                                                ...   ...   \n",
       "1006      M   14                               Right knee lacerated     N   \n",
       "1007      M   37                                   Left hand bitten     N   \n",
       "1008      M   39               No injury to diver, speargun damaged     N   \n",
       "1009      F   27                                  Right calf bitten     N   \n",
       "1010      M  NaN         No injury to occupant; shark bit propeller     N   \n",
       "\n",
       "     state   latitude   longitude  age_clean parent_injury  month  \\\n",
       "0       CA  37.271875 -119.270415       57.0     No Injury    6.0   \n",
       "1       GA  32.678125  -83.222976       11.0  Minor Injury    6.0   \n",
       "2       HI  20.460000 -157.505000       48.0  Minor Injury    6.0   \n",
       "3       FL  27.975728  -83.833017       52.0  Minor Injury    5.0   \n",
       "4       FL  27.975728  -83.833017       15.0          Bite    5.0   \n",
       "...    ...        ...         ...        ...           ...    ...   \n",
       "1006    FL  27.975728  -83.833017       14.0    Laceration    3.0   \n",
       "1007    FL  27.975728  -83.833017       37.0          Bite    3.0   \n",
       "1008    LA  30.973377  -91.429910       39.0     No Injury    3.0   \n",
       "1009    FL  27.975728  -83.833017       27.0          Bite    2.0   \n",
       "1010    FL  27.975728  -83.833017        NaN     No Injury    1.0   \n",
       "\n",
       "     parent_activity age_group  \n",
       "0           in_water     50-59  \n",
       "1              other      0-19  \n",
       "2           on_water     40-49  \n",
       "3            fishing     50-59  \n",
       "4              other      0-19  \n",
       "...              ...       ...  \n",
       "1006        on_water      0-19  \n",
       "1007        on_water     30-39  \n",
       "1008         fishing     30-39  \n",
       "1009             NaN     20-29  \n",
       "1010         fishing       NaN  \n",
       "\n",
       "[1011 rows x 20 columns]"
      ]
     },
     "execution_count": 94,
     "metadata": {},
     "output_type": "execute_result"
    }
   ],
   "source": [
    "df_usa[\"age_group\"]=pd.cut(df_usa[\"age_clean\"],bins=[0,19,29,39,49,59,100],labels=[\"0-19\",'20-29','30-39','40-49',\"50-59\",\"over 59\"])\n",
    "df_usa"
   ]
  },
  {
   "cell_type": "code",
   "execution_count": null,
   "id": "f46f704e",
   "metadata": {},
   "outputs": [],
   "source": []
  },
  {
   "cell_type": "code",
   "execution_count": 95,
   "id": "c3bafa1c",
   "metadata": {},
   "outputs": [],
   "source": [
    "branch_age_activity=df_usa.loc[:,['age_group','parent_activity']]"
   ]
  },
  {
   "cell_type": "code",
   "execution_count": 96,
   "id": "76083314",
   "metadata": {},
   "outputs": [],
   "source": [
    "branch_age_activity=branch_age_activity.dropna(axis=0)"
   ]
  },
  {
   "cell_type": "code",
   "execution_count": 97,
   "id": "ea493c5d",
   "metadata": {},
   "outputs": [
    {
     "data": {
      "image/png": "[encoded data removed]",
      "text/plain": [
       "<Figure size 1440x216 with 6 Axes>"
      ]
     },
     "metadata": {},
     "output_type": "display_data"
    }
   ],
   "source": [
    "act_age_df=branch_age_activity.groupby(['parent_activity'])[\"age_group\"].value_counts().unstack()\n",
    "colors=['#B3001B','#255C99', '#ABA9BF','#AF9164','#666699','#03B5AA','#333333']\n",
    "\n",
    "act_age_df.plot(kind='bar',subplots=True, figsize=(20,3),layout=(1,6),sharey=True,legend=False,color=colors,rot=45)\n",
    "\n",
    "\n",
    "\n",
    "plt.show()\n"
   ]
  },
  {
   "cell_type": "code",
   "execution_count": null,
   "id": "3f49eade",
   "metadata": {},
   "outputs": [],
   "source": []
  },
  {
   "cell_type": "code",
   "execution_count": null,
   "id": "de63d191",
   "metadata": {},
   "outputs": [],
   "source": []
  },
  {
   "cell_type": "code",
   "execution_count": null,
   "id": "a08a57bb",
   "metadata": {},
   "outputs": [],
   "source": []
  }
 ],
 "metadata": {
  "kernelspec": {
   "display_name": "Python 3 (ipykernel)",
   "language": "python",
   "name": "python3"
  },
  "language_info": {
   "codemirror_mode": {
    "name": "ipython",
    "version": 3
   },
   "file_extension": ".py",
   "mimetype": "text/x-python",
   "name": "python",
   "nbconvert_exporter": "python",
   "pygments_lexer": "ipython3",
   "version": "3.9.12"
  }
 },
 "nbformat": 4,
 "nbformat_minor": 5
}
